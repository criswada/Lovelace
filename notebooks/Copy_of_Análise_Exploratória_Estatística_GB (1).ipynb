{
  "nbformat": 4,
  "nbformat_minor": 0,
  "metadata": {
    "kernelspec": {
      "display_name": "Python 3",
      "language": "python",
      "name": "python3"
    },
    "language_info": {
      "codemirror_mode": {
        "name": "ipython",
        "version": 3
      },
      "file_extension": ".py",
      "mimetype": "text/x-python",
      "name": "python",
      "nbconvert_exporter": "python",
      "pygments_lexer": "ipython3",
      "version": "3.7.2"
    },
    "colab": {
      "name": "Copy of Análise_Exploratória_Estatística_GB.ipynb",
      "provenance": []
    }
  },
  "cells": [
    {
      "cell_type": "markdown",
      "metadata": {
        "id": "1ZpD4NidkHBI",
        "colab_type": "text"
      },
      "source": [
        "### Dataset GRÃ-BRETANHA"
      ]
    },
    {
      "cell_type": "code",
      "metadata": {
        "id": "uTbIw8SMkHBK",
        "colab_type": "code",
        "colab": {}
      },
      "source": [
        "#Importando as bibliotecas\n",
        "import pandas as pd\n",
        "import numpy as np\n",
        "import matplotlib.pyplot as plt\n",
        "import seaborn as sns\n",
        "import json\n",
        "import datetime\n",
        "from collections import Counter\n",
        "from sklearn.model_selection import cross_val_score\n",
        "\n",
        "import warnings\n",
        "warnings.simplefilter(action = \"ignore\", category = RuntimeWarning)"
      ],
      "execution_count": 0,
      "outputs": []
    },
    {
      "cell_type": "code",
      "metadata": {
        "id": "NsAEQBgbkHBO",
        "colab_type": "code",
        "outputId": "45905c6d-e83f-4082-f2bd-6411c29d89c6",
        "colab": {
          "base_uri": "https://localhost:8080/",
          "height": 406
        }
      },
      "source": [
        "df_GB = pd.read_csv('desktop/GBvideos.csv', delimiter=',')\n",
        "df_GB.info()"
      ],
      "execution_count": 2,
      "outputs": [
        {
          "output_type": "error",
          "ename": "FileNotFoundError",
          "evalue": "ignored",
          "traceback": [
            "\u001b[0;31m---------------------------------------------------------------------------\u001b[0m",
            "\u001b[0;31mFileNotFoundError\u001b[0m                         Traceback (most recent call last)",
            "\u001b[0;32m<ipython-input-2-54d17b344054>\u001b[0m in \u001b[0;36m<module>\u001b[0;34m()\u001b[0m\n\u001b[0;32m----> 1\u001b[0;31m \u001b[0mdf_GB\u001b[0m \u001b[0;34m=\u001b[0m \u001b[0mpd\u001b[0m\u001b[0;34m.\u001b[0m\u001b[0mread_csv\u001b[0m\u001b[0;34m(\u001b[0m\u001b[0;34m'desktop/GBvideos.csv'\u001b[0m\u001b[0;34m,\u001b[0m \u001b[0mdelimiter\u001b[0m\u001b[0;34m=\u001b[0m\u001b[0;34m','\u001b[0m\u001b[0;34m)\u001b[0m\u001b[0;34m\u001b[0m\u001b[0;34m\u001b[0m\u001b[0m\n\u001b[0m\u001b[1;32m      2\u001b[0m \u001b[0mdf_GB\u001b[0m\u001b[0;34m.\u001b[0m\u001b[0minfo\u001b[0m\u001b[0;34m(\u001b[0m\u001b[0;34m)\u001b[0m\u001b[0;34m\u001b[0m\u001b[0;34m\u001b[0m\u001b[0m\n",
            "\u001b[0;32m/usr/local/lib/python3.6/dist-packages/pandas/io/parsers.py\u001b[0m in \u001b[0;36mparser_f\u001b[0;34m(filepath_or_buffer, sep, delimiter, header, names, index_col, usecols, squeeze, prefix, mangle_dupe_cols, dtype, engine, converters, true_values, false_values, skipinitialspace, skiprows, skipfooter, nrows, na_values, keep_default_na, na_filter, verbose, skip_blank_lines, parse_dates, infer_datetime_format, keep_date_col, date_parser, dayfirst, cache_dates, iterator, chunksize, compression, thousands, decimal, lineterminator, quotechar, quoting, doublequote, escapechar, comment, encoding, dialect, error_bad_lines, warn_bad_lines, delim_whitespace, low_memory, memory_map, float_precision)\u001b[0m\n\u001b[1;32m    683\u001b[0m         )\n\u001b[1;32m    684\u001b[0m \u001b[0;34m\u001b[0m\u001b[0m\n\u001b[0;32m--> 685\u001b[0;31m         \u001b[0;32mreturn\u001b[0m \u001b[0m_read\u001b[0m\u001b[0;34m(\u001b[0m\u001b[0mfilepath_or_buffer\u001b[0m\u001b[0;34m,\u001b[0m \u001b[0mkwds\u001b[0m\u001b[0;34m)\u001b[0m\u001b[0;34m\u001b[0m\u001b[0;34m\u001b[0m\u001b[0m\n\u001b[0m\u001b[1;32m    686\u001b[0m \u001b[0;34m\u001b[0m\u001b[0m\n\u001b[1;32m    687\u001b[0m     \u001b[0mparser_f\u001b[0m\u001b[0;34m.\u001b[0m\u001b[0m__name__\u001b[0m \u001b[0;34m=\u001b[0m \u001b[0mname\u001b[0m\u001b[0;34m\u001b[0m\u001b[0;34m\u001b[0m\u001b[0m\n",
            "\u001b[0;32m/usr/local/lib/python3.6/dist-packages/pandas/io/parsers.py\u001b[0m in \u001b[0;36m_read\u001b[0;34m(filepath_or_buffer, kwds)\u001b[0m\n\u001b[1;32m    455\u001b[0m \u001b[0;34m\u001b[0m\u001b[0m\n\u001b[1;32m    456\u001b[0m     \u001b[0;31m# Create the parser.\u001b[0m\u001b[0;34m\u001b[0m\u001b[0;34m\u001b[0m\u001b[0;34m\u001b[0m\u001b[0m\n\u001b[0;32m--> 457\u001b[0;31m     \u001b[0mparser\u001b[0m \u001b[0;34m=\u001b[0m \u001b[0mTextFileReader\u001b[0m\u001b[0;34m(\u001b[0m\u001b[0mfp_or_buf\u001b[0m\u001b[0;34m,\u001b[0m \u001b[0;34m**\u001b[0m\u001b[0mkwds\u001b[0m\u001b[0;34m)\u001b[0m\u001b[0;34m\u001b[0m\u001b[0;34m\u001b[0m\u001b[0m\n\u001b[0m\u001b[1;32m    458\u001b[0m \u001b[0;34m\u001b[0m\u001b[0m\n\u001b[1;32m    459\u001b[0m     \u001b[0;32mif\u001b[0m \u001b[0mchunksize\u001b[0m \u001b[0;32mor\u001b[0m \u001b[0miterator\u001b[0m\u001b[0;34m:\u001b[0m\u001b[0;34m\u001b[0m\u001b[0;34m\u001b[0m\u001b[0m\n",
            "\u001b[0;32m/usr/local/lib/python3.6/dist-packages/pandas/io/parsers.py\u001b[0m in \u001b[0;36m__init__\u001b[0;34m(self, f, engine, **kwds)\u001b[0m\n\u001b[1;32m    893\u001b[0m             \u001b[0mself\u001b[0m\u001b[0;34m.\u001b[0m\u001b[0moptions\u001b[0m\u001b[0;34m[\u001b[0m\u001b[0;34m\"has_index_names\"\u001b[0m\u001b[0;34m]\u001b[0m \u001b[0;34m=\u001b[0m \u001b[0mkwds\u001b[0m\u001b[0;34m[\u001b[0m\u001b[0;34m\"has_index_names\"\u001b[0m\u001b[0;34m]\u001b[0m\u001b[0;34m\u001b[0m\u001b[0;34m\u001b[0m\u001b[0m\n\u001b[1;32m    894\u001b[0m \u001b[0;34m\u001b[0m\u001b[0m\n\u001b[0;32m--> 895\u001b[0;31m         \u001b[0mself\u001b[0m\u001b[0;34m.\u001b[0m\u001b[0m_make_engine\u001b[0m\u001b[0;34m(\u001b[0m\u001b[0mself\u001b[0m\u001b[0;34m.\u001b[0m\u001b[0mengine\u001b[0m\u001b[0;34m)\u001b[0m\u001b[0;34m\u001b[0m\u001b[0;34m\u001b[0m\u001b[0m\n\u001b[0m\u001b[1;32m    896\u001b[0m \u001b[0;34m\u001b[0m\u001b[0m\n\u001b[1;32m    897\u001b[0m     \u001b[0;32mdef\u001b[0m \u001b[0mclose\u001b[0m\u001b[0;34m(\u001b[0m\u001b[0mself\u001b[0m\u001b[0;34m)\u001b[0m\u001b[0;34m:\u001b[0m\u001b[0;34m\u001b[0m\u001b[0;34m\u001b[0m\u001b[0m\n",
            "\u001b[0;32m/usr/local/lib/python3.6/dist-packages/pandas/io/parsers.py\u001b[0m in \u001b[0;36m_make_engine\u001b[0;34m(self, engine)\u001b[0m\n\u001b[1;32m   1133\u001b[0m     \u001b[0;32mdef\u001b[0m \u001b[0m_make_engine\u001b[0m\u001b[0;34m(\u001b[0m\u001b[0mself\u001b[0m\u001b[0;34m,\u001b[0m \u001b[0mengine\u001b[0m\u001b[0;34m=\u001b[0m\u001b[0;34m\"c\"\u001b[0m\u001b[0;34m)\u001b[0m\u001b[0;34m:\u001b[0m\u001b[0;34m\u001b[0m\u001b[0;34m\u001b[0m\u001b[0m\n\u001b[1;32m   1134\u001b[0m         \u001b[0;32mif\u001b[0m \u001b[0mengine\u001b[0m \u001b[0;34m==\u001b[0m \u001b[0;34m\"c\"\u001b[0m\u001b[0;34m:\u001b[0m\u001b[0;34m\u001b[0m\u001b[0;34m\u001b[0m\u001b[0m\n\u001b[0;32m-> 1135\u001b[0;31m             \u001b[0mself\u001b[0m\u001b[0;34m.\u001b[0m\u001b[0m_engine\u001b[0m \u001b[0;34m=\u001b[0m \u001b[0mCParserWrapper\u001b[0m\u001b[0;34m(\u001b[0m\u001b[0mself\u001b[0m\u001b[0;34m.\u001b[0m\u001b[0mf\u001b[0m\u001b[0;34m,\u001b[0m \u001b[0;34m**\u001b[0m\u001b[0mself\u001b[0m\u001b[0;34m.\u001b[0m\u001b[0moptions\u001b[0m\u001b[0;34m)\u001b[0m\u001b[0;34m\u001b[0m\u001b[0;34m\u001b[0m\u001b[0m\n\u001b[0m\u001b[1;32m   1136\u001b[0m         \u001b[0;32melse\u001b[0m\u001b[0;34m:\u001b[0m\u001b[0;34m\u001b[0m\u001b[0;34m\u001b[0m\u001b[0m\n\u001b[1;32m   1137\u001b[0m             \u001b[0;32mif\u001b[0m \u001b[0mengine\u001b[0m \u001b[0;34m==\u001b[0m \u001b[0;34m\"python\"\u001b[0m\u001b[0;34m:\u001b[0m\u001b[0;34m\u001b[0m\u001b[0;34m\u001b[0m\u001b[0m\n",
            "\u001b[0;32m/usr/local/lib/python3.6/dist-packages/pandas/io/parsers.py\u001b[0m in \u001b[0;36m__init__\u001b[0;34m(self, src, **kwds)\u001b[0m\n\u001b[1;32m   1915\u001b[0m         \u001b[0mkwds\u001b[0m\u001b[0;34m[\u001b[0m\u001b[0;34m\"usecols\"\u001b[0m\u001b[0;34m]\u001b[0m \u001b[0;34m=\u001b[0m \u001b[0mself\u001b[0m\u001b[0;34m.\u001b[0m\u001b[0musecols\u001b[0m\u001b[0;34m\u001b[0m\u001b[0;34m\u001b[0m\u001b[0m\n\u001b[1;32m   1916\u001b[0m \u001b[0;34m\u001b[0m\u001b[0m\n\u001b[0;32m-> 1917\u001b[0;31m         \u001b[0mself\u001b[0m\u001b[0;34m.\u001b[0m\u001b[0m_reader\u001b[0m \u001b[0;34m=\u001b[0m \u001b[0mparsers\u001b[0m\u001b[0;34m.\u001b[0m\u001b[0mTextReader\u001b[0m\u001b[0;34m(\u001b[0m\u001b[0msrc\u001b[0m\u001b[0;34m,\u001b[0m \u001b[0;34m**\u001b[0m\u001b[0mkwds\u001b[0m\u001b[0;34m)\u001b[0m\u001b[0;34m\u001b[0m\u001b[0;34m\u001b[0m\u001b[0m\n\u001b[0m\u001b[1;32m   1918\u001b[0m         \u001b[0mself\u001b[0m\u001b[0;34m.\u001b[0m\u001b[0munnamed_cols\u001b[0m \u001b[0;34m=\u001b[0m \u001b[0mself\u001b[0m\u001b[0;34m.\u001b[0m\u001b[0m_reader\u001b[0m\u001b[0;34m.\u001b[0m\u001b[0munnamed_cols\u001b[0m\u001b[0;34m\u001b[0m\u001b[0;34m\u001b[0m\u001b[0m\n\u001b[1;32m   1919\u001b[0m \u001b[0;34m\u001b[0m\u001b[0m\n",
            "\u001b[0;32mpandas/_libs/parsers.pyx\u001b[0m in \u001b[0;36mpandas._libs.parsers.TextReader.__cinit__\u001b[0;34m()\u001b[0m\n",
            "\u001b[0;32mpandas/_libs/parsers.pyx\u001b[0m in \u001b[0;36mpandas._libs.parsers.TextReader._setup_parser_source\u001b[0;34m()\u001b[0m\n",
            "\u001b[0;31mFileNotFoundError\u001b[0m: [Errno 2] File b'desktop/GBvideos.csv' does not exist: b'desktop/GBvideos.csv'"
          ]
        }
      ]
    },
    {
      "cell_type": "code",
      "metadata": {
        "id": "rM3XT5kLkHBS",
        "colab_type": "code",
        "colab": {}
      },
      "source": [
        "df_GB.head().T"
      ],
      "execution_count": 0,
      "outputs": []
    },
    {
      "cell_type": "markdown",
      "metadata": {
        "id": "l0nhT-T0kHBU",
        "colab_type": "text"
      },
      "source": [
        "### Tratamento do DataFrame"
      ]
    },
    {
      "cell_type": "code",
      "metadata": {
        "id": "1Phju1RskHBV",
        "colab_type": "code",
        "colab": {}
      },
      "source": [
        "#Fazendo uma cópia do Dataframe\n",
        "df_GB = df_GB.copy()"
      ],
      "execution_count": 0,
      "outputs": []
    },
    {
      "cell_type": "code",
      "metadata": {
        "id": "vsjnscDakHBY",
        "colab_type": "code",
        "colab": {}
      },
      "source": [
        "df_GB.describe()"
      ],
      "execution_count": 0,
      "outputs": []
    },
    {
      "cell_type": "code",
      "metadata": {
        "id": "COfL8uRckHBb",
        "colab_type": "code",
        "colab": {}
      },
      "source": [
        "#Importando o json para ver a category_id\n",
        "#root:{} 3 items\n",
        "#kind:youtube#videoCategoryListResponse\n",
        "#etag:\"m2yskBQFythfE4irbTIeOgYYfBU/1v2mrzYSYG6onNLt2qTj13hkQZk\"\n",
        "#items:[] 31 items\n",
        "\n",
        "import json\n",
        "\n",
        "with open('desktop/GB_category_id.json', 'r') as f:\n",
        "  categ_gb = json.load(f)\n",
        "\n",
        "for k in categ_gb['items']:\n",
        "  print(k['id'], k['snippet']['title'])"
      ],
      "execution_count": 0,
      "outputs": []
    },
    {
      "cell_type": "code",
      "metadata": {
        "id": "d63Gwn3LkHBd",
        "colab_type": "code",
        "colab": {}
      },
      "source": [
        "#Analisando a quantidade de categorias \n",
        "\n",
        "import json\n",
        "\n",
        "# open json file with category names\n",
        "with open('desktop/GB_category_id.json', 'r') as f:\n",
        "  categ_us = json.load(f)\n",
        "\n",
        "categ_dic = {}\n",
        "\n",
        "for k in categ_us['items']:\n",
        "  categ_dic[k['id']]= k['snippet']['title']\n",
        "\n",
        "#print(categ_dic)\n",
        "\n",
        "# Creating new column with category names\n",
        "temp = df_GB.category_id.copy()\n",
        "temp = temp.astype('str')\n",
        "df_GB['category_name'] = temp.map(categ_dic)\n",
        "\n",
        "#print(df.loc[:10, ['category_id', 'category_name']])"
      ],
      "execution_count": 0,
      "outputs": []
    },
    {
      "cell_type": "code",
      "metadata": {
        "id": "JQiQmXSskHBf",
        "colab_type": "code",
        "colab": {}
      },
      "source": [
        "df_GB2 = df_GB.copy()\n",
        "df_GB2.drop_duplicates('video_id', inplace=True)\n",
        "sns.countplot(y='category_name', data=df_GB2, order=df_GB2.category_name.value_counts().index )\n",
        "plt.title('Category popularity among top 200')\n",
        "plt.ylabel('Category')"
      ],
      "execution_count": 0,
      "outputs": []
    },
    {
      "cell_type": "markdown",
      "metadata": {
        "id": "C9HzrfhvkHBi",
        "colab_type": "text"
      },
      "source": [
        "### Outliers"
      ]
    },
    {
      "cell_type": "code",
      "metadata": {
        "id": "Vz3G8iuikHBj",
        "colab_type": "code",
        "colab": {}
      },
      "source": [
        "#Função para detectar os outliers do novo DataFrame\n",
        "\n",
        "def detect_outliers(df_GB2,n,features):\n",
        "    outlier_indices = []\n",
        "    \n",
        "    for col in features:\n",
        "\n",
        "        Q1 = np.percentile(df_GB2[col], 25)\n",
        "        Q3 = np.percentile(df_GB2[col],75)\n",
        "        IQR = Q3 - Q1\n",
        "\n",
        "        outlier_step = 1.5 * IQR\n",
        "        outlier_list_col = df_GB2[(df_GB2[col] < Q1 - outlier_step) | (df_GB2[col] > Q3 + outlier_step )].index\n",
        "        outlier_indices.extend(outlier_list_col)\n",
        "\n",
        "    outlier_indices = Counter(outlier_indices)        \n",
        "    multiple_outliers = list( k for k, v in outlier_indices.items() if v > n )\n",
        "    \n",
        "    return multiple_outliers "
      ],
      "execution_count": 0,
      "outputs": []
    },
    {
      "cell_type": "code",
      "metadata": {
        "id": "e8gzpB3okHBl",
        "colab_type": "code",
        "colab": {}
      },
      "source": [
        "Outliers_to_drop = detect_outliers(df_GB2,1,['views', 'likes', 'dislikes', 'comment_count'])"
      ],
      "execution_count": 0,
      "outputs": []
    },
    {
      "cell_type": "code",
      "metadata": {
        "id": "OQxMe9WZkHBo",
        "colab_type": "code",
        "colab": {}
      },
      "source": [
        "df_GB2.loc[Outliers_to_drop]"
      ],
      "execution_count": 0,
      "outputs": []
    },
    {
      "cell_type": "code",
      "metadata": {
        "id": "CBUPVStMkHBr",
        "colab_type": "code",
        "colab": {}
      },
      "source": [
        "#Deletando os Outliers encontrados\n",
        "df_GB2 = df_GB2.drop(Outliers_to_drop, axis = 0).reset_index(drop=True)"
      ],
      "execution_count": 0,
      "outputs": []
    },
    {
      "cell_type": "code",
      "metadata": {
        "id": "SHBfJ0L1kHBt",
        "colab_type": "code",
        "colab": {}
      },
      "source": [
        "#Percentual dos valores nulos\n",
        "percent_missing = round(df_GB2.isnull().sum() * 100 / len(df_GB2),2)\n",
        "missing_value_df = pd.DataFrame({'column_name': df_GB2.columns, 'percent_missing': percent_missing})\n",
        "missing_value_df = missing_value_df[missing_value_df['percent_missing'] > 0]\n",
        "missing_value_df.sort_values('percent_missing', inplace=True, ascending=False)\n",
        "missing_value_df"
      ],
      "execution_count": 0,
      "outputs": []
    },
    {
      "cell_type": "code",
      "metadata": {
        "id": "A-DFBzkjkHBw",
        "colab_type": "code",
        "colab": {}
      },
      "source": [
        "#Substituindo os valores na da coluna description e category_name por'Missing' \n",
        "df_GB2.description.fillna('Missing', inplace=True)\n",
        "df_GB2.category_name.fillna('Missing', inplace=True)"
      ],
      "execution_count": 0,
      "outputs": []
    },
    {
      "cell_type": "code",
      "metadata": {
        "id": "KQSoYV5wkHBy",
        "colab_type": "code",
        "colab": {}
      },
      "source": [
        "# Detectando Valores nulos\n",
        "df_GB2.isnull().sum()/ len(df_GB2) * 100"
      ],
      "execution_count": 0,
      "outputs": []
    },
    {
      "cell_type": "code",
      "metadata": {
        "id": "xPluZytgkHB1",
        "colab_type": "code",
        "colab": {}
      },
      "source": [
        "# Bloxpot feature 'category_id'\n",
        "plt.boxplot(df_GB2['category_id'])\n",
        "plt.title('Boxplot: category_id')\n",
        "plt.ylabel('category_id')"
      ],
      "execution_count": 0,
      "outputs": []
    },
    {
      "cell_type": "markdown",
      "metadata": {
        "id": "DZACLS6IkHB3",
        "colab_type": "text"
      },
      "source": [
        "#### Análise e Visualização"
      ]
    },
    {
      "cell_type": "code",
      "metadata": {
        "id": "Y4_3Wq06kHB4",
        "colab_type": "code",
        "colab": {}
      },
      "source": [
        "#Correlação de todas as variáveis\n",
        "\n",
        "plt.figure(figsize=[20,10])\n",
        "plt.title('Correlation between features total dataset')\n",
        "sns.heatmap(df_GB2.corr(), annot=True, fmt='.2f', vmin=-1, vmax=1, cmap=sns.diverging_palette(999, 999, n=20))\n",
        "plt.show()"
      ],
      "execution_count": 0,
      "outputs": []
    },
    {
      "cell_type": "markdown",
      "metadata": {
        "id": "IzGi8mISkHB6",
        "colab_type": "text"
      },
      "source": [
        "### Modelando"
      ]
    },
    {
      "cell_type": "code",
      "metadata": {
        "id": "TO0kX1TwkHB7",
        "colab_type": "code",
        "colab": {}
      },
      "source": [
        "#Deletando as colunas \"genero\" e \"des_email\"\n",
        "train_bkp = df_GB2.copy()\n",
        "df_GB2.drop(['video_id', 'trending_date', 'title', 'channel_title', 'publish_time', 'tags', 'thumbnail_link', 'description', 'category_name', 'comments_disabled', 'ratings_disabled', 'video_error_or_removed' ],axis=1,inplace=True)\n",
        "df_GB2.head()"
      ],
      "execution_count": 0,
      "outputs": []
    },
    {
      "cell_type": "code",
      "metadata": {
        "id": "_wz91jRLkHB-",
        "colab_type": "code",
        "colab": {}
      },
      "source": [
        "x = df_GB2\n",
        "y = df_GB2"
      ],
      "execution_count": 0,
      "outputs": []
    },
    {
      "cell_type": "code",
      "metadata": {
        "id": "NAS64hCkkHCC",
        "colab_type": "code",
        "colab": {}
      },
      "source": [
        "#Separando o dataframe em traino e teste\n",
        "from sklearn.model_selection import train_test_split\n",
        "\n",
        "x_train, x_test, y_train, y_test = train_test_split(x,y,test_size=0.3,random_state=1)"
      ],
      "execution_count": 0,
      "outputs": []
    },
    {
      "cell_type": "code",
      "metadata": {
        "id": "5Sr7s6lSkHCG",
        "colab_type": "code",
        "colab": {}
      },
      "source": [
        "#Construção do Modelo de classificação Random Forest\n",
        "from sklearn.ensemble import RandomForestClassifier\n",
        "rfmodel = RandomForestClassifier(random_state=0,n_estimators=450,criterion='gini',n_jobs=-1,max_depth = 8,min_samples_leaf=1,min_samples_split= 11)\n",
        "\n",
        "#Treinamento do modelo em X_train, Y_train\n",
        "rfmodel.fit(x_train,y_train)\n",
        "\n",
        "#Predição do modelo no X_test\n",
        "y_pred = rfmodel.predict(x_test)\n",
        "proba = rfmodel.predict_proba(x_test)\n",
        "\n",
        "#Variáveis Importantes\n",
        "imp = rfmodel.feature_importances_\n",
        "names = df_GB2.columns\n",
        "\n",
        "imp, names = zip(*sorted(zip(imp, names)))\n",
        "\n",
        "plt.barh(range(len(names)), imp, align = \"center\")\n",
        "plt.yticks(range(len(names)), names)\n",
        "plt.xlabel(\"Importance of Features\")\n",
        "plt.ylabel(\"Features\")\n",
        "plt.title(\"Importance of each feature\")\n",
        "fig=plt.gcf()\n",
        "fig.set_size_inches(18,5)\n",
        "plt.show()"
      ],
      "execution_count": 0,
      "outputs": []
    },
    {
      "cell_type": "code",
      "metadata": {
        "id": "ANpeL_OskHCK",
        "colab_type": "code",
        "colab": {}
      },
      "source": [
        "a = {'names':names,'imp':imp}\n",
        "tabela = pd.DataFrame(data=a)\n",
        "tabela"
      ],
      "execution_count": 0,
      "outputs": []
    }
  ]
}