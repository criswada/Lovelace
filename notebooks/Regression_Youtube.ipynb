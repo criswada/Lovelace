{
  "nbformat": 4,
  "nbformat_minor": 0,
  "metadata": {
    "colab": {
      "name": "Regression_Youtube.ipynb",
      "provenance": [],
      "collapsed_sections": []
    },
    "kernelspec": {
      "name": "python3",
      "display_name": "Python 3"
    }
  },
  "cells": [
    {
      "cell_type": "code",
      "metadata": {
        "id": "qEnLHnk0GBWR",
        "colab_type": "code",
        "colab": {}
      },
      "source": [
        "import pandas as pd\n",
        "import numpy as np\n",
        "import matplotlib.pyplot as plt\n",
        "import seaborn as sns\n",
        "from statsmodels.graphics.tsaplots import plot_acf, plot_pacf\n",
        "\n",
        "from sklearn.preprocessing import StandardScaler, LabelEncoder, OneHotEncoder\n",
        "from sklearn.linear_model import LinearRegression\n",
        "from sklearn.model_selection import train_test_split\n",
        "from sklearn.metrics import mean_squared_error, mean_absolute_error\n"
      ],
      "execution_count": 0,
      "outputs": []
    },
    {
      "cell_type": "code",
      "metadata": {
        "id": "j3Duo-DGRhE_",
        "colab_type": "code",
        "colab": {}
      },
      "source": [
        "df = pd.read_csv('USvideos.csv')"
      ],
      "execution_count": 0,
      "outputs": []
    },
    {
      "cell_type": "code",
      "metadata": {
        "id": "blrdlU5mRg74",
        "colab_type": "code",
        "outputId": "53c5fac0-e9f2-46a6-8d31-e7c79adf93e5",
        "colab": {
          "base_uri": "https://localhost:8080/",
          "height": 374
        }
      },
      "source": [
        "df.info()"
      ],
      "execution_count": 3,
      "outputs": [
        {
          "output_type": "stream",
          "text": [
            "<class 'pandas.core.frame.DataFrame'>\n",
            "RangeIndex: 40949 entries, 0 to 40948\n",
            "Data columns (total 16 columns):\n",
            "video_id                  40949 non-null object\n",
            "trending_date             40949 non-null object\n",
            "title                     40949 non-null object\n",
            "channel_title             40949 non-null object\n",
            "category_id               40949 non-null int64\n",
            "publish_time              40949 non-null object\n",
            "tags                      40949 non-null object\n",
            "views                     40949 non-null int64\n",
            "likes                     40949 non-null int64\n",
            "dislikes                  40949 non-null int64\n",
            "comment_count             40949 non-null int64\n",
            "thumbnail_link            40949 non-null object\n",
            "comments_disabled         40949 non-null bool\n",
            "ratings_disabled          40949 non-null bool\n",
            "video_error_or_removed    40949 non-null bool\n",
            "description               40379 non-null object\n",
            "dtypes: bool(3), int64(5), object(8)\n",
            "memory usage: 4.2+ MB\n"
          ],
          "name": "stdout"
        }
      ]
    },
    {
      "cell_type": "code",
      "metadata": {
        "id": "qZurLSB2RgrT",
        "colab_type": "code",
        "outputId": "3b036627-17dd-4c20-9e38-75b742f96cc2",
        "colab": {
          "base_uri": "https://localhost:8080/",
          "height": 289
        }
      },
      "source": [
        "def count_unique(x):\n",
        "  for col in x.columns:\n",
        "    print(f'{col}: {x[col].nunique()}')\n",
        "\n",
        "count_unique(df)"
      ],
      "execution_count": 4,
      "outputs": [
        {
          "output_type": "stream",
          "text": [
            "video_id: 6351\n",
            "trending_date: 205\n",
            "title: 6455\n",
            "channel_title: 2207\n",
            "category_id: 16\n",
            "publish_time: 6269\n",
            "tags: 6055\n",
            "views: 40478\n",
            "likes: 29850\n",
            "dislikes: 8516\n",
            "comment_count: 13773\n",
            "thumbnail_link: 6352\n",
            "comments_disabled: 2\n",
            "ratings_disabled: 2\n",
            "video_error_or_removed: 2\n",
            "description: 6901\n"
          ],
          "name": "stdout"
        }
      ]
    },
    {
      "cell_type": "code",
      "metadata": {
        "id": "bTWbwGlDx_g1",
        "colab_type": "code",
        "outputId": "89cce175-fc42-4c98-9d6d-754feba5e4c6",
        "colab": {
          "base_uri": "https://localhost:8080/",
          "height": 68
        }
      },
      "source": [
        "nsamples = df.shape[0]\n",
        "\n",
        "# Remove error/removed videos\n",
        "df = df.loc[df.video_error_or_removed == False, ]\n",
        "print('Remained: ', f'{(df.shape[0]/nsamples)*100}', '% of the original dataset size')\n",
        "\n",
        "# Remove rating disabled videos\n",
        "df = df.loc[df.ratings_disabled == False, ]\n",
        "print('Remained: ', f'{(df.shape[0]/nsamples)*100}', '% of the original dataset size')\n",
        "\n",
        "# Remove comment disabled videos\n",
        "df = df.loc[df.comments_disabled == False, ]\n",
        "print('Remained: ', f'{(df.shape[0]/nsamples)*100}', '% of the original dataset size')\n"
      ],
      "execution_count": 5,
      "outputs": [
        {
          "output_type": "stream",
          "text": [
            "Remained:  99.94383257222398 % of the original dataset size\n",
            "Remained:  99.53112408117414 % of the original dataset size\n",
            "Remained:  98.24415736648025 % of the original dataset size\n"
          ],
          "name": "stdout"
        }
      ]
    },
    {
      "cell_type": "code",
      "metadata": {
        "id": "FRJyF82NxUiC",
        "colab_type": "code",
        "colab": {
          "base_uri": "https://localhost:8080/",
          "height": 68
        },
        "outputId": "5650cc53-428b-428d-95a8-a9997f3bdc14"
      },
      "source": [
        "# Columns not considered in preliminar model \n",
        "# dependent of NLP implementation or of low correlation with target\n",
        "\n",
        "drop_col = [ 'tags', 'description', 'video_error_or_removed', 'ratings_disabled', 'comments_disabled', 'thumbnail_link']\n",
        "df.drop(columns=drop_col, inplace=True)\n",
        "\n",
        "df.columns"
      ],
      "execution_count": 6,
      "outputs": [
        {
          "output_type": "execute_result",
          "data": {
            "text/plain": [
              "Index(['video_id', 'trending_date', 'title', 'channel_title', 'category_id',\n",
              "       'publish_time', 'views', 'likes', 'dislikes', 'comment_count'],\n",
              "      dtype='object')"
            ]
          },
          "metadata": {
            "tags": []
          },
          "execution_count": 6
        }
      ]
    },
    {
      "cell_type": "code",
      "metadata": {
        "id": "QipyUEWAV3Ax",
        "colab_type": "code",
        "colab": {}
      },
      "source": [
        "df.trending_date = pd.to_datetime(df.trending_date, format='%y.%d.%m')"
      ],
      "execution_count": 0,
      "outputs": []
    },
    {
      "cell_type": "code",
      "metadata": {
        "id": "nH4cI5GFgZYc",
        "colab_type": "code",
        "colab": {
          "base_uri": "https://localhost:8080/",
          "height": 390
        },
        "outputId": "4b6ec288-6f1a-4990-efa5-e2fd04e4d151"
      },
      "source": [
        "# Example of top 10 liked videos in Nov 2017\n",
        "\n",
        "df_2017 = df[df.trending_date.dt.year == 2017]\n",
        "var = 'views'\n",
        "mon = 11 #11-12\n",
        "\n",
        "df_2017.loc[df.trending_date.dt.month == mon, ['video_id', 'title', var]].groupby(['video_id', 'title']).sum().sort_values(var, ascending = False).head(10)"
      ],
      "execution_count": 8,
      "outputs": [
        {
          "output_type": "execute_result",
          "data": {
            "text/html": [
              "<div>\n",
              "<style scoped>\n",
              "    .dataframe tbody tr th:only-of-type {\n",
              "        vertical-align: middle;\n",
              "    }\n",
              "\n",
              "    .dataframe tbody tr th {\n",
              "        vertical-align: top;\n",
              "    }\n",
              "\n",
              "    .dataframe thead th {\n",
              "        text-align: right;\n",
              "    }\n",
              "</style>\n",
              "<table border=\"1\" class=\"dataframe\">\n",
              "  <thead>\n",
              "    <tr style=\"text-align: right;\">\n",
              "      <th></th>\n",
              "      <th></th>\n",
              "      <th>views</th>\n",
              "    </tr>\n",
              "    <tr>\n",
              "      <th>video_id</th>\n",
              "      <th>title</th>\n",
              "      <th></th>\n",
              "    </tr>\n",
              "  </thead>\n",
              "  <tbody>\n",
              "    <tr>\n",
              "      <th>TyHvyGVs42U</th>\n",
              "      <th>Luis Fonsi, Demi Lovato - Échame La Culpa</th>\n",
              "      <td>534738794</td>\n",
              "    </tr>\n",
              "    <tr>\n",
              "      <th>ZJDMWVZta3M</th>\n",
              "      <th>Incredibles 2 Official Teaser Trailer</th>\n",
              "      <td>215069746</td>\n",
              "    </tr>\n",
              "    <tr>\n",
              "      <th>kTlv5_Bs8aw</th>\n",
              "      <th>BTS (방탄소년단) 'MIC Drop (Steve Aoki Remix)' Official MV</th>\n",
              "      <td>151195373</td>\n",
              "    </tr>\n",
              "    <tr>\n",
              "      <th>2Vv-BfVoq4g</th>\n",
              "      <th>Ed Sheeran - Perfect (Official Music Video)</th>\n",
              "      <td>116055498</td>\n",
              "    </tr>\n",
              "    <tr>\n",
              "      <th>EBt_88nxG4c</th>\n",
              "      <th>P!nk - Beautiful Trauma (Official Video)</th>\n",
              "      <td>116054176</td>\n",
              "    </tr>\n",
              "    <tr>\n",
              "      <th>n1WpP7iowLc</th>\n",
              "      <th>Eminem - Walk On Water (Audio) ft. Beyoncé</th>\n",
              "      <td>111426920</td>\n",
              "    </tr>\n",
              "    <tr>\n",
              "      <th>cH4E_t3m3xM</th>\n",
              "      <th>Selena Gomez, Marshmello - Wolves</th>\n",
              "      <td>105280619</td>\n",
              "    </tr>\n",
              "    <tr>\n",
              "      <th>8-Cjsnq8kVU</th>\n",
              "      <th>Deadpool’s “Wet on Wet” Teaser</th>\n",
              "      <td>75091844</td>\n",
              "    </tr>\n",
              "    <tr>\n",
              "      <th>_EvMYEfF_hQ</th>\n",
              "      <th>Stranger Things Cast Answer the Web's Most Searched Questions | WIRED</th>\n",
              "      <td>74021271</td>\n",
              "    </tr>\n",
              "    <tr>\n",
              "      <th>fRj34o4hN4I</th>\n",
              "      <th>What's new, Atlas?</th>\n",
              "      <td>67699537</td>\n",
              "    </tr>\n",
              "  </tbody>\n",
              "</table>\n",
              "</div>"
            ],
            "text/plain": [
              "                                                                    views\n",
              "video_id    title                                                        \n",
              "TyHvyGVs42U Luis Fonsi, Demi Lovato - Échame La Culpa           534738794\n",
              "ZJDMWVZta3M Incredibles 2 Official Teaser Trailer               215069746\n",
              "kTlv5_Bs8aw BTS (방탄소년단) 'MIC Drop (Steve Aoki Remix)' Offic...  151195373\n",
              "2Vv-BfVoq4g Ed Sheeran - Perfect (Official Music Video)         116055498\n",
              "EBt_88nxG4c P!nk - Beautiful Trauma (Official Video)            116054176\n",
              "n1WpP7iowLc Eminem - Walk On Water (Audio) ft. Beyoncé          111426920\n",
              "cH4E_t3m3xM Selena Gomez, Marshmello - Wolves                   105280619\n",
              "8-Cjsnq8kVU Deadpool’s “Wet on Wet” Teaser                       75091844\n",
              "_EvMYEfF_hQ Stranger Things Cast Answer the Web's Most Sear...   74021271\n",
              "fRj34o4hN4I What's new, Atlas?                                   67699537"
            ]
          },
          "metadata": {
            "tags": []
          },
          "execution_count": 8
        }
      ]
    },
    {
      "cell_type": "code",
      "metadata": {
        "id": "K74T4tq-fMR6",
        "colab_type": "code",
        "colab": {
          "base_uri": "https://localhost:8080/",
          "height": 344
        },
        "outputId": "4457b649-61ea-47a2-fe5c-709e77161b72"
      },
      "source": [
        "# Verify how many days the video was trending\n",
        "# Example: id:'TyHvyGVs42U' - title: 'Luis Fonsi, Demi Lovato - Échame La Culpa'\n",
        "\n",
        "temp = df.loc[df.video_id == 'TyHvyGVs42U', ['views', 'trending_date'] ]\n",
        "temp.trending_date = temp.trending_date.apply(lambda x: x.date())\n",
        "\n",
        "_ = sns.barplot(x='trending_date', y='views', data=temp )\n",
        "plt.xticks(rotation=90)\n",
        "plt.title('Days which the video was trending')\n",
        "plt.show()"
      ],
      "execution_count": 9,
      "outputs": [
        {
          "output_type": "display_data",
          "data": {
            "image/png": "[encoded data removed]",
            "text/plain": [
              "<Figure size 432x288 with 1 Axes>"
            ]
          },
          "metadata": {
            "tags": []
          }
        }
      ]
    },
    {
      "cell_type": "code",
      "metadata": {
        "id": "8G27h6BtkdOl",
        "colab_type": "code",
        "colab": {}
      },
      "source": [
        "# Create column of video publication hour\n",
        "df.publish_time = pd.to_datetime(df.publish_time, format='%Y-%m-%d')\n",
        "df['publish_hour'] = df.publish_time.dt.hour"
      ],
      "execution_count": 0,
      "outputs": []
    },
    {
      "cell_type": "code",
      "metadata": {
        "id": "OLd30BxPoa9m",
        "colab_type": "code",
        "colab": {}
      },
      "source": [
        "# Select top 100 channels and assign remainings to 'other' category \n",
        "# df2 = df.copy()\n",
        "# df2.drop_duplicates('video_id', inplace=True)\n",
        "# temp2 = df2.channel_title.value_counts().iloc[:100].index\n",
        "\n",
        "# df.channel_categ = df.channel_title\n",
        "# df.loc[[item not in temp2 for item in df.channel_title], 'channel_categ'] = 'other'\n"
      ],
      "execution_count": 0,
      "outputs": []
    },
    {
      "cell_type": "code",
      "metadata": {
        "id": "66kd3uyWt1JA",
        "colab_type": "code",
        "colab": {}
      },
      "source": [
        "# df.channel_categ.value_counts()[:10]"
      ],
      "execution_count": 0,
      "outputs": []
    },
    {
      "cell_type": "code",
      "metadata": {
        "id": "-NjsvTRR2awA",
        "colab_type": "code",
        "colab": {}
      },
      "source": [
        "# Selection of model features and 'views' as target\n",
        "\n",
        "df.sort_values('views', ascending=False, inplace=True)\n",
        "df.drop_duplicates('video_id', inplace=True) # select video record with highest view and delete remaining\n",
        "\n",
        "df.drop(columns=['video_id', 'trending_date', 'title', 'channel_title', 'publish_time'] , inplace=True)"
      ],
      "execution_count": 0,
      "outputs": []
    },
    {
      "cell_type": "code",
      "metadata": {
        "id": "S2PZqR6x2OjX",
        "colab_type": "code",
        "colab": {
          "base_uri": "https://localhost:8080/",
          "height": 51
        },
        "outputId": "a76f920b-1da9-41ea-ccd2-27ed444d6db6"
      },
      "source": [
        "# Split in train and test dataset\n",
        "\n",
        "X = df.drop(columns=['views']).copy()\n",
        "y = df['views']\n",
        "\n",
        "X_train, X_test, y_train, y_test = train_test_split(X, y, test_size=.25)\n",
        "\n",
        "print(X_train.shape, y_train.shape)\n",
        "print(X_test.shape, y_test.shape)"
      ],
      "execution_count": 13,
      "outputs": [
        {
          "output_type": "stream",
          "text": [
            "(4678, 5) (4678,)\n",
            "(1560, 5) (1560,)\n"
          ],
          "name": "stdout"
        }
      ]
    },
    {
      "cell_type": "code",
      "metadata": {
        "id": "2sgzljLr2OdN",
        "colab_type": "code",
        "colab": {
          "base_uri": "https://localhost:8080/",
          "height": 204
        },
        "outputId": "2eac4d90-db55-418a-fbdd-f6ba8a700e82"
      },
      "source": [
        "df.info()"
      ],
      "execution_count": 14,
      "outputs": [
        {
          "output_type": "stream",
          "text": [
            "<class 'pandas.core.frame.DataFrame'>\n",
            "Int64Index: 6238 entries, 38547 to 14782\n",
            "Data columns (total 6 columns):\n",
            "category_id      6238 non-null int64\n",
            "views            6238 non-null int64\n",
            "likes            6238 non-null int64\n",
            "dislikes         6238 non-null int64\n",
            "comment_count    6238 non-null int64\n",
            "publish_hour     6238 non-null int64\n",
            "dtypes: int64(6)\n",
            "memory usage: 341.1 KB\n"
          ],
          "name": "stdout"
        }
      ]
    },
    {
      "cell_type": "code",
      "metadata": {
        "id": "97Zyd7JC7Tmt",
        "colab_type": "code",
        "colab": {}
      },
      "source": [
        "# Encoder categorical features to numerical or one-hot\n",
        "\n",
        "# encoder_channel = LabelEncoder()\n",
        "# X_train.channel_categ = encoder_channel.fit_transform(X_train.channel_categ)"
      ],
      "execution_count": 0,
      "outputs": []
    },
    {
      "cell_type": "code",
      "metadata": {
        "id": "LRkx7EXs2OVy",
        "colab_type": "code",
        "colab": {}
      },
      "source": [
        "# Scale the feature ranges\n",
        "scaler = StandardScaler().fit(X_train)\n",
        "\n",
        "X_train_scaler = scaler.transform(X_train)\n",
        "X_test_scaler = scaler.transform(X_test)\n"
      ],
      "execution_count": 0,
      "outputs": []
    },
    {
      "cell_type": "markdown",
      "metadata": {
        "id": "S0Wbdym7_wL2",
        "colab_type": "text"
      },
      "source": [
        "### Linear Regression\n"
      ]
    },
    {
      "cell_type": "code",
      "metadata": {
        "id": "blfH3lqg2OGS",
        "colab_type": "code",
        "colab": {
          "base_uri": "https://localhost:8080/",
          "height": 34
        },
        "outputId": "e0c090d7-da70-4317-ca21-523620cd165d"
      },
      "source": [
        "model = LinearRegression()\n",
        "model.fit(X_train_scaler, y_train)\n"
      ],
      "execution_count": 17,
      "outputs": [
        {
          "output_type": "execute_result",
          "data": {
            "text/plain": [
              "LinearRegression(copy_X=True, fit_intercept=True, n_jobs=None, normalize=False)"
            ]
          },
          "metadata": {
            "tags": []
          },
          "execution_count": 17
        }
      ]
    },
    {
      "cell_type": "code",
      "metadata": {
        "id": "pvzFw_zH_g4r",
        "colab_type": "code",
        "colab": {}
      },
      "source": [
        "pred = model.predict(X_test_scaler)"
      ],
      "execution_count": 0,
      "outputs": []
    },
    {
      "cell_type": "markdown",
      "metadata": {
        "id": "_ZOSKSxrADDG",
        "colab_type": "text"
      },
      "source": [
        "### Metrics"
      ]
    },
    {
      "cell_type": "code",
      "metadata": {
        "id": "YZp9r2V-Ac5G",
        "colab_type": "code",
        "colab": {}
      },
      "source": [
        "def r_metrics(m, X, y):\n",
        "    yhat = m.predict(X)\n",
        "    #print(yhat)\n",
        "    SS_Residual = sum((y-yhat)**2)\n",
        "    SS_Total = sum((y-np.mean(y))**2)\n",
        "    r_squared = 1 - (float(SS_Residual))/SS_Total\n",
        "    adj_r_squared = 1 - (1-r_squared)*(len(y)-1)/(len(y)-X.shape[1]-1)\n",
        "    return r_squared,adj_r_squared"
      ],
      "execution_count": 0,
      "outputs": []
    },
    {
      "cell_type": "code",
      "metadata": {
        "id": "SiVauVW6_gl7",
        "colab_type": "code",
        "colab": {
          "base_uri": "https://localhost:8080/",
          "height": 68
        },
        "outputId": "8347fd91-2165-4761-87b5-e182438cdc5b"
      },
      "source": [
        "MSE = mean_squared_error(y_test, pred)\n",
        "MAE = mean_absolute_error(y_test, pred)\n",
        "R2 = model.score(X_test_scaler, y_test)\n",
        "\n",
        "print('MSE: ', MSE,'\\nMAE: ',  MAE, '\\nR2: ', R2)"
      ],
      "execution_count": 20,
      "outputs": [
        {
          "output_type": "stream",
          "text": [
            "MSE:  8648746828829.0205 \n",
            "MAE:  1019365.200352887 \n",
            "R2:  0.7169879561572972\n"
          ],
          "name": "stdout"
        }
      ]
    },
    {
      "cell_type": "code",
      "metadata": {
        "id": "kQRjX_Rr_gSt",
        "colab_type": "code",
        "colab": {}
      },
      "source": [
        "res = pd.DataFrame({'true':y_test, 'pred':pred})\n",
        "#res.head(20)"
      ],
      "execution_count": 0,
      "outputs": []
    },
    {
      "cell_type": "code",
      "metadata": {
        "id": "092Ugm8zApXz",
        "colab_type": "code",
        "colab": {
          "base_uri": "https://localhost:8080/",
          "height": 51
        },
        "outputId": "0d27b8c2-2768-4f92-ea3f-2113f47e3be5"
      },
      "source": [
        "r2, adj_r2 = r_metrics(model, X_test_scaler, y_test)\n",
        "print('R2: ', r2, '\\nAdjusted R2: ', adj_r2)"
      ],
      "execution_count": 22,
      "outputs": [
        {
          "output_type": "stream",
          "text": [
            "R2:  0.7169879561572965 \n",
            "Adjusted R2:  0.7160773639956404\n"
          ],
          "name": "stdout"
        }
      ]
    },
    {
      "cell_type": "markdown",
      "metadata": {
        "id": "CELZOl9_A8Zt",
        "colab_type": "text"
      },
      "source": [
        "### Cross Validating common regression models "
      ]
    },
    {
      "cell_type": "code",
      "metadata": {
        "id": "t3Bb6H8nApGs",
        "colab_type": "code",
        "colab": {}
      },
      "source": [
        "from sklearn.model_selection import KFold, cross_val_score\n",
        "from sklearn.tree import DecisionTreeRegressor\n",
        "from sklearn.ensemble import RandomForestRegressor\n",
        "from sklearn.ensemble import GradientBoostingRegressor\n",
        "from sklearn.svm import SVR"
      ],
      "execution_count": 0,
      "outputs": []
    },
    {
      "cell_type": "code",
      "metadata": {
        "id": "pPFQMyvpBQ2a",
        "colab_type": "code",
        "colab": {}
      },
      "source": [
        "models = []\n",
        "\n",
        "models.append(('DecisionTree', DecisionTreeRegressor()))\n",
        "models.append(('RandomForest', RandomForestRegressor(n_estimators=50))) # \n",
        "models.append(('GradientBoosting', GradientBoostingRegressor()))\n",
        "models.append(('SVR', SVR(gamma='auto')))\n",
        "\n",
        "names = []"
      ],
      "execution_count": 0,
      "outputs": []
    },
    {
      "cell_type": "code",
      "metadata": {
        "id": "FBGSHTcMBQvl",
        "colab_type": "code",
        "colab": {
          "base_uri": "https://localhost:8080/",
          "height": 85
        },
        "outputId": "464494e4-7869-430e-a853-d3eec081f2bf"
      },
      "source": [
        "for name, model in models:\n",
        "    kfold = KFold(n_splits=5, random_state=3)\n",
        "    cv_results = cross_val_score(model, X_train_scaler, y_train, cv=kfold, scoring='r2')\n",
        "    names.append(name)\n",
        "    msg = \"%s: %f\" %(name, cv_results.mean())\n",
        "    print(msg)\n",
        "    "
      ],
      "execution_count": 25,
      "outputs": [
        {
          "output_type": "stream",
          "text": [
            "DecisionTree: 0.540559\n",
            "RandomForest: 0.740880\n",
            "GradientBoosting: 0.707178\n",
            "SVR: -0.050668\n"
          ],
          "name": "stdout"
        }
      ]
    },
    {
      "cell_type": "code",
      "metadata": {
        "id": "bv6I9qlxBgvi",
        "colab_type": "code",
        "colab": {
          "base_uri": "https://localhost:8080/",
          "height": 68
        },
        "outputId": "0c379de5-297e-4583-c590-9a7aab1f1eab"
      },
      "source": [
        "model2 = RandomForestRegressor(n_estimators=50)\n",
        "model2.fit(X_train_scaler, y_train)\n",
        "pred = model2.predict(X_test_scaler)\n",
        "\n",
        "R2 = model2.score(X_test_scaler, y_test)\n",
        "MAE = mean_absolute_error(pred, y_test)\n",
        "MSE = mean_squared_error(pred, y_test)\n",
        "\n",
        "print('MSE: ', MSE, '\\nMAE: ', MAE, '\\nR2: ', R2 )\n"
      ],
      "execution_count": 26,
      "outputs": [
        {
          "output_type": "stream",
          "text": [
            "MSE:  4991414303592.267 \n",
            "MAE:  775194.8354743589 \n",
            "R2:  0.8366664683701224\n"
          ],
          "name": "stdout"
        }
      ]
    }
  ]
}