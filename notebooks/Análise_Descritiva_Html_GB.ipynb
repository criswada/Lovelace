{
  "nbformat": 4,
  "nbformat_minor": 0,
  "metadata": {
    "colab": {
      "name": "Análise_Descritiva_GB.ipynb",
      "provenance": [],
      "toc_visible": true,
      "include_colab_link": true
    },
    "kernelspec": {
      "name": "python3",
      "display_name": "Python 3"
    }
  },
  "cells": [
    {
      "cell_type": "markdown",
      "metadata": {
        "id": "view-in-github",
        "colab_type": "text"
      },
      "source": [
        "<a href=\"https://colab.research.google.com/github/criswada/Lovelace/blob/master/notebooks/An%C3%A1lise_Descritiva_Html_GB.ipynb\" target=\"_parent\"><img src=\"https://colab.research.google.com/assets/colab-badge.svg\" alt=\"Open In Colab\"/></a>"
      ]
    },
    {
      "cell_type": "markdown",
      "metadata": {
        "id": "0tmEN-MKmSMo",
        "colab_type": "text"
      },
      "source": [
        "# Análise Descritiva do Dataset Grã-Bretanha\n",
        "Com a biblioteca Pandas Profiling que identifica toda a descrição dos dados através de estatística descritiva, com gráficos, e percentual."
      ]
    },
    {
      "cell_type": "code",
      "metadata": {
        "id": "PjMqL3TqlfHf",
        "colab_type": "code",
        "colab": {}
      },
      "source": [
        "import pandas as pd\n",
        "import pandas_profiling"
      ],
      "execution_count": 0,
      "outputs": []
    },
    {
      "cell_type": "markdown",
      "metadata": {
        "id": "hW6YXywBrOoH",
        "colab_type": "text"
      },
      "source": [
        "## Gerando o arquivo HTML para obter toda análise descritiva"
      ]
    },
    {
      "cell_type": "code",
      "metadata": {
        "id": "moVW63P9lkaU",
        "colab_type": "code",
        "outputId": "f9013786-6bac-462f-ea3d-16555e8da1d9",
        "colab": {
          "base_uri": "https://localhost:8080/",
          "height": 72
        }
      },
      "source": [
        "path = './GBvideos.csv'\n",
        "df = pd.read_csv(path)\n",
        "pfr = pandas_profiling.ProfileReport(df)\n",
        "pfr.to_file(\"df_reportgb.html\")"
      ],
      "execution_count": 16,
      "outputs": [
        {
          "output_type": "stream",
          "text": [
            "/usr/local/lib/python3.6/dist-packages/pandas_profiling/describe.py:392: FutureWarning: The join_axes-keyword is deprecated. Use .reindex or .reindex_like on the result to achieve the same functionality.\n",
            "  variable_stats = pd.concat(ldesc, join_axes=pd.Index([names]), axis=1)\n"
          ],
          "name": "stderr"
        }
      ]
    },
    {
      "cell_type": "markdown",
      "metadata": {
        "id": "_sUcBQOFqwr0",
        "colab_type": "text"
      },
      "source": [
        ""
      ]
    }
  ]
}