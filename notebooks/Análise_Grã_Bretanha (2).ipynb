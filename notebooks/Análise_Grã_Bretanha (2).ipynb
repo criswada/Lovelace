{
  "nbformat": 4,
  "nbformat_minor": 0,
  "metadata": {
    "colab": {
      "name": "Análise_Grã-Bretanha.ipynb",
      "provenance": [],
      "collapsed_sections": []
    },
    "kernelspec": {
      "name": "python3",
      "display_name": "Python 3"
    }
  },
  "cells": [
    {
      "cell_type": "markdown",
      "metadata": {
        "id": "9kqUuqZyaszV",
        "colab_type": "text"
      },
      "source": [
        "# **Dataset GRÃ-BRETANHA**"
      ]
    },
    {
      "cell_type": "code",
      "metadata": {
        "id": "g0T36m_UbCH_",
        "colab_type": "code",
        "colab": {}
      },
      "source": [
        "#Importando as bibliotecas\n",
        "import pandas as pd\n",
        "import numpy as np\n",
        "import matplotlib.pyplot as plt\n",
        "import seaborn as sns\n",
        "import json\n",
        "import datetime\n",
        "import statsmodels.discrete.discrete_model as sm\n",
        "\n",
        "\n",
        "\n",
        "from collections import Counter\n",
        "from sklearn.model_selection import cross_val_score\n",
        "from sklearn.model_selection import train_test_split\n",
        "from sklearn.ensemble import RandomForestClassifier\n",
        "from sklearn.linear_model import LogisticRegression\n",
        "\n",
        "import warnings\n",
        "warnings.simplefilter(action = \"ignore\", category = RuntimeWarning)"
      ],
      "execution_count": 0,
      "outputs": []
    },
    {
      "cell_type": "code",
      "metadata": {
        "id": "QLLRhvahbHR2",
        "colab_type": "code",
        "colab": {}
      },
      "source": [
        "df_GB = pd.read_csv('GBvideos.csv', delimiter=',')\n",
        "df_GB.info()"
      ],
      "execution_count": 0,
      "outputs": []
    },
    {
      "cell_type": "markdown",
      "metadata": {
        "id": "ovdZ5hrqbiFD",
        "colab_type": "text"
      },
      "source": [
        "## Tratamento do DataFrame\n"
      ]
    },
    {
      "cell_type": "code",
      "metadata": {
        "id": "ttwg86gbbLEz",
        "colab_type": "code",
        "colab": {}
      },
      "source": [
        "df_GB.head().T"
      ],
      "execution_count": 0,
      "outputs": []
    },
    {
      "cell_type": "code",
      "metadata": {
        "id": "STJ6BVoWbV0H",
        "colab_type": "code",
        "colab": {}
      },
      "source": [
        "#Fazendo uma cópia do Dataframe\n",
        "df_GB = df_GB.copy()"
      ],
      "execution_count": 0,
      "outputs": []
    },
    {
      "cell_type": "code",
      "metadata": {
        "id": "EskOkEADbYx0",
        "colab_type": "code",
        "colab": {}
      },
      "source": [
        "df_GB.describe()"
      ],
      "execution_count": 0,
      "outputs": []
    },
    {
      "cell_type": "code",
      "metadata": {
        "id": "EBg7TpG_bhq0",
        "colab_type": "code",
        "colab": {}
      },
      "source": [
        "#Importando o json para ver a category_id\n",
        "import json\n",
        "\n",
        "with open('GB_category_id.json', 'r') as f:\n",
        "  categ_gb = json.load(f)\n",
        "\n",
        "for k in categ_gb['items']:\n",
        "  print(k['id'], k['snippet']['title'])"
      ],
      "execution_count": 0,
      "outputs": []
    },
    {
      "cell_type": "code",
      "metadata": {
        "id": "ZTh6LCoYbuR1",
        "colab_type": "code",
        "colab": {}
      },
      "source": [
        "#Analisando a quantidade de categorias \n",
        "\n",
        "import json\n",
        "\n",
        "# open json file with category names\n",
        "with open('GB_category_id.json', 'r') as f:\n",
        "  categ_us = json.load(f)\n",
        "\n",
        "categ_dic = {}\n",
        "\n",
        "for k in categ_us['items']:\n",
        "  categ_dic[k['id']]= k['snippet']['title']\n",
        "\n",
        "#print(categ_dic)\n",
        "\n",
        "# Creating new column with category names\n",
        "temp = df_GB.category_id.copy()\n",
        "temp = temp.astype('str')\n",
        "df_GB['category_name'] = temp.map(categ_dic)\n",
        "\n",
        "#print(df.loc[:10, ['category_id', 'category_name']])"
      ],
      "execution_count": 0,
      "outputs": []
    },
    {
      "cell_type": "code",
      "metadata": {
        "id": "OV5TQDu7cA8y",
        "colab_type": "code",
        "colab": {}
      },
      "source": [
        "df_GB2 = df_GB.copy()\n",
        "df_GB2.drop_duplicates('video_id', inplace=True)\n",
        "sns.countplot(y='category_name', data=df_GB2, order=df_GB2.category_name.value_counts().index )\n",
        "plt.title('Category popularity among top 200')\n",
        "plt.ylabel('Category')"
      ],
      "execution_count": 0,
      "outputs": []
    },
    {
      "cell_type": "markdown",
      "metadata": {
        "id": "tT3M2GRAdIeF",
        "colab_type": "text"
      },
      "source": [
        "### Outliers"
      ]
    },
    {
      "cell_type": "code",
      "metadata": {
        "id": "PMF9gv1HdBwr",
        "colab_type": "code",
        "colab": {}
      },
      "source": [
        "#Função para detectar os outliers do novo DataFrame\n",
        "\n",
        "def detect_outliers(df_GB2,n,features):\n",
        "    outlier_indices = []\n",
        "    \n",
        "    for col in features:\n",
        "\n",
        "        Q1 = np.percentile(df_GB2[col], 25)\n",
        "        Q3 = np.percentile(df_GB2[col],75)\n",
        "        IQR = Q3 - Q1\n",
        "\n",
        "        outlier_step = 1.5 * IQR\n",
        "        outlier_list_col = df_GB2[(df_GB2[col] < Q1 - outlier_step) | (df_GB2[col] > Q3 + outlier_step )].index\n",
        "        outlier_indices.extend(outlier_list_col)\n",
        "\n",
        "    outlier_indices = Counter(outlier_indices)        \n",
        "    multiple_outliers = list( k for k, v in outlier_indices.items() if v > n )\n",
        "    \n",
        "    return multiple_outliers "
      ],
      "execution_count": 0,
      "outputs": []
    },
    {
      "cell_type": "code",
      "metadata": {
        "id": "6S2vwOyqdO68",
        "colab_type": "code",
        "colab": {}
      },
      "source": [
        "Outliers_to_drop = detect_outliers(df_GB2,1,['views', 'likes', 'dislikes', 'comment_count'])"
      ],
      "execution_count": 0,
      "outputs": []
    },
    {
      "cell_type": "code",
      "metadata": {
        "id": "hcWXd4OqdR_D",
        "colab_type": "code",
        "colab": {}
      },
      "source": [
        "df_GB2.loc[Outliers_to_drop]"
      ],
      "execution_count": 0,
      "outputs": []
    },
    {
      "cell_type": "code",
      "metadata": {
        "id": "UfLP8y_2dUaA",
        "colab_type": "code",
        "colab": {}
      },
      "source": [
        "#Deletando os Outliers encontrados\n",
        "df_GB2 = df_GB2.drop(Outliers_to_drop, axis = 0).reset_index(drop=True)"
      ],
      "execution_count": 0,
      "outputs": []
    },
    {
      "cell_type": "code",
      "metadata": {
        "id": "X5uAqljpdcmC",
        "colab_type": "code",
        "colab": {}
      },
      "source": [
        "#Percentual dos valores nulos\n",
        "percent_missing = round(df_GB2.isnull().sum() * 100 / len(df_GB2),2)\n",
        "missing_value_df = pd.DataFrame({'column_name': df_GB2.columns, 'percent_missing': percent_missing})\n",
        "missing_value_df = missing_value_df[missing_value_df['percent_missing'] > 0]\n",
        "missing_value_df.sort_values('percent_missing', inplace=True, ascending=False)\n",
        "missing_value_df"
      ],
      "execution_count": 0,
      "outputs": []
    },
    {
      "cell_type": "code",
      "metadata": {
        "id": "kcN2I4OjePht",
        "colab_type": "code",
        "colab": {}
      },
      "source": [
        "#Substituindo os valores na da coluna description e category_name por'Missing' \n",
        "df_GB2.description.fillna('Missing', inplace=True)\n",
        "df_GB2.category_name.fillna('Missing', inplace=True)"
      ],
      "execution_count": 0,
      "outputs": []
    },
    {
      "cell_type": "code",
      "metadata": {
        "id": "UU3HF0wYeSeU",
        "colab_type": "code",
        "colab": {}
      },
      "source": [
        "# Detectando Valores nulos\n",
        "df_GB2.isnull().sum()/ len(df_GB2) * 100"
      ],
      "execution_count": 0,
      "outputs": []
    },
    {
      "cell_type": "code",
      "metadata": {
        "id": "-bhRb3y-eViq",
        "colab_type": "code",
        "colab": {}
      },
      "source": [
        "# Bloxpot feature 'category_id'\n",
        "plt.boxplot(df_GB2['category_id'])\n",
        "plt.title('Boxplot: category_id')\n",
        "plt.ylabel('category_id')"
      ],
      "execution_count": 0,
      "outputs": []
    },
    {
      "cell_type": "markdown",
      "metadata": {
        "id": "3LKmePVMezvq",
        "colab_type": "text"
      },
      "source": [
        "### Análise e Visualização"
      ]
    },
    {
      "cell_type": "code",
      "metadata": {
        "id": "Ow9NBtAAed-W",
        "colab_type": "code",
        "colab": {}
      },
      "source": [
        "#Correlação de todas as variáveis\n",
        "\n",
        "plt.figure(figsize=[20,10])\n",
        "plt.title('Correlation between features total dataset')\n",
        "sns.heatmap(df_GB2.corr(), annot=True, fmt='.2f', vmin=-1, vmax=1, cmap=sns.diverging_palette(999, 999, n=20))\n",
        "plt.show()"
      ],
      "execution_count": 0,
      "outputs": []
    },
    {
      "cell_type": "markdown",
      "metadata": {
        "id": "PFtmOnzje7ZS",
        "colab_type": "text"
      },
      "source": [
        "### Modelando"
      ]
    },
    {
      "cell_type": "code",
      "metadata": {
        "id": "qP-6C4yie8QR",
        "colab_type": "code",
        "colab": {}
      },
      "source": [
        "#Deletando as colunas \"genero\" e \"des_email\"\n",
        "train_bkp = df_GB2.copy()\n",
        "df_GB2.drop(['video_id', 'trending_date', 'title', 'channel_title', 'publish_time', 'tags', 'thumbnail_link', 'description', 'category_name', 'comments_disabled', 'ratings_disabled', 'video_error_or_removed' ],axis=1,inplace=True)\n",
        "df_GB2.head()"
      ],
      "execution_count": 0,
      "outputs": []
    },
    {
      "cell_type": "code",
      "metadata": {
        "id": "QpBZISVOe-YL",
        "colab_type": "code",
        "colab": {}
      },
      "source": [
        "x = df_GB2.drop(columns=['views']).copy()\n",
        "y = df_GB2['views']"
      ],
      "execution_count": 0,
      "outputs": []
    },
    {
      "cell_type": "code",
      "metadata": {
        "id": "DjKwF4C5fDcq",
        "colab_type": "code",
        "colab": {}
      },
      "source": [
        "#Separando o dataframe em traino e teste\n",
        "x_train, x_test, y_train, y_test = train_test_split(x,y,test_size=0.3,random_state=1)\n",
        "\n",
        "print(x_train.shape, y_train.shape)\n",
        "print(x_test.shape, y_test.shape)"
      ],
      "execution_count": 0,
      "outputs": []
    },
    {
      "cell_type": "markdown",
      "metadata": {
        "id": "AVsMKxffmHnv",
        "colab_type": "text"
      },
      "source": [
        "## Feature Importance"
      ]
    },
    {
      "cell_type": "code",
      "metadata": {
        "id": "2VYuSN8VfH5m",
        "colab_type": "code",
        "colab": {}
      },
      "source": [
        "#Construção do Modelo de classificação Random Forest\n",
        "rfmodel = RandomForestClassifier(random_state=0,n_estimators=450,criterion='gini',n_jobs=-1,max_depth = 8,min_samples_leaf=1,min_samples_split= 11)\n",
        "\n",
        "#Treinamento do modelo em X_train, Y_train\n",
        "rfmodel.fit(x_train,y_train)\n",
        "\n",
        "#Predição do modelo no X_test\n",
        "y_pred = rfmodel.predict(x_test)\n",
        "proba = rfmodel.predict_proba(x_test)\n",
        "\n",
        "#Variáveis Importantes\n",
        "imp = rfmodel.feature_importances_\n",
        "names = df_GB2.columns\n",
        "\n",
        "imp, names = zip(*sorted(zip(imp, names)))\n",
        "\n",
        "plt.barh(range(len(names)), imp, align = \"center\")\n",
        "plt.yticks(range(len(names)), names)\n",
        "plt.xlabel(\"Importance of Features\")\n",
        "plt.ylabel(\"Features\")\n",
        "plt.title(\"Importance of each feature\")\n",
        "fig=plt.gcf()\n",
        "fig.set_size_inches(18,5)\n",
        "plt.show()"
      ],
      "execution_count": 0,
      "outputs": []
    },
    {
      "cell_type": "code",
      "metadata": {
        "id": "zpveUE1SfRYk",
        "colab_type": "code",
        "colab": {}
      },
      "source": [
        "a = {'names':names,'imp':imp}\n",
        "tabela = pd.DataFrame(data=a)\n",
        "tabela"
      ],
      "execution_count": 0,
      "outputs": []
    },
    {
      "cell_type": "markdown",
      "metadata": {
        "id": "nejrmudZm7ji",
        "colab_type": "text"
      },
      "source": [
        "## Cross Validation\n"
      ]
    },
    {
      "cell_type": "code",
      "metadata": {
        "id": "wMGFWsSUjdV9",
        "colab_type": "code",
        "colab": {}
      },
      "source": [
        "#Applying K-Fold Cross Validation\n",
        "accuracies = cross_val_score(estimator=rfmodel,X= x_train,y=y_train,cv=2)\n",
        "print(accuracies)\n",
        "acc_train = accuracies.mean() #Prints out the  average of the 10 scores.\n",
        "acc_train"
      ],
      "execution_count": 0,
      "outputs": []
    },
    {
      "cell_type": "code",
      "metadata": {
        "id": "t51AaCy0kqG2",
        "colab_type": "code",
        "colab": {}
      },
      "source": [
        ""
      ],
      "execution_count": 0,
      "outputs": []
    }
  ]
}