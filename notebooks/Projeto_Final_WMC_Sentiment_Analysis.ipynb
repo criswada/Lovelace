{
  "nbformat": 4,
  "nbformat_minor": 0,
  "metadata": {
    "colab": {
      "name": "Projeto_Final_WMC_Sentiment_Analysis.ipynb",
      "provenance": [],
      "collapsed_sections": [],
      "toc_visible": true
    },
    "kernelspec": {
      "name": "python3",
      "display_name": "Python 3"
    }
  },
  "cells": [
    {
      "cell_type": "markdown",
      "metadata": {
        "id": "RkH3mVBDC3vK",
        "colab_type": "text"
      },
      "source": [
        "#**ANÁLISE DE SENTIMENTOS**\n",
        "\n",
        "[Desafio Kaggle YouTube](https://www.kaggle.com/datasnaek/youtube-new)"
      ]
    },
    {
      "cell_type": "markdown",
      "metadata": {
        "id": "6XOItXHqC_Z2",
        "colab_type": "text"
      },
      "source": [
        "Hoje em dia, conseguimos através de processamento de dados interpretar com razoável precisão o sentimento por trás dos reviews, conseguindo assim, entender como o público em geral reage com respeito a determinados assuntos, pautas, produtos, serviços, imagens. Assim do ponto de vista de negócios conseguimos mensurar melhoria, lançamento de novas linhas que objetivem alcançar um saldo positivo para com o cliente."
      ]
    },
    {
      "cell_type": "code",
      "metadata": {
        "id": "6X8xzFkoCkvx",
        "colab_type": "code",
        "colab": {}
      },
      "source": [
        "#Importe as bibliotecas que serão utilizadas:\n",
        "import numpy as np\n",
        "import pandas as pd\n",
        "\n",
        "import matplotlib.pyplot as plt\n",
        "%matplotlib inline\n",
        "import seaborn as sns"
      ],
      "execution_count": 0,
      "outputs": []
    },
    {
      "cell_type": "code",
      "metadata": {
        "id": "_O7MxKweEYYt",
        "colab_type": "code",
        "colab": {}
      },
      "source": [
        "path = './USvideos.csv'\n",
        "df = pd.read_csv(path)"
      ],
      "execution_count": 0,
      "outputs": []
    },
    {
      "cell_type": "code",
      "metadata": {
        "id": "gXSLh9eLEY4c",
        "colab_type": "code",
        "outputId": "8e7628f1-74d1-4f34-9c3d-4a23d960a162",
        "colab": {
          "base_uri": "https://localhost:8080/",
          "height": 85
        }
      },
      "source": [
        "#Removendo features não importantes para nossa análise \n",
        "drop_col = ['video_error_or_removed', 'ratings_disabled', 'comments_disabled', 'thumbnail_link']\n",
        "df.drop(columns=drop_col, inplace=True)\n",
        "df.columns"
      ],
      "execution_count": 3,
      "outputs": [
        {
          "output_type": "execute_result",
          "data": {
            "text/plain": [
              "Index(['video_id', 'trending_date', 'title', 'channel_title', 'category_id',\n",
              "       'publish_time', 'tags', 'views', 'likes', 'dislikes', 'comment_count',\n",
              "       'description'],\n",
              "      dtype='object')"
            ]
          },
          "metadata": {
            "tags": []
          },
          "execution_count": 3
        }
      ]
    },
    {
      "cell_type": "code",
      "metadata": {
        "id": "NDcPSaK-Emli",
        "colab_type": "code",
        "colab": {}
      },
      "source": [
        "df.trending_date = pd.to_datetime(df.trending_date, format='%y.%d.%m')"
      ],
      "execution_count": 0,
      "outputs": []
    },
    {
      "cell_type": "markdown",
      "metadata": {
        "id": "jct7WJvTEueU",
        "colab_type": "text"
      },
      "source": [
        "Cada vídeo pode aparecer mais de uma vez no dataset. Em geral, cada um tem uma data de início e alguns dias seguidos que continuou como trend. Decidimos pegar o registro do último dia como trend e remover os demais valores ambíguos."
      ]
    },
    {
      "cell_type": "code",
      "metadata": {
        "id": "PuTQnWsUEvRq",
        "colab_type": "code",
        "colab": {}
      },
      "source": [
        "# Agrupando de acordo com video_id, vamos pegar a data da última tendência do vídeo e remover duplicatas:\n",
        "df_last = df.groupby('video_id').apply(lambda x: x.sort_values(['trending_date'], ascending=False).head(1))"
      ],
      "execution_count": 0,
      "outputs": []
    },
    {
      "cell_type": "markdown",
      "metadata": {
        "id": "WFuyFzVQFHZH",
        "colab_type": "text"
      },
      "source": [
        "Iremos quantificar as emoções em relação ao vídeo em função da proporção de curti, não curti, contagem de comentários em relação à quantidade de visualizações."
      ]
    },
    {
      "cell_type": "code",
      "metadata": {
        "id": "5d9io5mRFABQ",
        "colab_type": "code",
        "outputId": "3cd113bf-2d0b-4afd-bbc0-7c9218a3bb8b",
        "colab": {
          "base_uri": "https://localhost:8080/",
          "height": 297
        }
      },
      "source": [
        "# Número de likes relativas - percent\n",
        "\n",
        "df_last['likes_perc'] =(df_last['likes']/df_last['views'])*100\n",
        "df_last['likes_perc'].sort_values(ascending=False).head()\n",
        "mean_likes = np.mean(df_last['likes_perc'])\n",
        "print('Average of relative likes: ', mean_likes)\n",
        "\n",
        "_ = sns.distplot(df_last['likes_perc'])"
      ],
      "execution_count": 6,
      "outputs": [
        {
          "output_type": "stream",
          "text": [
            "Average of relative likes:  2.965573877171347\n"
          ],
          "name": "stdout"
        },
        {
          "output_type": "display_data",
          "data": {
            "image/png": "[encoded data removed]",
            "text/plain": [
              "<Figure size 432x288 with 1 Axes>"
            ]
          },
          "metadata": {
            "tags": []
          }
        }
      ]
    },
    {
      "cell_type": "code",
      "metadata": {
        "id": "GWhqkMngFS0-",
        "colab_type": "code",
        "outputId": "dc6c384e-6e53-464a-8680-39742aba2a1a",
        "colab": {
          "base_uri": "https://localhost:8080/",
          "height": 297
        }
      },
      "source": [
        "# Número de dislikes relativas - percent\n",
        "\n",
        "df_last['dislikes_perc'] =(df_last['dislikes']/df_last['views'])*100\n",
        "df_last['dislikes_perc'].sort_values(ascending=False).head()\n",
        "mean_dislikes = np.mean(df_last['dislikes_perc'])\n",
        "print('Average of relative dislikes: ', mean_dislikes)\n",
        "\n",
        "_ = sns.distplot(df_last['dislikes_perc'])"
      ],
      "execution_count": 7,
      "outputs": [
        {
          "output_type": "stream",
          "text": [
            "Average of relative dislikes:  0.15935640471726029\n"
          ],
          "name": "stdout"
        },
        {
          "output_type": "display_data",
          "data": {
            "image/png": "[encoded data removed]",
            "text/plain": [
              "<Figure size 432x288 with 1 Axes>"
            ]
          },
          "metadata": {
            "tags": []
          }
        }
      ]
    },
    {
      "cell_type": "code",
      "metadata": {
        "id": "ZRSI6PmKFYOL",
        "colab_type": "code",
        "outputId": "80852344-91de-45e7-a40b-021141a2cece",
        "colab": {
          "base_uri": "https://localhost:8080/",
          "height": 297
        }
      },
      "source": [
        "# Número de discussões relativas (quantidade de comentários)\n",
        "\n",
        "df_last['comment_perc'] =(df_last['comment_count']/df_last['views'])*100\n",
        "df_last['comment_perc'].sort_values(ascending=False).head()\n",
        "mean_comment = np.mean(df_last['comment_perc'])\n",
        "print('Average of relative comments: ', mean_comment)\n",
        "\n",
        "_ = sns.distplot(df_last['comment_perc'])"
      ],
      "execution_count": 8,
      "outputs": [
        {
          "output_type": "stream",
          "text": [
            "Average of relative comments:  0.4051785150755059\n"
          ],
          "name": "stdout"
        },
        {
          "output_type": "display_data",
          "data": {
            "image/png": "[encoded data removed]",
            "text/plain": [
              "<Figure size 432x288 with 1 Axes>"
            ]
          },
          "metadata": {
            "tags": []
          }
        }
      ]
    },
    {
      "cell_type": "code",
      "metadata": {
        "id": "4LVXA3TvFkc-",
        "colab_type": "code",
        "outputId": "d3dbf090-5901-4757-eb16-16d137cf9202",
        "colab": {
          "base_uri": "https://localhost:8080/",
          "height": 307
        }
      },
      "source": [
        "mean_visu = np.mean(df_last.views)\n",
        "print(mean_visu)\n",
        "_ = sns.distplot(df_last.views)"
      ],
      "execution_count": 9,
      "outputs": [
        {
          "output_type": "stream",
          "text": [
            "1962117.2407494884\n"
          ],
          "name": "stdout"
        },
        {
          "output_type": "display_data",
          "data": {
            "image/png": "[encoded data removed]",
            "text/plain": [
              "<Figure size 432x288 with 1 Axes>"
            ]
          },
          "metadata": {
            "tags": []
          }
        }
      ]
    },
    {
      "cell_type": "markdown",
      "metadata": {
        "id": "K9nPZZC-Fs1h",
        "colab_type": "text"
      },
      "source": [
        "De acordo com as distribuições, percebe-se que mesmo entre os trend videos, poucos usuários registram sua opinião sobre o vídeo. Iremos supor preliminarmente 4 categorias: 'loved', 'hated', 'polemic', 'neutral'\n",
        "\n",
        "* **Loved**: videos com alta porcentagem relativa de curti e baixa de não curti.\n",
        "* **Hated**: videos com baixa porcentagem relativa de curti e alta de não curti\n",
        "* **Polemic**: ambas porcentagens relativas altas.\n",
        "* **Neutral**: ambas porcentagens relativas baixas"
      ]
    },
    {
      "cell_type": "code",
      "metadata": {
        "id": "tnot1YTHFq7j",
        "colab_type": "code",
        "colab": {}
      },
      "source": [
        "df_last.loc[(df_last['likes_perc'] >= mean_likes) & (df_last['dislikes_perc'] < mean_dislikes), 'emotion'] = 'loved' \n",
        "df_last.loc[(df_last['likes_perc'] < mean_likes) & (df_last['dislikes_perc'] >= mean_dislikes), 'emotion'] = 'hated' \n",
        "df_last.loc[(df_last['likes_perc'] >= mean_likes) & (df_last['dislikes_perc'] >= mean_dislikes), 'emotion'] = 'polemic' \n",
        "df_last.loc[(df_last['likes_perc'] < mean_likes) & (df_last['dislikes_perc'] < mean_dislikes), 'emotion'] = 'neutral'"
      ],
      "execution_count": 0,
      "outputs": []
    },
    {
      "cell_type": "code",
      "metadata": {
        "id": "Ru2id7SxF3xI",
        "colab_type": "code",
        "outputId": "9bdb290d-cc74-4175-c84a-2e5544377c27",
        "colab": {
          "base_uri": "https://localhost:8080/",
          "height": 102
        }
      },
      "source": [
        "#Apresentando os valores referentes à nova coluna \"emotion\"\n",
        "df_last.emotion.value_counts()"
      ],
      "execution_count": 11,
      "outputs": [
        {
          "output_type": "execute_result",
          "data": {
            "text/plain": [
              "neutral    2917\n",
              "loved      1956\n",
              "hated       913\n",
              "polemic     565\n",
              "Name: emotion, dtype: int64"
            ]
          },
          "metadata": {
            "tags": []
          },
          "execution_count": 11
        }
      ]
    },
    {
      "cell_type": "code",
      "metadata": {
        "id": "Vc2CWlLMGAQj",
        "colab_type": "code",
        "outputId": "6eb89602-1f7c-4942-d7ae-2d3a4b7dfd89",
        "colab": {
          "base_uri": "https://localhost:8080/",
          "height": 349
        }
      },
      "source": [
        "df_last.loc[df_last.emotion== 'hated', :].head(2)"
      ],
      "execution_count": 12,
      "outputs": [
        {
          "output_type": "execute_result",
          "data": {
            "text/html": [
              "<div>\n",
              "<style scoped>\n",
              "    .dataframe tbody tr th:only-of-type {\n",
              "        vertical-align: middle;\n",
              "    }\n",
              "\n",
              "    .dataframe tbody tr th {\n",
              "        vertical-align: top;\n",
              "    }\n",
              "\n",
              "    .dataframe thead th {\n",
              "        text-align: right;\n",
              "    }\n",
              "</style>\n",
              "<table border=\"1\" class=\"dataframe\">\n",
              "  <thead>\n",
              "    <tr style=\"text-align: right;\">\n",
              "      <th></th>\n",
              "      <th></th>\n",
              "      <th>video_id</th>\n",
              "      <th>trending_date</th>\n",
              "      <th>title</th>\n",
              "      <th>channel_title</th>\n",
              "      <th>category_id</th>\n",
              "      <th>publish_time</th>\n",
              "      <th>tags</th>\n",
              "      <th>views</th>\n",
              "      <th>likes</th>\n",
              "      <th>dislikes</th>\n",
              "      <th>comment_count</th>\n",
              "      <th>description</th>\n",
              "      <th>likes_perc</th>\n",
              "      <th>dislikes_perc</th>\n",
              "      <th>comment_perc</th>\n",
              "      <th>emotion</th>\n",
              "    </tr>\n",
              "    <tr>\n",
              "      <th>video_id</th>\n",
              "      <th></th>\n",
              "      <th></th>\n",
              "      <th></th>\n",
              "      <th></th>\n",
              "      <th></th>\n",
              "      <th></th>\n",
              "      <th></th>\n",
              "      <th></th>\n",
              "      <th></th>\n",
              "      <th></th>\n",
              "      <th></th>\n",
              "      <th></th>\n",
              "      <th></th>\n",
              "      <th></th>\n",
              "      <th></th>\n",
              "      <th></th>\n",
              "      <th></th>\n",
              "    </tr>\n",
              "  </thead>\n",
              "  <tbody>\n",
              "    <tr>\n",
              "      <th>-2b4qSoMnKE</th>\n",
              "      <th>7431</th>\n",
              "      <td>-2b4qSoMnKE</td>\n",
              "      <td>2017-12-21</td>\n",
              "      <td>Ex-UFO program chief: We may not be alone</td>\n",
              "      <td>CNN</td>\n",
              "      <td>25</td>\n",
              "      <td>2017-12-19T20:46:33.000Z</td>\n",
              "      <td>latest News|\"Happening Now\"|\"CNN\"|\"luis elizon...</td>\n",
              "      <td>291653</td>\n",
              "      <td>3788</td>\n",
              "      <td>603</td>\n",
              "      <td>3093</td>\n",
              "      <td>Luis Elizondo, a former military intelligence ...</td>\n",
              "      <td>1.298804</td>\n",
              "      <td>0.206753</td>\n",
              "      <td>1.060507</td>\n",
              "      <td>hated</td>\n",
              "    </tr>\n",
              "    <tr>\n",
              "      <th>-El8z4uy5Ac</th>\n",
              "      <th>2507</th>\n",
              "      <td>-El8z4uy5Ac</td>\n",
              "      <td>2017-11-26</td>\n",
              "      <td>The Best Movie Hell to End Up In - After Hours</td>\n",
              "      <td>Cracked</td>\n",
              "      <td>23</td>\n",
              "      <td>2017-11-20T17:00:00.000Z</td>\n",
              "      <td>movie hells|\"hercules\"|\"bedazzled\"|\"all dogs g...</td>\n",
              "      <td>639982</td>\n",
              "      <td>16519</td>\n",
              "      <td>1243</td>\n",
              "      <td>1739</td>\n",
              "      <td>The gang gets together for a frank discussion ...</td>\n",
              "      <td>2.581166</td>\n",
              "      <td>0.194224</td>\n",
              "      <td>0.271726</td>\n",
              "      <td>hated</td>\n",
              "    </tr>\n",
              "  </tbody>\n",
              "</table>\n",
              "</div>"
            ],
            "text/plain": [
              "                     video_id trending_date  ... comment_perc emotion\n",
              "video_id                                     ...                     \n",
              "-2b4qSoMnKE 7431  -2b4qSoMnKE    2017-12-21  ...     1.060507   hated\n",
              "-El8z4uy5Ac 2507  -El8z4uy5Ac    2017-11-26  ...     0.271726   hated\n",
              "\n",
              "[2 rows x 16 columns]"
            ]
          },
          "metadata": {
            "tags": []
          },
          "execution_count": 12
        }
      ]
    },
    {
      "cell_type": "code",
      "metadata": {
        "id": "wlKQ5DwOGCZV",
        "colab_type": "code",
        "outputId": "aa073f6d-55ca-47ce-a753-05bf0a7b25e6",
        "colab": {
          "base_uri": "https://localhost:8080/",
          "height": 264
        }
      },
      "source": [
        "df_last.loc[df_last.emotion== 'polemic', :].head(2)"
      ],
      "execution_count": 13,
      "outputs": [
        {
          "output_type": "execute_result",
          "data": {
            "text/html": [
              "<div>\n",
              "<style scoped>\n",
              "    .dataframe tbody tr th:only-of-type {\n",
              "        vertical-align: middle;\n",
              "    }\n",
              "\n",
              "    .dataframe tbody tr th {\n",
              "        vertical-align: top;\n",
              "    }\n",
              "\n",
              "    .dataframe thead th {\n",
              "        text-align: right;\n",
              "    }\n",
              "</style>\n",
              "<table border=\"1\" class=\"dataframe\">\n",
              "  <thead>\n",
              "    <tr style=\"text-align: right;\">\n",
              "      <th></th>\n",
              "      <th></th>\n",
              "      <th>video_id</th>\n",
              "      <th>trending_date</th>\n",
              "      <th>title</th>\n",
              "      <th>channel_title</th>\n",
              "      <th>category_id</th>\n",
              "      <th>publish_time</th>\n",
              "      <th>tags</th>\n",
              "      <th>views</th>\n",
              "      <th>likes</th>\n",
              "      <th>dislikes</th>\n",
              "      <th>comment_count</th>\n",
              "      <th>description</th>\n",
              "      <th>likes_perc</th>\n",
              "      <th>dislikes_perc</th>\n",
              "      <th>comment_perc</th>\n",
              "      <th>emotion</th>\n",
              "    </tr>\n",
              "    <tr>\n",
              "      <th>video_id</th>\n",
              "      <th></th>\n",
              "      <th></th>\n",
              "      <th></th>\n",
              "      <th></th>\n",
              "      <th></th>\n",
              "      <th></th>\n",
              "      <th></th>\n",
              "      <th></th>\n",
              "      <th></th>\n",
              "      <th></th>\n",
              "      <th></th>\n",
              "      <th></th>\n",
              "      <th></th>\n",
              "      <th></th>\n",
              "      <th></th>\n",
              "      <th></th>\n",
              "      <th></th>\n",
              "    </tr>\n",
              "  </thead>\n",
              "  <tbody>\n",
              "    <tr>\n",
              "      <th>-5aaJJQFvOg</th>\n",
              "      <th>21947</th>\n",
              "      <td>-5aaJJQFvOg</td>\n",
              "      <td>2018-03-05</td>\n",
              "      <td>Havana - swing cover | dodie feat. FLASHBACK</td>\n",
              "      <td>doddleoddle</td>\n",
              "      <td>10</td>\n",
              "      <td>2018-02-21T22:01:06.000Z</td>\n",
              "      <td>havana|\"cover\"|\"a capella\"|\"swing\"|\"dodie\"|\"fl...</td>\n",
              "      <td>1168351</td>\n",
              "      <td>135280</td>\n",
              "      <td>1917</td>\n",
              "      <td>6282</td>\n",
              "      <td>Hi hi hi! here's our vid on FLASHBACK's channe...</td>\n",
              "      <td>11.578712</td>\n",
              "      <td>0.164077</td>\n",
              "      <td>0.537681</td>\n",
              "      <td>polemic</td>\n",
              "    </tr>\n",
              "    <tr>\n",
              "      <th>-V1Oo7srGf0</th>\n",
              "      <th>15909</th>\n",
              "      <td>-V1Oo7srGf0</td>\n",
              "      <td>2018-02-03</td>\n",
              "      <td>YOUR DATE IS HERE - Horror Short</td>\n",
              "      <td>Midnight Video</td>\n",
              "      <td>1</td>\n",
              "      <td>2018-01-29T13:00:00.000Z</td>\n",
              "      <td>horror|\"horror short\"|\"short\"|\"short film\"|\"my...</td>\n",
              "      <td>70891</td>\n",
              "      <td>5155</td>\n",
              "      <td>129</td>\n",
              "      <td>781</td>\n",
              "      <td>After dusting off an old Mystery Date-style bo...</td>\n",
              "      <td>7.271727</td>\n",
              "      <td>0.181970</td>\n",
              "      <td>1.101691</td>\n",
              "      <td>polemic</td>\n",
              "    </tr>\n",
              "  </tbody>\n",
              "</table>\n",
              "</div>"
            ],
            "text/plain": [
              "                      video_id trending_date  ... comment_perc  emotion\n",
              "video_id                                      ...                      \n",
              "-5aaJJQFvOg 21947  -5aaJJQFvOg    2018-03-05  ...     0.537681  polemic\n",
              "-V1Oo7srGf0 15909  -V1Oo7srGf0    2018-02-03  ...     1.101691  polemic\n",
              "\n",
              "[2 rows x 16 columns]"
            ]
          },
          "metadata": {
            "tags": []
          },
          "execution_count": 13
        }
      ]
    },
    {
      "cell_type": "code",
      "metadata": {
        "id": "opVBuXViGEIy",
        "colab_type": "code",
        "outputId": "49ac7835-98d7-4826-ef86-788d28295f04",
        "colab": {
          "base_uri": "https://localhost:8080/",
          "height": 349
        }
      },
      "source": [
        "df_last.loc[df_last.emotion== 'loved', :].head(2)"
      ],
      "execution_count": 14,
      "outputs": [
        {
          "output_type": "execute_result",
          "data": {
            "text/html": [
              "<div>\n",
              "<style scoped>\n",
              "    .dataframe tbody tr th:only-of-type {\n",
              "        vertical-align: middle;\n",
              "    }\n",
              "\n",
              "    .dataframe tbody tr th {\n",
              "        vertical-align: top;\n",
              "    }\n",
              "\n",
              "    .dataframe thead th {\n",
              "        text-align: right;\n",
              "    }\n",
              "</style>\n",
              "<table border=\"1\" class=\"dataframe\">\n",
              "  <thead>\n",
              "    <tr style=\"text-align: right;\">\n",
              "      <th></th>\n",
              "      <th></th>\n",
              "      <th>video_id</th>\n",
              "      <th>trending_date</th>\n",
              "      <th>title</th>\n",
              "      <th>channel_title</th>\n",
              "      <th>category_id</th>\n",
              "      <th>publish_time</th>\n",
              "      <th>tags</th>\n",
              "      <th>views</th>\n",
              "      <th>likes</th>\n",
              "      <th>dislikes</th>\n",
              "      <th>comment_count</th>\n",
              "      <th>description</th>\n",
              "      <th>likes_perc</th>\n",
              "      <th>dislikes_perc</th>\n",
              "      <th>comment_perc</th>\n",
              "      <th>emotion</th>\n",
              "    </tr>\n",
              "    <tr>\n",
              "      <th>video_id</th>\n",
              "      <th></th>\n",
              "      <th></th>\n",
              "      <th></th>\n",
              "      <th></th>\n",
              "      <th></th>\n",
              "      <th></th>\n",
              "      <th></th>\n",
              "      <th></th>\n",
              "      <th></th>\n",
              "      <th></th>\n",
              "      <th></th>\n",
              "      <th></th>\n",
              "      <th></th>\n",
              "      <th></th>\n",
              "      <th></th>\n",
              "      <th></th>\n",
              "      <th></th>\n",
              "    </tr>\n",
              "  </thead>\n",
              "  <tbody>\n",
              "    <tr>\n",
              "      <th>-1yT-K3c6YI</th>\n",
              "      <th>3711</th>\n",
              "      <td>-1yT-K3c6YI</td>\n",
              "      <td>2017-12-02</td>\n",
              "      <td>YOUTUBER QUIZ + TRUTH OR DARE W/ THE MERRELL T...</td>\n",
              "      <td>Molly Burke</td>\n",
              "      <td>22</td>\n",
              "      <td>2017-11-28T18:30:43.000Z</td>\n",
              "      <td>youtube quiz|\"youtuber quiz\"|\"truth or dare\"|\"...</td>\n",
              "      <td>231341</td>\n",
              "      <td>7734</td>\n",
              "      <td>212</td>\n",
              "      <td>846</td>\n",
              "      <td>Check out the video we did on the Merrell Twin...</td>\n",
              "      <td>3.343117</td>\n",
              "      <td>0.091640</td>\n",
              "      <td>0.365694</td>\n",
              "      <td>loved</td>\n",
              "    </tr>\n",
              "    <tr>\n",
              "      <th>-35jibKqbEo</th>\n",
              "      <th>19745</th>\n",
              "      <td>-35jibKqbEo</td>\n",
              "      <td>2018-02-22</td>\n",
              "      <td>Kygo - Stranger Things ft. OneRepublic (Alan W...</td>\n",
              "      <td>Alan Walker</td>\n",
              "      <td>10</td>\n",
              "      <td>2018-02-14T17:00:49.000Z</td>\n",
              "      <td>Alan Walker|\"Kygo\"|\"One Republic\"|\"Stranger Th...</td>\n",
              "      <td>2425578</td>\n",
              "      <td>129381</td>\n",
              "      <td>1522</td>\n",
              "      <td>8757</td>\n",
              "      <td>Happy Valentines Day, Walkers!\\n\\nI made a rem...</td>\n",
              "      <td>5.334028</td>\n",
              "      <td>0.062748</td>\n",
              "      <td>0.361027</td>\n",
              "      <td>loved</td>\n",
              "    </tr>\n",
              "  </tbody>\n",
              "</table>\n",
              "</div>"
            ],
            "text/plain": [
              "                      video_id trending_date  ... comment_perc emotion\n",
              "video_id                                      ...                     \n",
              "-1yT-K3c6YI 3711   -1yT-K3c6YI    2017-12-02  ...     0.365694   loved\n",
              "-35jibKqbEo 19745  -35jibKqbEo    2018-02-22  ...     0.361027   loved\n",
              "\n",
              "[2 rows x 16 columns]"
            ]
          },
          "metadata": {
            "tags": []
          },
          "execution_count": 14
        }
      ]
    },
    {
      "cell_type": "code",
      "metadata": {
        "id": "5wUP9MpoGFzn",
        "colab_type": "code",
        "colab": {}
      },
      "source": [
        "# Adicionando coluna categorizando os videos em populares \"1\" (>= 1 milhao de views), ou não populares \"0\" (< 1 milhao)\n",
        "df_last['pop'] = 0\n",
        "df_last.loc[df_last.views >= 1e6, ['pop']] = 1\n",
        "\n"
      ],
      "execution_count": 0,
      "outputs": []
    },
    {
      "cell_type": "code",
      "metadata": {
        "id": "wHMKtGx3qfXO",
        "colab_type": "code",
        "colab": {
          "base_uri": "https://localhost:8080/",
          "height": 441
        },
        "outputId": "066e661c-c41a-4c58-99a3-ea7490dff085"
      },
      "source": [
        "# Plot da distribuição da popularidade dos vídeos \n",
        "\n",
        "plt.figure(figsize=(12,6))\n",
        "\n",
        "sns.countplot(y='pop', data=df_last, palette='Greens_d')\n",
        "plt.xlabel('Value_Counts')\n",
        "plt.ylabel('More than 1 million views')\n",
        "plt.title('Analysis of popularity in videos US')\n",
        "plt.tight_layout()\n",
        "plt.show()"
      ],
      "execution_count": 19,
      "outputs": [
        {
          "output_type": "display_data",
          "data": {
            "image/png": "[encoded data removed]",
            "text/plain": [
              "<Figure size 864x432 with 1 Axes>"
            ]
          },
          "metadata": {
            "tags": []
          }
        }
      ]
    },
    {
      "cell_type": "code",
      "metadata": {
        "id": "FU11XdkhGI1X",
        "colab_type": "code",
        "colab": {}
      },
      "source": [
        "#Salvando dataset processado para outras análises \n",
        "df_last.to_csv('sentiments.csv', index=False)"
      ],
      "execution_count": 0,
      "outputs": []
    },
    {
      "cell_type": "code",
      "metadata": {
        "id": "nviFdjQcGLql",
        "colab_type": "code",
        "outputId": "c8feeace-8bba-430a-d16d-4541f5478a7d",
        "colab": {
          "base_uri": "https://localhost:8080/",
          "height": 441
        }
      },
      "source": [
        "# Plot da distribuição dos sentimentos em relação aos vídeos \n",
        "\n",
        "plt.figure(figsize=(12,6))\n",
        "\n",
        "sns.countplot(y='emotion', data=df_last, palette='Greens_d', order=df_last['emotion'].value_counts().index)\n",
        "plt.xticks(rotation=50)\n",
        "plt.xlabel('Value_Counts - Likes/Dislikes/Comments')\n",
        "plt.ylabel('Sentiments')\n",
        "plt.title('Analysis of sentiments in videos US')\n",
        "plt.tight_layout()\n",
        "plt.show()"
      ],
      "execution_count": 17,
      "outputs": [
        {
          "output_type": "display_data",
          "data": {
            "image/png": "[encoded data removed]",
            "text/plain": [
              "<Figure size 864x432 with 1 Axes>"
            ]
          },
          "metadata": {
            "tags": []
          }
        }
      ]
    },
    {
      "cell_type": "markdown",
      "metadata": {
        "id": "gEcFQCuajXbO",
        "colab_type": "text"
      },
      "source": [
        "# **Conclusão**\n",
        "\n",
        "Realizamos uma análise sobre a distribuição de variáveis dos vídeos que potencialmente indicariam emoções por parte dos usuários. Observamos que mesmo entre os top vídeos (+ 200 milhões) de visualizações a quantidade de curtidas e não curtidas é proporcionalmente muito baixa em relação ao de visualizações. Por exemplo, em média menos de 3% das visualizações geram curtidas. \n",
        "\n",
        "Isto indica que por si só elas não são confiáveis para apontar sentimentos, precisando de suporte de outras variáveis para caracterizar emoções que infelizmente não temos disponíveis no dataset.\n",
        "\n",
        "Esta desproporção é ainda mais forte em emoções negativas, pois em média 0.15% das visualizações de um vídeo geram não curtidas. \n",
        "\n",
        "Tentamos criar features targets para posterior uso em algoritmos de classificação, binário (popular ou não) e multi-classe (4 tipos de emoções). Observamos pelo gráfico de barras uma desproporção na distribuição dos dados nas classes, indicando fortemente a necessidade de um pré-processamento de balanceamento.\n",
        "\n",
        "Por estas razões, os resultados dos modelos classificadores de sentimentos foram muito ruins, mesmo explorando técnicas de diversas famílias. Nas métricas os falsos positivos eram altos, indicando um enviesamento do modelo pela classe mais comum, mesmo ao aplicar balanceamento de classe.\n"
      ]
    }
  ]
}