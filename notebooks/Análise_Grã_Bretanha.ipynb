{
  "nbformat": 4,
  "nbformat_minor": 0,
  "metadata": {
    "colab": {
      "name": "Análise_Grã-Bretanha.ipynb",
      "provenance": [],
      "collapsed_sections": []
    },
    "kernelspec": {
      "name": "python3",
      "display_name": "Python 3"
    }
  },
  "cells": [
    {
      "cell_type": "markdown",
      "metadata": {
        "id": "9kqUuqZyaszV",
        "colab_type": "text"
      },
      "source": [
        "# **Dataset GRÃ-BRETANHA**"
      ]
    },
    {
      "cell_type": "code",
      "metadata": {
        "id": "g0T36m_UbCH_",
        "colab_type": "code",
        "colab": {}
      },
      "source": [
        "#Importando as bibliotecas\n",
        "import pandas as pd\n",
        "import numpy as np\n",
        "import matplotlib.pyplot as plt\n",
        "import seaborn as sns\n",
        "import json\n",
        "import datetime\n",
        "import statsmodels.discrete.discrete_model as sm\n",
        "\n",
        "\n",
        "\n",
        "from collections import Counter\n",
        "from sklearn.model_selection import cross_val_score\n",
        "from sklearn.model_selection import train_test_split\n",
        "from sklearn.ensemble import RandomForestClassifier\n",
        "from sklearn.linear_model import LogisticRegression\n",
        "\n",
        "import warnings\n",
        "warnings.simplefilter(action = \"ignore\", category = RuntimeWarning)"
      ],
      "execution_count": 0,
      "outputs": []
    },
    {
      "cell_type": "code",
      "metadata": {
        "id": "QLLRhvahbHR2",
        "colab_type": "code",
        "colab": {
          "base_uri": "https://localhost:8080/",
          "height": 390
        },
        "outputId": "6e936df4-4bb8-4634-96be-ad13edbeff97"
      },
      "source": [
        "df_GB = pd.read_csv('GBvideos.csv', delimiter=',')\n",
        "df_GB.info()"
      ],
      "execution_count": 4,
      "outputs": [
        {
          "output_type": "stream",
          "text": [
            "<class 'pandas.core.frame.DataFrame'>\n",
            "RangeIndex: 38916 entries, 0 to 38915\n",
            "Data columns (total 16 columns):\n",
            "video_id                  38916 non-null object\n",
            "trending_date             38916 non-null object\n",
            "title                     38916 non-null object\n",
            "channel_title             38916 non-null object\n",
            "category_id               38916 non-null int64\n",
            "publish_time              38916 non-null object\n",
            "tags                      38916 non-null object\n",
            "views                     38916 non-null int64\n",
            "likes                     38916 non-null int64\n",
            "dislikes                  38916 non-null int64\n",
            "comment_count             38916 non-null int64\n",
            "thumbnail_link            38916 non-null object\n",
            "comments_disabled         38916 non-null bool\n",
            "ratings_disabled          38916 non-null bool\n",
            "video_error_or_removed    38916 non-null bool\n",
            "description               38304 non-null object\n",
            "dtypes: bool(3), int64(5), object(8)\n",
            "memory usage: 4.0+ MB\n"
          ],
          "name": "stdout"
        }
      ]
    },
    {
      "cell_type": "markdown",
      "metadata": {
        "id": "ovdZ5hrqbiFD",
        "colab_type": "text"
      },
      "source": [
        "## Tratamento do DataFrame\n"
      ]
    },
    {
      "cell_type": "code",
      "metadata": {
        "id": "ttwg86gbbLEz",
        "colab_type": "code",
        "colab": {
          "base_uri": "https://localhost:8080/",
          "height": 631
        },
        "outputId": "8d17809f-4fb3-4d86-f747-3449da160ecd"
      },
      "source": [
        "df_GB.head().T"
      ],
      "execution_count": 5,
      "outputs": [
        {
          "output_type": "execute_result",
          "data": {
            "text/html": [
              "<div>\n",
              "<style scoped>\n",
              "    .dataframe tbody tr th:only-of-type {\n",
              "        vertical-align: middle;\n",
              "    }\n",
              "\n",
              "    .dataframe tbody tr th {\n",
              "        vertical-align: top;\n",
              "    }\n",
              "\n",
              "    .dataframe thead th {\n",
              "        text-align: right;\n",
              "    }\n",
              "</style>\n",
              "<table border=\"1\" class=\"dataframe\">\n",
              "  <thead>\n",
              "    <tr style=\"text-align: right;\">\n",
              "      <th></th>\n",
              "      <th>0</th>\n",
              "      <th>1</th>\n",
              "      <th>2</th>\n",
              "      <th>3</th>\n",
              "      <th>4</th>\n",
              "    </tr>\n",
              "  </thead>\n",
              "  <tbody>\n",
              "    <tr>\n",
              "      <th>video_id</th>\n",
              "      <td>Jw1Y-zhQURU</td>\n",
              "      <td>3s1rvMFUweQ</td>\n",
              "      <td>n1WpP7iowLc</td>\n",
              "      <td>PUTEiSjKwJU</td>\n",
              "      <td>rHwDegptbI4</td>\n",
              "    </tr>\n",
              "    <tr>\n",
              "      <th>trending_date</th>\n",
              "      <td>17.14.11</td>\n",
              "      <td>17.14.11</td>\n",
              "      <td>17.14.11</td>\n",
              "      <td>17.14.11</td>\n",
              "      <td>17.14.11</td>\n",
              "    </tr>\n",
              "    <tr>\n",
              "      <th>title</th>\n",
              "      <td>John Lewis Christmas Ad 2017 - #MozTheMonster</td>\n",
              "      <td>Taylor Swift: …Ready for It? (Live) - SNL</td>\n",
              "      <td>Eminem - Walk On Water (Audio) ft. Beyoncé</td>\n",
              "      <td>Goals from Salford City vs Class of 92 and Fri...</td>\n",
              "      <td>Dashcam captures truck's near miss with child ...</td>\n",
              "    </tr>\n",
              "    <tr>\n",
              "      <th>channel_title</th>\n",
              "      <td>John Lewis</td>\n",
              "      <td>Saturday Night Live</td>\n",
              "      <td>EminemVEVO</td>\n",
              "      <td>Salford City Football Club</td>\n",
              "      <td>Cute Girl Videos</td>\n",
              "    </tr>\n",
              "    <tr>\n",
              "      <th>category_id</th>\n",
              "      <td>26</td>\n",
              "      <td>24</td>\n",
              "      <td>10</td>\n",
              "      <td>17</td>\n",
              "      <td>25</td>\n",
              "    </tr>\n",
              "    <tr>\n",
              "      <th>publish_time</th>\n",
              "      <td>2017-11-10T07:38:29.000Z</td>\n",
              "      <td>2017-11-12T06:24:44.000Z</td>\n",
              "      <td>2017-11-10T17:00:03.000Z</td>\n",
              "      <td>2017-11-13T02:30:38.000Z</td>\n",
              "      <td>2017-11-13T01:45:13.000Z</td>\n",
              "    </tr>\n",
              "    <tr>\n",
              "      <th>tags</th>\n",
              "      <td>christmas|\"john lewis christmas\"|\"john lewis\"|...</td>\n",
              "      <td>SNL|\"Saturday Night Live\"|\"SNL Season 43\"|\"Epi...</td>\n",
              "      <td>Eminem|\"Walk\"|\"On\"|\"Water\"|\"Aftermath/Shady/In...</td>\n",
              "      <td>Salford City FC|\"Salford City\"|\"Salford\"|\"Clas...</td>\n",
              "      <td>[none]</td>\n",
              "    </tr>\n",
              "    <tr>\n",
              "      <th>views</th>\n",
              "      <td>7224515</td>\n",
              "      <td>1053632</td>\n",
              "      <td>17158579</td>\n",
              "      <td>27833</td>\n",
              "      <td>9815</td>\n",
              "    </tr>\n",
              "    <tr>\n",
              "      <th>likes</th>\n",
              "      <td>55681</td>\n",
              "      <td>25561</td>\n",
              "      <td>787420</td>\n",
              "      <td>193</td>\n",
              "      <td>30</td>\n",
              "    </tr>\n",
              "    <tr>\n",
              "      <th>dislikes</th>\n",
              "      <td>10247</td>\n",
              "      <td>2294</td>\n",
              "      <td>43420</td>\n",
              "      <td>12</td>\n",
              "      <td>2</td>\n",
              "    </tr>\n",
              "    <tr>\n",
              "      <th>comment_count</th>\n",
              "      <td>9479</td>\n",
              "      <td>2757</td>\n",
              "      <td>125882</td>\n",
              "      <td>37</td>\n",
              "      <td>30</td>\n",
              "    </tr>\n",
              "    <tr>\n",
              "      <th>thumbnail_link</th>\n",
              "      <td>https://i.ytimg.com/vi/Jw1Y-zhQURU/default.jpg</td>\n",
              "      <td>https://i.ytimg.com/vi/3s1rvMFUweQ/default.jpg</td>\n",
              "      <td>https://i.ytimg.com/vi/n1WpP7iowLc/default.jpg</td>\n",
              "      <td>https://i.ytimg.com/vi/PUTEiSjKwJU/default.jpg</td>\n",
              "      <td>https://i.ytimg.com/vi/rHwDegptbI4/default.jpg</td>\n",
              "    </tr>\n",
              "    <tr>\n",
              "      <th>comments_disabled</th>\n",
              "      <td>False</td>\n",
              "      <td>False</td>\n",
              "      <td>False</td>\n",
              "      <td>False</td>\n",
              "      <td>False</td>\n",
              "    </tr>\n",
              "    <tr>\n",
              "      <th>ratings_disabled</th>\n",
              "      <td>False</td>\n",
              "      <td>False</td>\n",
              "      <td>False</td>\n",
              "      <td>False</td>\n",
              "      <td>False</td>\n",
              "    </tr>\n",
              "    <tr>\n",
              "      <th>video_error_or_removed</th>\n",
              "      <td>False</td>\n",
              "      <td>False</td>\n",
              "      <td>False</td>\n",
              "      <td>False</td>\n",
              "      <td>False</td>\n",
              "    </tr>\n",
              "    <tr>\n",
              "      <th>description</th>\n",
              "      <td>Click here to continue the story and make your...</td>\n",
              "      <td>Musical guest Taylor Swift performs …Ready for...</td>\n",
              "      <td>Eminem's new track Walk on Water ft. Beyoncé i...</td>\n",
              "      <td>Salford drew 4-4 against the Class of 92 and F...</td>\n",
              "      <td>Dashcam captures truck's near miss with child ...</td>\n",
              "    </tr>\n",
              "  </tbody>\n",
              "</table>\n",
              "</div>"
            ],
            "text/plain": [
              "                                                                        0  ...                                                  4\n",
              "video_id                                                      Jw1Y-zhQURU  ...                                        rHwDegptbI4\n",
              "trending_date                                                    17.14.11  ...                                           17.14.11\n",
              "title                       John Lewis Christmas Ad 2017 - #MozTheMonster  ...  Dashcam captures truck's near miss with child ...\n",
              "channel_title                                                  John Lewis  ...                                   Cute Girl Videos\n",
              "category_id                                                            26  ...                                                 25\n",
              "publish_time                                     2017-11-10T07:38:29.000Z  ...                           2017-11-13T01:45:13.000Z\n",
              "tags                    christmas|\"john lewis christmas\"|\"john lewis\"|...  ...                                             [none]\n",
              "views                                                             7224515  ...                                               9815\n",
              "likes                                                               55681  ...                                                 30\n",
              "dislikes                                                            10247  ...                                                  2\n",
              "comment_count                                                        9479  ...                                                 30\n",
              "thumbnail_link             https://i.ytimg.com/vi/Jw1Y-zhQURU/default.jpg  ...     https://i.ytimg.com/vi/rHwDegptbI4/default.jpg\n",
              "comments_disabled                                                   False  ...                                              False\n",
              "ratings_disabled                                                    False  ...                                              False\n",
              "video_error_or_removed                                              False  ...                                              False\n",
              "description             Click here to continue the story and make your...  ...  Dashcam captures truck's near miss with child ...\n",
              "\n",
              "[16 rows x 5 columns]"
            ]
          },
          "metadata": {
            "tags": []
          },
          "execution_count": 5
        }
      ]
    },
    {
      "cell_type": "code",
      "metadata": {
        "id": "STJ6BVoWbV0H",
        "colab_type": "code",
        "colab": {}
      },
      "source": [
        "#Fazendo uma cópia do Dataframe\n",
        "df_GB = df_GB.copy()"
      ],
      "execution_count": 0,
      "outputs": []
    },
    {
      "cell_type": "code",
      "metadata": {
        "id": "EskOkEADbYx0",
        "colab_type": "code",
        "colab": {
          "base_uri": "https://localhost:8080/",
          "height": 287
        },
        "outputId": "6cd72ef5-987d-4bbc-8de4-1e271cf87a59"
      },
      "source": [
        "df_GB.describe()"
      ],
      "execution_count": 7,
      "outputs": [
        {
          "output_type": "execute_result",
          "data": {
            "text/html": [
              "<div>\n",
              "<style scoped>\n",
              "    .dataframe tbody tr th:only-of-type {\n",
              "        vertical-align: middle;\n",
              "    }\n",
              "\n",
              "    .dataframe tbody tr th {\n",
              "        vertical-align: top;\n",
              "    }\n",
              "\n",
              "    .dataframe thead th {\n",
              "        text-align: right;\n",
              "    }\n",
              "</style>\n",
              "<table border=\"1\" class=\"dataframe\">\n",
              "  <thead>\n",
              "    <tr style=\"text-align: right;\">\n",
              "      <th></th>\n",
              "      <th>category_id</th>\n",
              "      <th>views</th>\n",
              "      <th>likes</th>\n",
              "      <th>dislikes</th>\n",
              "      <th>comment_count</th>\n",
              "    </tr>\n",
              "  </thead>\n",
              "  <tbody>\n",
              "    <tr>\n",
              "      <th>count</th>\n",
              "      <td>38916.000000</td>\n",
              "      <td>3.891600e+04</td>\n",
              "      <td>3.891600e+04</td>\n",
              "      <td>3.891600e+04</td>\n",
              "      <td>3.891600e+04</td>\n",
              "    </tr>\n",
              "    <tr>\n",
              "      <th>mean</th>\n",
              "      <td>16.827937</td>\n",
              "      <td>5.911944e+06</td>\n",
              "      <td>1.345196e+05</td>\n",
              "      <td>7.612560e+03</td>\n",
              "      <td>1.308835e+04</td>\n",
              "    </tr>\n",
              "    <tr>\n",
              "      <th>std</th>\n",
              "      <td>7.752728</td>\n",
              "      <td>1.900121e+07</td>\n",
              "      <td>3.499893e+05</td>\n",
              "      <td>5.095683e+04</td>\n",
              "      <td>5.066740e+04</td>\n",
              "    </tr>\n",
              "    <tr>\n",
              "      <th>min</th>\n",
              "      <td>1.000000</td>\n",
              "      <td>8.510000e+02</td>\n",
              "      <td>0.000000e+00</td>\n",
              "      <td>0.000000e+00</td>\n",
              "      <td>0.000000e+00</td>\n",
              "    </tr>\n",
              "    <tr>\n",
              "      <th>25%</th>\n",
              "      <td>10.000000</td>\n",
              "      <td>2.515272e+05</td>\n",
              "      <td>5.897000e+03</td>\n",
              "      <td>2.000000e+02</td>\n",
              "      <td>6.790000e+02</td>\n",
              "    </tr>\n",
              "    <tr>\n",
              "      <th>50%</th>\n",
              "      <td>20.000000</td>\n",
              "      <td>9.818890e+05</td>\n",
              "      <td>2.518250e+04</td>\n",
              "      <td>8.210000e+02</td>\n",
              "      <td>2.478000e+03</td>\n",
              "    </tr>\n",
              "    <tr>\n",
              "      <th>75%</th>\n",
              "      <td>24.000000</td>\n",
              "      <td>3.683628e+06</td>\n",
              "      <td>1.140892e+05</td>\n",
              "      <td>3.357500e+03</td>\n",
              "      <td>9.241500e+03</td>\n",
              "    </tr>\n",
              "    <tr>\n",
              "      <th>max</th>\n",
              "      <td>43.000000</td>\n",
              "      <td>4.245389e+08</td>\n",
              "      <td>5.613827e+06</td>\n",
              "      <td>1.944971e+06</td>\n",
              "      <td>1.626501e+06</td>\n",
              "    </tr>\n",
              "  </tbody>\n",
              "</table>\n",
              "</div>"
            ],
            "text/plain": [
              "        category_id         views         likes      dislikes  comment_count\n",
              "count  38916.000000  3.891600e+04  3.891600e+04  3.891600e+04   3.891600e+04\n",
              "mean      16.827937  5.911944e+06  1.345196e+05  7.612560e+03   1.308835e+04\n",
              "std        7.752728  1.900121e+07  3.499893e+05  5.095683e+04   5.066740e+04\n",
              "min        1.000000  8.510000e+02  0.000000e+00  0.000000e+00   0.000000e+00\n",
              "25%       10.000000  2.515272e+05  5.897000e+03  2.000000e+02   6.790000e+02\n",
              "50%       20.000000  9.818890e+05  2.518250e+04  8.210000e+02   2.478000e+03\n",
              "75%       24.000000  3.683628e+06  1.140892e+05  3.357500e+03   9.241500e+03\n",
              "max       43.000000  4.245389e+08  5.613827e+06  1.944971e+06   1.626501e+06"
            ]
          },
          "metadata": {
            "tags": []
          },
          "execution_count": 7
        }
      ]
    },
    {
      "cell_type": "code",
      "metadata": {
        "id": "EBg7TpG_bhq0",
        "colab_type": "code",
        "colab": {
          "base_uri": "https://localhost:8080/",
          "height": 567
        },
        "outputId": "82ee4586-a157-42aa-d2be-10a4922c0978"
      },
      "source": [
        "#Importando o json para ver a category_id\n",
        "import json\n",
        "\n",
        "with open('GB_category_id.json', 'r') as f:\n",
        "  categ_gb = json.load(f)\n",
        "\n",
        "for k in categ_gb['items']:\n",
        "  print(k['id'], k['snippet']['title'])"
      ],
      "execution_count": 8,
      "outputs": [
        {
          "output_type": "stream",
          "text": [
            "1 Film & Animation\n",
            "2 Autos & Vehicles\n",
            "10 Music\n",
            "15 Pets & Animals\n",
            "17 Sports\n",
            "18 Short Movies\n",
            "19 Travel & Events\n",
            "20 Gaming\n",
            "21 Videoblogging\n",
            "22 People & Blogs\n",
            "23 Comedy\n",
            "24 Entertainment\n",
            "25 News & Politics\n",
            "26 Howto & Style\n",
            "27 Education\n",
            "28 Science & Technology\n",
            "30 Movies\n",
            "31 Anime/Animation\n",
            "32 Action/Adventure\n",
            "33 Classics\n",
            "34 Comedy\n",
            "35 Documentary\n",
            "36 Drama\n",
            "37 Family\n",
            "38 Foreign\n",
            "39 Horror\n",
            "40 Sci-Fi/Fantasy\n",
            "41 Thriller\n",
            "42 Shorts\n",
            "43 Shows\n",
            "44 Trailers\n"
          ],
          "name": "stdout"
        }
      ]
    },
    {
      "cell_type": "code",
      "metadata": {
        "id": "ZTh6LCoYbuR1",
        "colab_type": "code",
        "colab": {}
      },
      "source": [
        "#Analisando a quantidade de categorias \n",
        "\n",
        "import json\n",
        "\n",
        "# open json file with category names\n",
        "with open('GB_category_id.json', 'r') as f:\n",
        "  categ_us = json.load(f)\n",
        "\n",
        "categ_dic = {}\n",
        "\n",
        "for k in categ_us['items']:\n",
        "  categ_dic[k['id']]= k['snippet']['title']\n",
        "\n",
        "#print(categ_dic)\n",
        "\n",
        "# Creating new column with category names\n",
        "temp = df_GB.category_id.copy()\n",
        "temp = temp.astype('str')\n",
        "df_GB['category_name'] = temp.map(categ_dic)\n",
        "\n",
        "#print(df.loc[:10, ['category_id', 'category_name']])"
      ],
      "execution_count": 0,
      "outputs": []
    },
    {
      "cell_type": "code",
      "metadata": {
        "id": "OV5TQDu7cA8y",
        "colab_type": "code",
        "colab": {
          "base_uri": "https://localhost:8080/",
          "height": 312
        },
        "outputId": "da9e3559-b8f9-4f2d-e31c-10742c10e900"
      },
      "source": [
        "df_GB2 = df_GB.copy()\n",
        "df_GB2.drop_duplicates('video_id', inplace=True)\n",
        "sns.countplot(y='category_name', data=df_GB2, order=df_GB2.category_name.value_counts().index )\n",
        "plt.title('Category popularity among top 200')\n",
        "plt.ylabel('Category')"
      ],
      "execution_count": 11,
      "outputs": [
        {
          "output_type": "execute_result",
          "data": {
            "text/plain": [
              "Text(0, 0.5, 'Category')"
            ]
          },
          "metadata": {
            "tags": []
          },
          "execution_count": 11
        },
        {
          "output_type": "display_data",
          "data": {
            "image/png": "[encoded data removed]",
            "text/plain": [
              "<Figure size 432x288 with 1 Axes>"
            ]
          },
          "metadata": {
            "tags": []
          }
        }
      ]
    },
    {
      "cell_type": "markdown",
      "metadata": {
        "id": "tT3M2GRAdIeF",
        "colab_type": "text"
      },
      "source": [
        "### Outliers"
      ]
    },
    {
      "cell_type": "code",
      "metadata": {
        "id": "PMF9gv1HdBwr",
        "colab_type": "code",
        "colab": {}
      },
      "source": [
        "#Função para detectar os outliers do novo DataFrame\n",
        "\n",
        "def detect_outliers(df_GB2,n,features):\n",
        "    outlier_indices = []\n",
        "    \n",
        "    for col in features:\n",
        "\n",
        "        Q1 = np.percentile(df_GB2[col], 25)\n",
        "        Q3 = np.percentile(df_GB2[col],75)\n",
        "        IQR = Q3 - Q1\n",
        "\n",
        "        outlier_step = 1.5 * IQR\n",
        "        outlier_list_col = df_GB2[(df_GB2[col] < Q1 - outlier_step) | (df_GB2[col] > Q3 + outlier_step )].index\n",
        "        outlier_indices.extend(outlier_list_col)\n",
        "\n",
        "    outlier_indices = Counter(outlier_indices)        \n",
        "    multiple_outliers = list( k for k, v in outlier_indices.items() if v > n )\n",
        "    \n",
        "    return multiple_outliers "
      ],
      "execution_count": 0,
      "outputs": []
    },
    {
      "cell_type": "code",
      "metadata": {
        "id": "6S2vwOyqdO68",
        "colab_type": "code",
        "colab": {}
      },
      "source": [
        "Outliers_to_drop = detect_outliers(df_GB2,1,['views', 'likes', 'dislikes', 'comment_count'])"
      ],
      "execution_count": 0,
      "outputs": []
    },
    {
      "cell_type": "code",
      "metadata": {
        "id": "hcWXd4OqdR_D",
        "colab_type": "code",
        "colab": {
          "base_uri": "https://localhost:8080/",
          "height": 860
        },
        "outputId": "576af6c0-f42a-4a7d-ee91-16ffde5637ea"
      },
      "source": [
        "df_GB2.loc[Outliers_to_drop]"
      ],
      "execution_count": 15,
      "outputs": [
        {
          "output_type": "execute_result",
          "data": {
            "text/html": [
              "<div>\n",
              "<style scoped>\n",
              "    .dataframe tbody tr th:only-of-type {\n",
              "        vertical-align: middle;\n",
              "    }\n",
              "\n",
              "    .dataframe tbody tr th {\n",
              "        vertical-align: top;\n",
              "    }\n",
              "\n",
              "    .dataframe thead th {\n",
              "        text-align: right;\n",
              "    }\n",
              "</style>\n",
              "<table border=\"1\" class=\"dataframe\">\n",
              "  <thead>\n",
              "    <tr style=\"text-align: right;\">\n",
              "      <th></th>\n",
              "      <th>video_id</th>\n",
              "      <th>trending_date</th>\n",
              "      <th>title</th>\n",
              "      <th>channel_title</th>\n",
              "      <th>category_id</th>\n",
              "      <th>publish_time</th>\n",
              "      <th>tags</th>\n",
              "      <th>views</th>\n",
              "      <th>likes</th>\n",
              "      <th>dislikes</th>\n",
              "      <th>comment_count</th>\n",
              "      <th>thumbnail_link</th>\n",
              "      <th>comments_disabled</th>\n",
              "      <th>ratings_disabled</th>\n",
              "      <th>video_error_or_removed</th>\n",
              "      <th>description</th>\n",
              "      <th>category_name</th>\n",
              "    </tr>\n",
              "  </thead>\n",
              "  <tbody>\n",
              "    <tr>\n",
              "      <th>0</th>\n",
              "      <td>Jw1Y-zhQURU</td>\n",
              "      <td>17.14.11</td>\n",
              "      <td>John Lewis Christmas Ad 2017 - #MozTheMonster</td>\n",
              "      <td>John Lewis</td>\n",
              "      <td>26</td>\n",
              "      <td>2017-11-10T07:38:29.000Z</td>\n",
              "      <td>christmas|\"john lewis christmas\"|\"john lewis\"|...</td>\n",
              "      <td>7224515</td>\n",
              "      <td>55681</td>\n",
              "      <td>10247</td>\n",
              "      <td>9479</td>\n",
              "      <td>https://i.ytimg.com/vi/Jw1Y-zhQURU/default.jpg</td>\n",
              "      <td>False</td>\n",
              "      <td>False</td>\n",
              "      <td>False</td>\n",
              "      <td>Click here to continue the story and make your...</td>\n",
              "      <td>Howto &amp; Style</td>\n",
              "    </tr>\n",
              "    <tr>\n",
              "      <th>2</th>\n",
              "      <td>n1WpP7iowLc</td>\n",
              "      <td>17.14.11</td>\n",
              "      <td>Eminem - Walk On Water (Audio) ft. Beyoncé</td>\n",
              "      <td>EminemVEVO</td>\n",
              "      <td>10</td>\n",
              "      <td>2017-11-10T17:00:03.000Z</td>\n",
              "      <td>Eminem|\"Walk\"|\"On\"|\"Water\"|\"Aftermath/Shady/In...</td>\n",
              "      <td>17158579</td>\n",
              "      <td>787420</td>\n",
              "      <td>43420</td>\n",
              "      <td>125882</td>\n",
              "      <td>https://i.ytimg.com/vi/n1WpP7iowLc/default.jpg</td>\n",
              "      <td>False</td>\n",
              "      <td>False</td>\n",
              "      <td>False</td>\n",
              "      <td>Eminem's new track Walk on Water ft. Beyoncé i...</td>\n",
              "      <td>Music</td>\n",
              "    </tr>\n",
              "    <tr>\n",
              "      <th>6</th>\n",
              "      <td>2Vv-BfVoq4g</td>\n",
              "      <td>17.14.11</td>\n",
              "      <td>Ed Sheeran - Perfect (Official Music Video)</td>\n",
              "      <td>Ed Sheeran</td>\n",
              "      <td>10</td>\n",
              "      <td>2017-11-09T11:04:14.000Z</td>\n",
              "      <td>edsheeran|\"ed sheeran\"|\"acoustic\"|\"live\"|\"cove...</td>\n",
              "      <td>33523622</td>\n",
              "      <td>1634124</td>\n",
              "      <td>21082</td>\n",
              "      <td>85067</td>\n",
              "      <td>https://i.ytimg.com/vi/2Vv-BfVoq4g/default.jpg</td>\n",
              "      <td>False</td>\n",
              "      <td>False</td>\n",
              "      <td>False</td>\n",
              "      <td>🎧: https://ad.gt/yt-perfect\\n💰: https://atlant...</td>\n",
              "      <td>Music</td>\n",
              "    </tr>\n",
              "    <tr>\n",
              "      <th>9</th>\n",
              "      <td>9t9u_yPEidY</td>\n",
              "      <td>17.14.11</td>\n",
              "      <td>Jennifer Lopez - Amor, Amor, Amor (Official Vi...</td>\n",
              "      <td>JenniferLopezVEVO</td>\n",
              "      <td>10</td>\n",
              "      <td>2017-11-10T15:00:00.000Z</td>\n",
              "      <td>Jennifer Lopez ft. Wisin|\"Jennifer Lopez ft. W...</td>\n",
              "      <td>9548677</td>\n",
              "      <td>190084</td>\n",
              "      <td>15015</td>\n",
              "      <td>11473</td>\n",
              "      <td>https://i.ytimg.com/vi/9t9u_yPEidY/default.jpg</td>\n",
              "      <td>False</td>\n",
              "      <td>False</td>\n",
              "      <td>False</td>\n",
              "      <td>Jennifer Lopez ft. Wisin - Amor, Amor, Amor (O...</td>\n",
              "      <td>Music</td>\n",
              "    </tr>\n",
              "    <tr>\n",
              "      <th>17</th>\n",
              "      <td>pz95u3UVpaM</td>\n",
              "      <td>17.14.11</td>\n",
              "      <td>Camila Cabello - Havana (Vertical Video) ft. Y...</td>\n",
              "      <td>CamilaCabelloVEVO</td>\n",
              "      <td>10</td>\n",
              "      <td>2017-11-10T05:01:00.000Z</td>\n",
              "      <td>camila cabello|\"camila\"|\"young thug\"|\"havana\"|...</td>\n",
              "      <td>5476738</td>\n",
              "      <td>286269</td>\n",
              "      <td>4083</td>\n",
              "      <td>12254</td>\n",
              "      <td>https://i.ytimg.com/vi/pz95u3UVpaM/default.jpg</td>\n",
              "      <td>False</td>\n",
              "      <td>False</td>\n",
              "      <td>False</td>\n",
              "      <td>Havana – Spotify Vertical Video \\nVideo Direct...</td>\n",
              "      <td>Music</td>\n",
              "    </tr>\n",
              "    <tr>\n",
              "      <th>...</th>\n",
              "      <td>...</td>\n",
              "      <td>...</td>\n",
              "      <td>...</td>\n",
              "      <td>...</td>\n",
              "      <td>...</td>\n",
              "      <td>...</td>\n",
              "      <td>...</td>\n",
              "      <td>...</td>\n",
              "      <td>...</td>\n",
              "      <td>...</td>\n",
              "      <td>...</td>\n",
              "      <td>...</td>\n",
              "      <td>...</td>\n",
              "      <td>...</td>\n",
              "      <td>...</td>\n",
              "      <td>...</td>\n",
              "      <td>...</td>\n",
              "    </tr>\n",
              "    <tr>\n",
              "      <th>33809</th>\n",
              "      <td>r17fqELkv7g</td>\n",
              "      <td>18.15.05</td>\n",
              "      <td>Azealia Banks Talks New Single, The State Of F...</td>\n",
              "      <td>Breakfast Club Power 105.1 FM</td>\n",
              "      <td>24</td>\n",
              "      <td>2018-05-11T13:09:00.000Z</td>\n",
              "      <td>the breakfast club|\"power1051\"|\"celebrity news...</td>\n",
              "      <td>1226764</td>\n",
              "      <td>19290</td>\n",
              "      <td>6581</td>\n",
              "      <td>19661</td>\n",
              "      <td>https://i.ytimg.com/vi/r17fqELkv7g/default.jpg</td>\n",
              "      <td>False</td>\n",
              "      <td>False</td>\n",
              "      <td>False</td>\n",
              "      <td>► Listen LIVE: http://power1051fm.com/► Facebo...</td>\n",
              "      <td>Entertainment</td>\n",
              "    </tr>\n",
              "    <tr>\n",
              "      <th>35271</th>\n",
              "      <td>zCot9TDoA-M</td>\n",
              "      <td>18.24.05</td>\n",
              "      <td>Official Call of Duty ®: Black Ops 4 Zombies —...</td>\n",
              "      <td>Call of Duty</td>\n",
              "      <td>20</td>\n",
              "      <td>2018-05-17T17:39:53.000Z</td>\n",
              "      <td>call of duty|\"cod\"|\"activision\"|\"Zombies\"|\"Bla...</td>\n",
              "      <td>1248113</td>\n",
              "      <td>68082</td>\n",
              "      <td>2864</td>\n",
              "      <td>9697</td>\n",
              "      <td>https://i.ytimg.com/vi/zCot9TDoA-M/default.jpg</td>\n",
              "      <td>False</td>\n",
              "      <td>False</td>\n",
              "      <td>False</td>\n",
              "      <td>The return of a fan-favorite. The legacy of Zo...</td>\n",
              "      <td>Gaming</td>\n",
              "    </tr>\n",
              "    <tr>\n",
              "      <th>35435</th>\n",
              "      <td>wswvNZveNHc</td>\n",
              "      <td>18.25.05</td>\n",
              "      <td>Charmed (The CW) Trailer HD - 2018 Reboot</td>\n",
              "      <td>TV Promos</td>\n",
              "      <td>24</td>\n",
              "      <td>2018-05-17T16:07:29.000Z</td>\n",
              "      <td>[none]</td>\n",
              "      <td>1631193</td>\n",
              "      <td>28071</td>\n",
              "      <td>13497</td>\n",
              "      <td>10610</td>\n",
              "      <td>https://i.ytimg.com/vi/wswvNZveNHc/default.jpg</td>\n",
              "      <td>False</td>\n",
              "      <td>False</td>\n",
              "      <td>False</td>\n",
              "      <td>After the tragic death of their mother, three ...</td>\n",
              "      <td>Entertainment</td>\n",
              "    </tr>\n",
              "    <tr>\n",
              "      <th>35921</th>\n",
              "      <td>Ut7e-0X8lds</td>\n",
              "      <td>18.28.05</td>\n",
              "      <td>30-year-old evicted from parents' home speaks ...</td>\n",
              "      <td>CNN</td>\n",
              "      <td>25</td>\n",
              "      <td>2018-05-23T21:15:59.000Z</td>\n",
              "      <td>latest News|\"Happening Now\"|\"CNN\"|\"US\"|\"Newsro...</td>\n",
              "      <td>2232908</td>\n",
              "      <td>7101</td>\n",
              "      <td>6865</td>\n",
              "      <td>24228</td>\n",
              "      <td>https://i.ytimg.com/vi/Ut7e-0X8lds/default.jpg</td>\n",
              "      <td>False</td>\n",
              "      <td>False</td>\n",
              "      <td>False</td>\n",
              "      <td>A judge ruled in favor of parents who wanted t...</td>\n",
              "      <td>News &amp; Politics</td>\n",
              "    </tr>\n",
              "    <tr>\n",
              "      <th>38588</th>\n",
              "      <td>1zNr8Pf1QkY</td>\n",
              "      <td>18.13.06</td>\n",
              "      <td>Robert de Niro's 'Fuck Trump' speech at Tony a...</td>\n",
              "      <td>Guardian News</td>\n",
              "      <td>25</td>\n",
              "      <td>2018-06-11T09:14:15.000Z</td>\n",
              "      <td>film|\"gdnpfpculturefilm\"|\"Robert de Niro\"|\"Don...</td>\n",
              "      <td>1805611</td>\n",
              "      <td>20288</td>\n",
              "      <td>10426</td>\n",
              "      <td>16351</td>\n",
              "      <td>https://i.ytimg.com/vi/1zNr8Pf1QkY/default.jpg</td>\n",
              "      <td>False</td>\n",
              "      <td>False</td>\n",
              "      <td>False</td>\n",
              "      <td>The actor and long-time critic of Donald Trump...</td>\n",
              "      <td>News &amp; Politics</td>\n",
              "    </tr>\n",
              "  </tbody>\n",
              "</table>\n",
              "<p>476 rows × 17 columns</p>\n",
              "</div>"
            ],
            "text/plain": [
              "          video_id  ...    category_name\n",
              "0      Jw1Y-zhQURU  ...    Howto & Style\n",
              "2      n1WpP7iowLc  ...            Music\n",
              "6      2Vv-BfVoq4g  ...            Music\n",
              "9      9t9u_yPEidY  ...            Music\n",
              "17     pz95u3UVpaM  ...            Music\n",
              "...            ...  ...              ...\n",
              "33809  r17fqELkv7g  ...    Entertainment\n",
              "35271  zCot9TDoA-M  ...           Gaming\n",
              "35435  wswvNZveNHc  ...    Entertainment\n",
              "35921  Ut7e-0X8lds  ...  News & Politics\n",
              "38588  1zNr8Pf1QkY  ...  News & Politics\n",
              "\n",
              "[476 rows x 17 columns]"
            ]
          },
          "metadata": {
            "tags": []
          },
          "execution_count": 15
        }
      ]
    },
    {
      "cell_type": "code",
      "metadata": {
        "id": "UfLP8y_2dUaA",
        "colab_type": "code",
        "colab": {}
      },
      "source": [
        "#Deletando os Outliers encontrados\n",
        "df_GB2 = df_GB2.drop(Outliers_to_drop, axis = 0).reset_index(drop=True)"
      ],
      "execution_count": 0,
      "outputs": []
    },
    {
      "cell_type": "code",
      "metadata": {
        "id": "X5uAqljpdcmC",
        "colab_type": "code",
        "colab": {
          "base_uri": "https://localhost:8080/",
          "height": 107
        },
        "outputId": "68bdcb1c-bba1-45eb-8c57-848c01d5ff11"
      },
      "source": [
        "#Percentual dos valores nulos\n",
        "percent_missing = round(df_GB2.isnull().sum() * 100 / len(df_GB2),2)\n",
        "missing_value_df = pd.DataFrame({'column_name': df_GB2.columns, 'percent_missing': percent_missing})\n",
        "missing_value_df = missing_value_df[missing_value_df['percent_missing'] > 0]\n",
        "missing_value_df.sort_values('percent_missing', inplace=True, ascending=False)\n",
        "missing_value_df"
      ],
      "execution_count": 17,
      "outputs": [
        {
          "output_type": "execute_result",
          "data": {
            "text/html": [
              "<div>\n",
              "<style scoped>\n",
              "    .dataframe tbody tr th:only-of-type {\n",
              "        vertical-align: middle;\n",
              "    }\n",
              "\n",
              "    .dataframe tbody tr th {\n",
              "        vertical-align: top;\n",
              "    }\n",
              "\n",
              "    .dataframe thead th {\n",
              "        text-align: right;\n",
              "    }\n",
              "</style>\n",
              "<table border=\"1\" class=\"dataframe\">\n",
              "  <thead>\n",
              "    <tr style=\"text-align: right;\">\n",
              "      <th></th>\n",
              "      <th>column_name</th>\n",
              "      <th>percent_missing</th>\n",
              "    </tr>\n",
              "  </thead>\n",
              "  <tbody>\n",
              "    <tr>\n",
              "      <th>description</th>\n",
              "      <td>description</td>\n",
              "      <td>1.93</td>\n",
              "    </tr>\n",
              "    <tr>\n",
              "      <th>category_name</th>\n",
              "      <td>category_name</td>\n",
              "      <td>0.18</td>\n",
              "    </tr>\n",
              "  </tbody>\n",
              "</table>\n",
              "</div>"
            ],
            "text/plain": [
              "                 column_name  percent_missing\n",
              "description      description             1.93\n",
              "category_name  category_name             0.18"
            ]
          },
          "metadata": {
            "tags": []
          },
          "execution_count": 17
        }
      ]
    },
    {
      "cell_type": "code",
      "metadata": {
        "id": "kcN2I4OjePht",
        "colab_type": "code",
        "colab": {}
      },
      "source": [
        "#Substituindo os valores na da coluna description e category_name por'Missing' \n",
        "df_GB2.description.fillna('Missing', inplace=True)\n",
        "df_GB2.category_name.fillna('Missing', inplace=True)"
      ],
      "execution_count": 0,
      "outputs": []
    },
    {
      "cell_type": "code",
      "metadata": {
        "id": "UU3HF0wYeSeU",
        "colab_type": "code",
        "colab": {
          "base_uri": "https://localhost:8080/",
          "height": 336
        },
        "outputId": "eb0a4657-7ec7-480a-d6a1-00487ff8c7dc"
      },
      "source": [
        "# Detectando Valores nulos\n",
        "df_GB2.isnull().sum()/ len(df_GB2) * 100"
      ],
      "execution_count": 19,
      "outputs": [
        {
          "output_type": "execute_result",
          "data": {
            "text/plain": [
              "video_id                  0.0\n",
              "trending_date             0.0\n",
              "title                     0.0\n",
              "channel_title             0.0\n",
              "category_id               0.0\n",
              "publish_time              0.0\n",
              "tags                      0.0\n",
              "views                     0.0\n",
              "likes                     0.0\n",
              "dislikes                  0.0\n",
              "comment_count             0.0\n",
              "thumbnail_link            0.0\n",
              "comments_disabled         0.0\n",
              "ratings_disabled          0.0\n",
              "video_error_or_removed    0.0\n",
              "description               0.0\n",
              "category_name             0.0\n",
              "dtype: float64"
            ]
          },
          "metadata": {
            "tags": []
          },
          "execution_count": 19
        }
      ]
    },
    {
      "cell_type": "code",
      "metadata": {
        "id": "-bhRb3y-eViq",
        "colab_type": "code",
        "colab": {
          "base_uri": "https://localhost:8080/",
          "height": 298
        },
        "outputId": "76dea762-4f5f-47f1-dc16-62206eea6db9"
      },
      "source": [
        "# Bloxpot feature 'category_id'\n",
        "plt.boxplot(df_GB2['category_id'])\n",
        "plt.title('Boxplot: category_id')\n",
        "plt.ylabel('category_id')"
      ],
      "execution_count": 20,
      "outputs": [
        {
          "output_type": "execute_result",
          "data": {
            "text/plain": [
              "Text(0, 0.5, 'category_id')"
            ]
          },
          "metadata": {
            "tags": []
          },
          "execution_count": 20
        },
        {
          "output_type": "display_data",
          "data": {
            "image/png": "[encoded data removed]",
            "text/plain": [
              "<Figure size 432x288 with 1 Axes>"
            ]
          },
          "metadata": {
            "tags": []
          }
        }
      ]
    },
    {
      "cell_type": "markdown",
      "metadata": {
        "id": "3LKmePVMezvq",
        "colab_type": "text"
      },
      "source": [
        "### Análise e Visualização"
      ]
    },
    {
      "cell_type": "code",
      "metadata": {
        "id": "Ow9NBtAAed-W",
        "colab_type": "code",
        "colab": {
          "base_uri": "https://localhost:8080/",
          "height": 627
        },
        "outputId": "b4100c32-11c2-4eca-c971-2d86c8bf7898"
      },
      "source": [
        "#Correlação de todas as variáveis\n",
        "\n",
        "plt.figure(figsize=[20,10])\n",
        "plt.title('Correlation between features total dataset')\n",
        "sns.heatmap(df_GB2.corr(), annot=True, fmt='.2f', vmin=-1, vmax=1, cmap=sns.diverging_palette(999, 999, n=20))\n",
        "plt.show()"
      ],
      "execution_count": 21,
      "outputs": [
        {
          "output_type": "display_data",
          "data": {
            "image/png": "[encoded data removed]",
            "text/plain": [
              "<Figure size 1440x720 with 2 Axes>"
            ]
          },
          "metadata": {
            "tags": []
          }
        }
      ]
    },
    {
      "cell_type": "markdown",
      "metadata": {
        "id": "PFtmOnzje7ZS",
        "colab_type": "text"
      },
      "source": [
        "### Modelando"
      ]
    },
    {
      "cell_type": "code",
      "metadata": {
        "id": "qP-6C4yie8QR",
        "colab_type": "code",
        "colab": {
          "base_uri": "https://localhost:8080/",
          "height": 197
        },
        "outputId": "2bb3aebc-1358-45a0-eada-1e739161ec26"
      },
      "source": [
        "#Deletando as colunas \"genero\" e \"des_email\"\n",
        "train_bkp = df_GB2.copy()\n",
        "df_GB2.drop(['video_id', 'trending_date', 'title', 'channel_title', 'publish_time', 'tags', 'thumbnail_link', 'description', 'category_name', 'comments_disabled', 'ratings_disabled', 'video_error_or_removed' ],axis=1,inplace=True)\n",
        "df_GB2.head()"
      ],
      "execution_count": 26,
      "outputs": [
        {
          "output_type": "execute_result",
          "data": {
            "text/html": [
              "<div>\n",
              "<style scoped>\n",
              "    .dataframe tbody tr th:only-of-type {\n",
              "        vertical-align: middle;\n",
              "    }\n",
              "\n",
              "    .dataframe tbody tr th {\n",
              "        vertical-align: top;\n",
              "    }\n",
              "\n",
              "    .dataframe thead th {\n",
              "        text-align: right;\n",
              "    }\n",
              "</style>\n",
              "<table border=\"1\" class=\"dataframe\">\n",
              "  <thead>\n",
              "    <tr style=\"text-align: right;\">\n",
              "      <th></th>\n",
              "      <th>category_id</th>\n",
              "      <th>views</th>\n",
              "      <th>likes</th>\n",
              "      <th>dislikes</th>\n",
              "      <th>comment_count</th>\n",
              "    </tr>\n",
              "  </thead>\n",
              "  <tbody>\n",
              "    <tr>\n",
              "      <th>0</th>\n",
              "      <td>24</td>\n",
              "      <td>1053632</td>\n",
              "      <td>25561</td>\n",
              "      <td>2294</td>\n",
              "      <td>2757</td>\n",
              "    </tr>\n",
              "    <tr>\n",
              "      <th>1</th>\n",
              "      <td>17</td>\n",
              "      <td>27833</td>\n",
              "      <td>193</td>\n",
              "      <td>12</td>\n",
              "      <td>37</td>\n",
              "    </tr>\n",
              "    <tr>\n",
              "      <th>2</th>\n",
              "      <td>25</td>\n",
              "      <td>9815</td>\n",
              "      <td>30</td>\n",
              "      <td>2</td>\n",
              "      <td>30</td>\n",
              "    </tr>\n",
              "    <tr>\n",
              "      <th>3</th>\n",
              "      <td>24</td>\n",
              "      <td>1182775</td>\n",
              "      <td>52708</td>\n",
              "      <td>1431</td>\n",
              "      <td>2333</td>\n",
              "    </tr>\n",
              "    <tr>\n",
              "      <th>4</th>\n",
              "      <td>22</td>\n",
              "      <td>1164201</td>\n",
              "      <td>57309</td>\n",
              "      <td>749</td>\n",
              "      <td>624</td>\n",
              "    </tr>\n",
              "  </tbody>\n",
              "</table>\n",
              "</div>"
            ],
            "text/plain": [
              "   category_id    views  likes  dislikes  comment_count\n",
              "0           24  1053632  25561      2294           2757\n",
              "1           17    27833    193        12             37\n",
              "2           25     9815     30         2             30\n",
              "3           24  1182775  52708      1431           2333\n",
              "4           22  1164201  57309       749            624"
            ]
          },
          "metadata": {
            "tags": []
          },
          "execution_count": 26
        }
      ]
    },
    {
      "cell_type": "code",
      "metadata": {
        "id": "QpBZISVOe-YL",
        "colab_type": "code",
        "colab": {}
      },
      "source": [
        "x = df_GB2.drop(columns=['views']).copy()\n",
        "y = df_GB2['views']"
      ],
      "execution_count": 0,
      "outputs": []
    },
    {
      "cell_type": "code",
      "metadata": {
        "id": "DjKwF4C5fDcq",
        "colab_type": "code",
        "colab": {
          "base_uri": "https://localhost:8080/",
          "height": 52
        },
        "outputId": "ad8b704b-4ecf-489e-fde6-0fb04c73fd64"
      },
      "source": [
        "#Separando o dataframe em traino e teste\n",
        "x_train, x_test, y_train, y_test = train_test_split(x,y,test_size=0.3,random_state=1)\n",
        "\n",
        "print(x_train.shape, y_train.shape)\n",
        "print(x_test.shape, y_test.shape)"
      ],
      "execution_count": 29,
      "outputs": [
        {
          "output_type": "stream",
          "text": [
            "(1957, 4) (1957,)\n",
            "(839, 4) (839,)\n"
          ],
          "name": "stdout"
        }
      ]
    },
    {
      "cell_type": "markdown",
      "metadata": {
        "id": "AVsMKxffmHnv",
        "colab_type": "text"
      },
      "source": [
        "## Feature Importance"
      ]
    },
    {
      "cell_type": "code",
      "metadata": {
        "id": "2VYuSN8VfH5m",
        "colab_type": "code",
        "colab": {
          "base_uri": "https://localhost:8080/",
          "height": 350
        },
        "outputId": "4c207ed8-699b-4e9e-8f7c-8fd9c0c7978d"
      },
      "source": [
        "#Construção do Modelo de classificação Random Forest\n",
        "rfmodel = RandomForestClassifier(random_state=0,n_estimators=450,criterion='gini',n_jobs=-1,max_depth = 8,min_samples_leaf=1,min_samples_split= 11)\n",
        "\n",
        "#Treinamento do modelo em X_train, Y_train\n",
        "rfmodel.fit(x_train,y_train)\n",
        "\n",
        "#Predição do modelo no X_test\n",
        "y_pred = rfmodel.predict(x_test)\n",
        "proba = rfmodel.predict_proba(x_test)\n",
        "\n",
        "#Variáveis Importantes\n",
        "imp = rfmodel.feature_importances_\n",
        "names = df_GB2.columns\n",
        "\n",
        "imp, names = zip(*sorted(zip(imp, names)))\n",
        "\n",
        "plt.barh(range(len(names)), imp, align = \"center\")\n",
        "plt.yticks(range(len(names)), names)\n",
        "plt.xlabel(\"Importance of Features\")\n",
        "plt.ylabel(\"Features\")\n",
        "plt.title(\"Importance of each feature\")\n",
        "fig=plt.gcf()\n",
        "fig.set_size_inches(18,5)\n",
        "plt.show()"
      ],
      "execution_count": 30,
      "outputs": [
        {
          "output_type": "display_data",
          "data": {
            "image/png": "[encoded data removed]",
            "text/plain": [
              "<Figure size 1296x360 with 1 Axes>"
            ]
          },
          "metadata": {
            "tags": []
          }
        }
      ]
    },
    {
      "cell_type": "code",
      "metadata": {
        "id": "zpveUE1SfRYk",
        "colab_type": "code",
        "colab": {
          "base_uri": "https://localhost:8080/",
          "height": 167
        },
        "outputId": "5eee98e4-9ccb-4130-9c8e-c85fc1751a13"
      },
      "source": [
        "a = {'names':names,'imp':imp}\n",
        "tabela = pd.DataFrame(data=a)\n",
        "tabela"
      ],
      "execution_count": 31,
      "outputs": [
        {
          "output_type": "execute_result",
          "data": {
            "text/html": [
              "<div>\n",
              "<style scoped>\n",
              "    .dataframe tbody tr th:only-of-type {\n",
              "        vertical-align: middle;\n",
              "    }\n",
              "\n",
              "    .dataframe tbody tr th {\n",
              "        vertical-align: top;\n",
              "    }\n",
              "\n",
              "    .dataframe thead th {\n",
              "        text-align: right;\n",
              "    }\n",
              "</style>\n",
              "<table border=\"1\" class=\"dataframe\">\n",
              "  <thead>\n",
              "    <tr style=\"text-align: right;\">\n",
              "      <th></th>\n",
              "      <th>names</th>\n",
              "      <th>imp</th>\n",
              "    </tr>\n",
              "  </thead>\n",
              "  <tbody>\n",
              "    <tr>\n",
              "      <th>0</th>\n",
              "      <td>category_id</td>\n",
              "      <td>0.126484</td>\n",
              "    </tr>\n",
              "    <tr>\n",
              "      <th>1</th>\n",
              "      <td>dislikes</td>\n",
              "      <td>0.278885</td>\n",
              "    </tr>\n",
              "    <tr>\n",
              "      <th>2</th>\n",
              "      <td>likes</td>\n",
              "      <td>0.280685</td>\n",
              "    </tr>\n",
              "    <tr>\n",
              "      <th>3</th>\n",
              "      <td>views</td>\n",
              "      <td>0.313946</td>\n",
              "    </tr>\n",
              "  </tbody>\n",
              "</table>\n",
              "</div>"
            ],
            "text/plain": [
              "         names       imp\n",
              "0  category_id  0.126484\n",
              "1     dislikes  0.278885\n",
              "2        likes  0.280685\n",
              "3        views  0.313946"
            ]
          },
          "metadata": {
            "tags": []
          },
          "execution_count": 31
        }
      ]
    },
    {
      "cell_type": "markdown",
      "metadata": {
        "id": "nejrmudZm7ji",
        "colab_type": "text"
      },
      "source": [
        "## Cross Validation\n"
      ]
    },
    {
      "cell_type": "code",
      "metadata": {
        "id": "wMGFWsSUjdV9",
        "colab_type": "code",
        "colab": {
          "base_uri": "https://localhost:8080/",
          "height": 107
        },
        "outputId": "2c18db4a-ef35-4efb-a4b9-33b7046174b6"
      },
      "source": [
        "#Applying K-Fold Cross Validation\n",
        "accuracies = cross_val_score(estimator=rfmodel,X= x_train,y=y_train,cv=2)\n",
        "print(accuracies)\n",
        "acc_train = accuracies.mean() #Prints out the  average of the 10 scores.\n",
        "acc_train"
      ],
      "execution_count": 38,
      "outputs": [
        {
          "output_type": "stream",
          "text": [
            "/usr/local/lib/python3.6/dist-packages/sklearn/model_selection/_split.py:657: Warning: The least populated class in y has only 1 members, which is too few. The minimum number of members in any class cannot be less than n_splits=2.\n",
            "  % (min_groups, self.n_splits)), Warning)\n"
          ],
          "name": "stderr"
        },
        {
          "output_type": "stream",
          "text": [
            "[0.00051203 0.        ]\n"
          ],
          "name": "stdout"
        },
        {
          "output_type": "execute_result",
          "data": {
            "text/plain": [
              "0.0002560163850486431"
            ]
          },
          "metadata": {
            "tags": []
          },
          "execution_count": 38
        }
      ]
    },
    {
      "cell_type": "code",
      "metadata": {
        "id": "t51AaCy0kqG2",
        "colab_type": "code",
        "colab": {}
      },
      "source": [
        ""
      ],
      "execution_count": 0,
      "outputs": []
    }
  ]
}