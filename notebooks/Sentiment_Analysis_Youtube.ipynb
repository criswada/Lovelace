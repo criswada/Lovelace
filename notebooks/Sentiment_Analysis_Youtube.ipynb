{
  "nbformat": 4,
  "nbformat_minor": 0,
  "metadata": {
    "colab": {
      "name": "Sentiment_Analysis_Youtube.ipynb",
      "provenance": [],
      "collapsed_sections": []
    },
    "kernelspec": {
      "name": "python3",
      "display_name": "Python 3"
    }
  },
  "cells": [
    {
      "cell_type": "code",
      "metadata": {
        "id": "xIdGUMlldJ7K",
        "colab_type": "code",
        "colab": {}
      },
      "source": [
        "import numpy as np\n",
        "import pandas as pd\n",
        "\n",
        "import matplotlib.pyplot as plt\n",
        "import seaborn as sns"
      ],
      "execution_count": 0,
      "outputs": []
    },
    {
      "cell_type": "code",
      "metadata": {
        "id": "pNaRXNgveBeh",
        "colab_type": "code",
        "colab": {}
      },
      "source": [
        "df = pd.read_csv('USvideos.csv')"
      ],
      "execution_count": 0,
      "outputs": []
    },
    {
      "cell_type": "code",
      "metadata": {
        "id": "eIXDz-pfgXhA",
        "colab_type": "code",
        "colab": {
          "base_uri": "https://localhost:8080/",
          "height": 85
        },
        "outputId": "f0e1307b-f92f-4842-e5b8-e2f376f96740"
      },
      "source": [
        "# Remove videos without features important to our analysis \n",
        "drop_col = ['video_error_or_removed', 'ratings_disabled', 'comments_disabled', 'thumbnail_link']\n",
        "df.drop(columns=drop_col, inplace=True)\n",
        "df.columns"
      ],
      "execution_count": 3,
      "outputs": [
        {
          "output_type": "execute_result",
          "data": {
            "text/plain": [
              "Index(['video_id', 'trending_date', 'title', 'channel_title', 'category_id',\n",
              "       'publish_time', 'tags', 'views', 'likes', 'dislikes', 'comment_count',\n",
              "       'description'],\n",
              "      dtype='object')"
            ]
          },
          "metadata": {
            "tags": []
          },
          "execution_count": 3
        }
      ]
    },
    {
      "cell_type": "code",
      "metadata": {
        "id": "HyykKzcPh9mR",
        "colab_type": "code",
        "colab": {}
      },
      "source": [
        "df.trending_date = pd.to_datetime(df.trending_date, format='%y.%d.%m')"
      ],
      "execution_count": 0,
      "outputs": []
    },
    {
      "cell_type": "markdown",
      "metadata": {
        "id": "10Ofcxhq0i9O",
        "colab_type": "text"
      },
      "source": [
        "Cada vídeo pode aparecer mais de uma vez no dataset. Em geral, cada um tem uma data de início e alguns dias seguidos que continuou como trend. Decidimos pegar o registro do último dia como trend e remover os demais valores ambíguos."
      ]
    },
    {
      "cell_type": "code",
      "metadata": {
        "id": "TLX6kQWUqYPk",
        "colab_type": "code",
        "colab": {}
      },
      "source": [
        "# Group according video_id, take the video last trend date and remove duplicates\n",
        "df_last = df.groupby('video_id').apply(lambda x: x.sort_values(['trending_date'], ascending=False).head(1))"
      ],
      "execution_count": 0,
      "outputs": []
    },
    {
      "cell_type": "markdown",
      "metadata": {
        "id": "16X_0yMF1QcF",
        "colab_type": "text"
      },
      "source": [
        "Iremos quantificar as emoções em relação ao vídeo em função da proporção de curti, não curti, contagem de comentários em relação à quantidade de visualizações."
      ]
    },
    {
      "cell_type": "code",
      "metadata": {
        "id": "wQEQQUc21Pgd",
        "colab_type": "code",
        "colab": {
          "base_uri": "https://localhost:8080/",
          "height": 297
        },
        "outputId": "a50b0e58-14d0-4f30-894c-3c40d5ab5da6"
      },
      "source": [
        "# Relative Likes \n",
        "\n",
        "df_last['likes_perc'] =(df_last['likes']/df_last['views'])*100\n",
        "df_last['likes_perc'].sort_values(ascending=False).head()\n",
        "mean_likes = np.mean(df_last['likes_perc'])\n",
        "print('Average of relative likes: ', mean_likes)\n",
        "\n",
        "_ = sns.distplot(df_last['likes_perc'])"
      ],
      "execution_count": 6,
      "outputs": [
        {
          "output_type": "stream",
          "text": [
            "Average of relative likes:  2.965573877171347\n"
          ],
          "name": "stdout"
        },
        {
          "output_type": "display_data",
          "data": {
            "image/png": "[encoded data removed]",
            "text/plain": [
              "<Figure size 432x288 with 1 Axes>"
            ]
          },
          "metadata": {
            "tags": []
          }
        }
      ]
    },
    {
      "cell_type": "code",
      "metadata": {
        "id": "EcaYpvGj1LeW",
        "colab_type": "code",
        "colab": {
          "base_uri": "https://localhost:8080/",
          "height": 297
        },
        "outputId": "cbfb3846-32d6-4b33-e024-63a4bb7348cb"
      },
      "source": [
        "# Relative Dislikes\n",
        "\n",
        "df_last['dislikes_perc'] =(df_last['dislikes']/df_last['views'])*100\n",
        "df_last['dislikes_perc'].sort_values(ascending=False).head()\n",
        "mean_dislikes = np.mean(df_last['dislikes_perc'])\n",
        "print('Average of relative dislikes: ', mean_dislikes)\n",
        "\n",
        "_ = sns.distplot(df_last['dislikes_perc'])"
      ],
      "execution_count": 7,
      "outputs": [
        {
          "output_type": "stream",
          "text": [
            "Average of relative dislikes:  0.15935640471726029\n"
          ],
          "name": "stdout"
        },
        {
          "output_type": "display_data",
          "data": {
            "image/png": "[encoded data removed]",
            "text/plain": [
              "<Figure size 432x288 with 1 Axes>"
            ]
          },
          "metadata": {
            "tags": []
          }
        }
      ]
    },
    {
      "cell_type": "code",
      "metadata": {
        "id": "TbaSU6z87UxD",
        "colab_type": "code",
        "colab": {
          "base_uri": "https://localhost:8080/",
          "height": 297
        },
        "outputId": "80a0ee7d-43d5-4f9b-efc8-98976cb28f89"
      },
      "source": [
        "# Relative Discussions (amount of comments)\n",
        "\n",
        "df_last['comment_perc'] =(df_last['comment_count']/df_last['views'])*100\n",
        "df_last['comment_perc'].sort_values(ascending=False).head()\n",
        "mean_comment = np.mean(df_last['comment_perc'])\n",
        "print('Average of relative comments: ', mean_comment)\n",
        "\n",
        "_ = sns.distplot(df_last['comment_perc'])"
      ],
      "execution_count": 8,
      "outputs": [
        {
          "output_type": "stream",
          "text": [
            "Average of relative comments:  0.4051785150755059\n"
          ],
          "name": "stdout"
        },
        {
          "output_type": "display_data",
          "data": {
            "image/png": "[encoded data removed]",
            "text/plain": [
              "<Figure size 432x288 with 1 Axes>"
            ]
          },
          "metadata": {
            "tags": []
          }
        }
      ]
    },
    {
      "cell_type": "code",
      "metadata": {
        "id": "Fm3lHoEmBcqk",
        "colab_type": "code",
        "colab": {
          "base_uri": "https://localhost:8080/",
          "height": 307
        },
        "outputId": "a99fe098-2fd6-4ef1-ff71-91c8b8e851a5"
      },
      "source": [
        "mean_visu = np.mean(df_last.views)\n",
        "print(mean_visu)\n",
        "_ = sns.distplot(df_last.views)"
      ],
      "execution_count": 9,
      "outputs": [
        {
          "output_type": "stream",
          "text": [
            "1962117.2407494884\n"
          ],
          "name": "stdout"
        },
        {
          "output_type": "display_data",
          "data": {
            "image/png": "[encoded data removed]",
            "text/plain": [
              "<Figure size 432x288 with 1 Axes>"
            ]
          },
          "metadata": {
            "tags": []
          }
        }
      ]
    },
    {
      "cell_type": "markdown",
      "metadata": {
        "id": "WpJGT69D9Nt_",
        "colab_type": "text"
      },
      "source": [
        "De acordo com as distribuições, percebe-se que mesmo entre os trend videos, poucos usuários registram sua opinião sobre o vídeo.\n",
        "Iremos supor preliminarmente 4 categorias: 'loved', 'hated', 'polemic', 'neutral'\n",
        "\n",
        "1.   Loved: videos com alta porcentagem relativa de curti e baixa de não curti.\n",
        "2.   Hated: videos com baixa porcentagem relativa de curti e alta de não curti\n",
        "3.   Polemic: ambas porcentagens relativas altas.\n",
        "4.   Neutral: ambas porcentagens relativas baixas\n",
        "\n"
      ]
    },
    {
      "cell_type": "code",
      "metadata": {
        "id": "DHHtDHKq9NLv",
        "colab_type": "code",
        "colab": {}
      },
      "source": [
        "df_last.loc[(df_last['likes_perc'] >= mean_likes) & (df_last['dislikes_perc'] < mean_dislikes), 'emotion'] = 'loved' \n",
        "df_last.loc[(df_last['likes_perc'] < mean_likes) & (df_last['dislikes_perc'] >= mean_dislikes), 'emotion'] = 'hated' \n",
        "df_last.loc[(df_last['likes_perc'] >= mean_likes) & (df_last['dislikes_perc'] >= mean_dislikes), 'emotion'] = 'polemic' \n",
        "df_last.loc[(df_last['likes_perc'] < mean_likes) & (df_last['dislikes_perc'] < mean_dislikes), 'emotion'] = 'neutral'\n",
        " "
      ],
      "execution_count": 0,
      "outputs": []
    },
    {
      "cell_type": "code",
      "metadata": {
        "id": "M34k3nW69HWb",
        "colab_type": "code",
        "colab": {
          "base_uri": "https://localhost:8080/",
          "height": 102
        },
        "outputId": "2e51985b-2050-4b1c-e223-e5903cfb2f20"
      },
      "source": [
        "df_last.emotion.value_counts()"
      ],
      "execution_count": 11,
      "outputs": [
        {
          "output_type": "execute_result",
          "data": {
            "text/plain": [
              "neutral    2917\n",
              "loved      1956\n",
              "hated       913\n",
              "polemic     565\n",
              "Name: emotion, dtype: int64"
            ]
          },
          "metadata": {
            "tags": []
          },
          "execution_count": 11
        }
      ]
    },
    {
      "cell_type": "code",
      "metadata": {
        "id": "tGvngJFfJaKm",
        "colab_type": "code",
        "colab": {
          "base_uri": "https://localhost:8080/",
          "height": 697
        },
        "outputId": "2035da37-aca8-4dc0-b8f3-9b470646b31e"
      },
      "source": [
        "df_last.loc[df_last.emotion== 'hated', :].head()"
      ],
      "execution_count": 12,
      "outputs": [
        {
          "output_type": "execute_result",
          "data": {
            "text/html": [
              "<div>\n",
              "<style scoped>\n",
              "    .dataframe tbody tr th:only-of-type {\n",
              "        vertical-align: middle;\n",
              "    }\n",
              "\n",
              "    .dataframe tbody tr th {\n",
              "        vertical-align: top;\n",
              "    }\n",
              "\n",
              "    .dataframe thead th {\n",
              "        text-align: right;\n",
              "    }\n",
              "</style>\n",
              "<table border=\"1\" class=\"dataframe\">\n",
              "  <thead>\n",
              "    <tr style=\"text-align: right;\">\n",
              "      <th></th>\n",
              "      <th></th>\n",
              "      <th>video_id</th>\n",
              "      <th>trending_date</th>\n",
              "      <th>title</th>\n",
              "      <th>channel_title</th>\n",
              "      <th>category_id</th>\n",
              "      <th>publish_time</th>\n",
              "      <th>tags</th>\n",
              "      <th>views</th>\n",
              "      <th>likes</th>\n",
              "      <th>dislikes</th>\n",
              "      <th>comment_count</th>\n",
              "      <th>description</th>\n",
              "      <th>likes_perc</th>\n",
              "      <th>dislikes_perc</th>\n",
              "      <th>comment_perc</th>\n",
              "      <th>emotion</th>\n",
              "    </tr>\n",
              "    <tr>\n",
              "      <th>video_id</th>\n",
              "      <th></th>\n",
              "      <th></th>\n",
              "      <th></th>\n",
              "      <th></th>\n",
              "      <th></th>\n",
              "      <th></th>\n",
              "      <th></th>\n",
              "      <th></th>\n",
              "      <th></th>\n",
              "      <th></th>\n",
              "      <th></th>\n",
              "      <th></th>\n",
              "      <th></th>\n",
              "      <th></th>\n",
              "      <th></th>\n",
              "      <th></th>\n",
              "      <th></th>\n",
              "    </tr>\n",
              "  </thead>\n",
              "  <tbody>\n",
              "    <tr>\n",
              "      <th>-2b4qSoMnKE</th>\n",
              "      <th>7431</th>\n",
              "      <td>-2b4qSoMnKE</td>\n",
              "      <td>2017-12-21</td>\n",
              "      <td>Ex-UFO program chief: We may not be alone</td>\n",
              "      <td>CNN</td>\n",
              "      <td>25</td>\n",
              "      <td>2017-12-19T20:46:33.000Z</td>\n",
              "      <td>latest News|\"Happening Now\"|\"CNN\"|\"luis elizon...</td>\n",
              "      <td>291653</td>\n",
              "      <td>3788</td>\n",
              "      <td>603</td>\n",
              "      <td>3093</td>\n",
              "      <td>Luis Elizondo, a former military intelligence ...</td>\n",
              "      <td>1.298804</td>\n",
              "      <td>0.206753</td>\n",
              "      <td>1.060507</td>\n",
              "      <td>hated</td>\n",
              "    </tr>\n",
              "    <tr>\n",
              "      <th>-El8z4uy5Ac</th>\n",
              "      <th>2507</th>\n",
              "      <td>-El8z4uy5Ac</td>\n",
              "      <td>2017-11-26</td>\n",
              "      <td>The Best Movie Hell to End Up In - After Hours</td>\n",
              "      <td>Cracked</td>\n",
              "      <td>23</td>\n",
              "      <td>2017-11-20T17:00:00.000Z</td>\n",
              "      <td>movie hells|\"hercules\"|\"bedazzled\"|\"all dogs g...</td>\n",
              "      <td>639982</td>\n",
              "      <td>16519</td>\n",
              "      <td>1243</td>\n",
              "      <td>1739</td>\n",
              "      <td>The gang gets together for a frank discussion ...</td>\n",
              "      <td>2.581166</td>\n",
              "      <td>0.194224</td>\n",
              "      <td>0.271726</td>\n",
              "      <td>hated</td>\n",
              "    </tr>\n",
              "    <tr>\n",
              "      <th>-HoAafTYR9w</th>\n",
              "      <th>20933</th>\n",
              "      <td>-HoAafTYR9w</td>\n",
              "      <td>2018-02-28</td>\n",
              "      <td>Trump meets with students following Florida sh...</td>\n",
              "      <td>Washington Post</td>\n",
              "      <td>25</td>\n",
              "      <td>2018-02-21T22:41:17.000Z</td>\n",
              "      <td>breaking news video|\"video updates\"|\"live vide...</td>\n",
              "      <td>50669</td>\n",
              "      <td>411</td>\n",
              "      <td>157</td>\n",
              "      <td>503</td>\n",
              "      <td>President Trump hosts a listening session at t...</td>\n",
              "      <td>0.811147</td>\n",
              "      <td>0.309854</td>\n",
              "      <td>0.992717</td>\n",
              "      <td>hated</td>\n",
              "    </tr>\n",
              "    <tr>\n",
              "      <th>-JVITToppE0</th>\n",
              "      <th>777</th>\n",
              "      <td>-JVITToppE0</td>\n",
              "      <td>2017-11-17</td>\n",
              "      <td>Coach Taggart Monday Presser Ahead of Arizona</td>\n",
              "      <td>GoDucksdotcom</td>\n",
              "      <td>17</td>\n",
              "      <td>2017-11-13T20:41:45.000Z</td>\n",
              "      <td>Oregon|\"Ducks\"|\"college athletics\"|\"college fo...</td>\n",
              "      <td>704</td>\n",
              "      <td>10</td>\n",
              "      <td>2</td>\n",
              "      <td>5</td>\n",
              "      <td>Coach Taggart addresses the media ahead of the...</td>\n",
              "      <td>1.420455</td>\n",
              "      <td>0.284091</td>\n",
              "      <td>0.710227</td>\n",
              "      <td>hated</td>\n",
              "    </tr>\n",
              "    <tr>\n",
              "      <th>-SIp6xSP7ds</th>\n",
              "      <th>3175</th>\n",
              "      <td>-SIp6xSP7ds</td>\n",
              "      <td>2017-11-29</td>\n",
              "      <td>Gayle King and Norah O'Donnell respond to Char...</td>\n",
              "      <td>CBS This Morning</td>\n",
              "      <td>25</td>\n",
              "      <td>2017-11-21T12:35:39.000Z</td>\n",
              "      <td>video|\"cbs\"|\"news\"|\"CBS This Morning\"|\"Charlie...</td>\n",
              "      <td>540227</td>\n",
              "      <td>2533</td>\n",
              "      <td>1212</td>\n",
              "      <td>1766</td>\n",
              "      <td>CBS This Morning co-hosts Norah O'Donnell and ...</td>\n",
              "      <td>0.468877</td>\n",
              "      <td>0.224350</td>\n",
              "      <td>0.326900</td>\n",
              "      <td>hated</td>\n",
              "    </tr>\n",
              "  </tbody>\n",
              "</table>\n",
              "</div>"
            ],
            "text/plain": [
              "                      video_id trending_date  ... comment_perc emotion\n",
              "video_id                                      ...                     \n",
              "-2b4qSoMnKE 7431   -2b4qSoMnKE    2017-12-21  ...     1.060507   hated\n",
              "-El8z4uy5Ac 2507   -El8z4uy5Ac    2017-11-26  ...     0.271726   hated\n",
              "-HoAafTYR9w 20933  -HoAafTYR9w    2018-02-28  ...     0.992717   hated\n",
              "-JVITToppE0 777    -JVITToppE0    2017-11-17  ...     0.710227   hated\n",
              "-SIp6xSP7ds 3175   -SIp6xSP7ds    2017-11-29  ...     0.326900   hated\n",
              "\n",
              "[5 rows x 16 columns]"
            ]
          },
          "metadata": {
            "tags": []
          },
          "execution_count": 12
        }
      ]
    },
    {
      "cell_type": "code",
      "metadata": {
        "id": "oY1FPp2aeH1m",
        "colab_type": "code",
        "colab": {
          "base_uri": "https://localhost:8080/",
          "height": 527
        },
        "outputId": "02d264b9-cdd9-427f-ed90-f57b4946bfd8"
      },
      "source": [
        "df_last.loc[df_last.emotion== 'polemic', :].head()"
      ],
      "execution_count": 13,
      "outputs": [
        {
          "output_type": "execute_result",
          "data": {
            "text/html": [
              "<div>\n",
              "<style scoped>\n",
              "    .dataframe tbody tr th:only-of-type {\n",
              "        vertical-align: middle;\n",
              "    }\n",
              "\n",
              "    .dataframe tbody tr th {\n",
              "        vertical-align: top;\n",
              "    }\n",
              "\n",
              "    .dataframe thead th {\n",
              "        text-align: right;\n",
              "    }\n",
              "</style>\n",
              "<table border=\"1\" class=\"dataframe\">\n",
              "  <thead>\n",
              "    <tr style=\"text-align: right;\">\n",
              "      <th></th>\n",
              "      <th></th>\n",
              "      <th>video_id</th>\n",
              "      <th>trending_date</th>\n",
              "      <th>title</th>\n",
              "      <th>channel_title</th>\n",
              "      <th>category_id</th>\n",
              "      <th>publish_time</th>\n",
              "      <th>tags</th>\n",
              "      <th>views</th>\n",
              "      <th>likes</th>\n",
              "      <th>dislikes</th>\n",
              "      <th>comment_count</th>\n",
              "      <th>description</th>\n",
              "      <th>likes_perc</th>\n",
              "      <th>dislikes_perc</th>\n",
              "      <th>comment_perc</th>\n",
              "      <th>emotion</th>\n",
              "    </tr>\n",
              "    <tr>\n",
              "      <th>video_id</th>\n",
              "      <th></th>\n",
              "      <th></th>\n",
              "      <th></th>\n",
              "      <th></th>\n",
              "      <th></th>\n",
              "      <th></th>\n",
              "      <th></th>\n",
              "      <th></th>\n",
              "      <th></th>\n",
              "      <th></th>\n",
              "      <th></th>\n",
              "      <th></th>\n",
              "      <th></th>\n",
              "      <th></th>\n",
              "      <th></th>\n",
              "      <th></th>\n",
              "      <th></th>\n",
              "    </tr>\n",
              "  </thead>\n",
              "  <tbody>\n",
              "    <tr>\n",
              "      <th>-5aaJJQFvOg</th>\n",
              "      <th>21947</th>\n",
              "      <td>-5aaJJQFvOg</td>\n",
              "      <td>2018-03-05</td>\n",
              "      <td>Havana - swing cover | dodie feat. FLASHBACK</td>\n",
              "      <td>doddleoddle</td>\n",
              "      <td>10</td>\n",
              "      <td>2018-02-21T22:01:06.000Z</td>\n",
              "      <td>havana|\"cover\"|\"a capella\"|\"swing\"|\"dodie\"|\"fl...</td>\n",
              "      <td>1168351</td>\n",
              "      <td>135280</td>\n",
              "      <td>1917</td>\n",
              "      <td>6282</td>\n",
              "      <td>Hi hi hi! here's our vid on FLASHBACK's channe...</td>\n",
              "      <td>11.578712</td>\n",
              "      <td>0.164077</td>\n",
              "      <td>0.537681</td>\n",
              "      <td>polemic</td>\n",
              "    </tr>\n",
              "    <tr>\n",
              "      <th>-V1Oo7srGf0</th>\n",
              "      <th>15909</th>\n",
              "      <td>-V1Oo7srGf0</td>\n",
              "      <td>2018-02-03</td>\n",
              "      <td>YOUR DATE IS HERE - Horror Short</td>\n",
              "      <td>Midnight Video</td>\n",
              "      <td>1</td>\n",
              "      <td>2018-01-29T13:00:00.000Z</td>\n",
              "      <td>horror|\"horror short\"|\"short\"|\"short film\"|\"my...</td>\n",
              "      <td>70891</td>\n",
              "      <td>5155</td>\n",
              "      <td>129</td>\n",
              "      <td>781</td>\n",
              "      <td>After dusting off an old Mystery Date-style bo...</td>\n",
              "      <td>7.271727</td>\n",
              "      <td>0.181970</td>\n",
              "      <td>1.101691</td>\n",
              "      <td>polemic</td>\n",
              "    </tr>\n",
              "    <tr>\n",
              "      <th>-W6v2_0evUU</th>\n",
              "      <th>6941</th>\n",
              "      <td>-W6v2_0evUU</td>\n",
              "      <td>2017-12-18</td>\n",
              "      <td>Why this elbow is a TIME person of the year</td>\n",
              "      <td>Vox</td>\n",
              "      <td>25</td>\n",
              "      <td>2017-12-13T12:30:00.000Z</td>\n",
              "      <td>vox.com|\"vox\"|\"explain\"|\"harvey weinstein\"|\"me...</td>\n",
              "      <td>485433</td>\n",
              "      <td>19128</td>\n",
              "      <td>1622</td>\n",
              "      <td>1278</td>\n",
              "      <td>The “Silence Breakers” are outliers. Most assa...</td>\n",
              "      <td>3.940400</td>\n",
              "      <td>0.334135</td>\n",
              "      <td>0.263270</td>\n",
              "      <td>polemic</td>\n",
              "    </tr>\n",
              "    <tr>\n",
              "      <th>-kETYvHON_I</th>\n",
              "      <th>14173</th>\n",
              "      <td>-kETYvHON_I</td>\n",
              "      <td>2018-01-25</td>\n",
              "      <td>Why Dying is Illegal in Longyearbyen, Norway</td>\n",
              "      <td>Half as Interesting</td>\n",
              "      <td>27</td>\n",
              "      <td>2018-01-18T15:30:00.000Z</td>\n",
              "      <td>half|\"as\"|\"interesting\"|\"longyearbyen\"|\"norway...</td>\n",
              "      <td>597049</td>\n",
              "      <td>18464</td>\n",
              "      <td>1054</td>\n",
              "      <td>1672</td>\n",
              "      <td>Build your website for 10% off over at http://...</td>\n",
              "      <td>3.092543</td>\n",
              "      <td>0.176535</td>\n",
              "      <td>0.280044</td>\n",
              "      <td>polemic</td>\n",
              "    </tr>\n",
              "    <tr>\n",
              "      <th>-knTMViJqMU</th>\n",
              "      <th>20739</th>\n",
              "      <td>-knTMViJqMU</td>\n",
              "      <td>2018-02-27</td>\n",
              "      <td>Milo Takes Calls From Infowars Listeners</td>\n",
              "      <td>The Alex Jones Channel</td>\n",
              "      <td>25</td>\n",
              "      <td>2018-02-20T22:38:46.000Z</td>\n",
              "      <td>Alex Jones Infowars|\"Infowars.com\"|\"News Wars\"...</td>\n",
              "      <td>25741</td>\n",
              "      <td>916</td>\n",
              "      <td>109</td>\n",
              "      <td>316</td>\n",
              "      <td>Milo Yiannopoulos hosts The Alex Jones Show, t...</td>\n",
              "      <td>3.558525</td>\n",
              "      <td>0.423449</td>\n",
              "      <td>1.227614</td>\n",
              "      <td>polemic</td>\n",
              "    </tr>\n",
              "  </tbody>\n",
              "</table>\n",
              "</div>"
            ],
            "text/plain": [
              "                      video_id trending_date  ... comment_perc  emotion\n",
              "video_id                                      ...                      \n",
              "-5aaJJQFvOg 21947  -5aaJJQFvOg    2018-03-05  ...     0.537681  polemic\n",
              "-V1Oo7srGf0 15909  -V1Oo7srGf0    2018-02-03  ...     1.101691  polemic\n",
              "-W6v2_0evUU 6941   -W6v2_0evUU    2017-12-18  ...     0.263270  polemic\n",
              "-kETYvHON_I 14173  -kETYvHON_I    2018-01-25  ...     0.280044  polemic\n",
              "-knTMViJqMU 20739  -knTMViJqMU    2018-02-27  ...     1.227614  polemic\n",
              "\n",
              "[5 rows x 16 columns]"
            ]
          },
          "metadata": {
            "tags": []
          },
          "execution_count": 13
        }
      ]
    },
    {
      "cell_type": "code",
      "metadata": {
        "id": "AdmE0NIreHnv",
        "colab_type": "code",
        "colab": {}
      },
      "source": [
        ""
      ],
      "execution_count": 0,
      "outputs": []
    }
  ]
}