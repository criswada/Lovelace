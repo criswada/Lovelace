{
  "nbformat": 4,
  "nbformat_minor": 0,
  "metadata": {
    "colab": {
      "name": "Analise_exploratoria.ipynb",
      "provenance": [],
      "collapsed_sections": [],
      "toc_visible": true
    },
    "kernelspec": {
      "name": "python3",
      "display_name": "Python 3"
    }
  },
  "cells": [
    {
      "cell_type": "code",
      "metadata": {
        "id": "ucw1qhvdOpuB",
        "colab_type": "code",
        "colab": {}
      },
      "source": [
        "import pandas as pd\n",
        "import numpy as np\n",
        "import matplotlib.pyplot as plt\n",
        "import seaborn as sns\n",
        "import json\n"
      ],
      "execution_count": 0,
      "outputs": []
    },
    {
      "cell_type": "markdown",
      "metadata": {
        "id": "ypKuVP4rd_99",
        "colab_type": "text"
      },
      "source": [
        "## Pre-processamento"
      ]
    },
    {
      "cell_type": "code",
      "metadata": {
        "id": "VNGPkX3tQL-U",
        "colab_type": "code",
        "colab": {}
      },
      "source": [
        "df = pd.read_csv('USvideos.csv')"
      ],
      "execution_count": 0,
      "outputs": []
    },
    {
      "cell_type": "code",
      "metadata": {
        "id": "oyJcQ7EoQL8W",
        "colab_type": "code",
        "outputId": "d3788e7d-dd87-488b-9199-04473c8c96ab",
        "colab": {
          "base_uri": "https://localhost:8080/",
          "height": 102
        }
      },
      "source": [
        "df.columns"
      ],
      "execution_count": 5,
      "outputs": [
        {
          "output_type": "execute_result",
          "data": {
            "text/plain": [
              "Index(['video_id', 'trending_date', 'title', 'channel_title', 'category_id',\n",
              "       'publish_time', 'tags', 'views', 'likes', 'dislikes', 'comment_count',\n",
              "       'thumbnail_link', 'comments_disabled', 'ratings_disabled',\n",
              "       'video_error_or_removed', 'description'],\n",
              "      dtype='object')"
            ]
          },
          "metadata": {
            "tags": []
          },
          "execution_count": 5
        }
      ]
    },
    {
      "cell_type": "code",
      "metadata": {
        "id": "ap-LfoN3QL6E",
        "colab_type": "code",
        "outputId": "b7dcd663-824b-4e14-f40f-2d497321510c",
        "colab": {
          "base_uri": "https://localhost:8080/",
          "height": 374
        }
      },
      "source": [
        "df.info()"
      ],
      "execution_count": 6,
      "outputs": [
        {
          "output_type": "stream",
          "text": [
            "<class 'pandas.core.frame.DataFrame'>\n",
            "RangeIndex: 40949 entries, 0 to 40948\n",
            "Data columns (total 16 columns):\n",
            "video_id                  40949 non-null object\n",
            "trending_date             40949 non-null object\n",
            "title                     40949 non-null object\n",
            "channel_title             40949 non-null object\n",
            "category_id               40949 non-null int64\n",
            "publish_time              40949 non-null object\n",
            "tags                      40949 non-null object\n",
            "views                     40949 non-null int64\n",
            "likes                     40949 non-null int64\n",
            "dislikes                  40949 non-null int64\n",
            "comment_count             40949 non-null int64\n",
            "thumbnail_link            40949 non-null object\n",
            "comments_disabled         40949 non-null bool\n",
            "ratings_disabled          40949 non-null bool\n",
            "video_error_or_removed    40949 non-null bool\n",
            "description               40379 non-null object\n",
            "dtypes: bool(3), int64(5), object(8)\n",
            "memory usage: 4.2+ MB\n"
          ],
          "name": "stdout"
        }
      ]
    },
    {
      "cell_type": "code",
      "metadata": {
        "id": "l9LllmFYQL1-",
        "colab_type": "code",
        "outputId": "263bec72-5fcb-4e4c-91fd-818498baf326",
        "colab": {
          "base_uri": "https://localhost:8080/",
          "height": 297
        }
      },
      "source": [
        "df.describe()"
      ],
      "execution_count": 7,
      "outputs": [
        {
          "output_type": "execute_result",
          "data": {
            "text/html": [
              "<div>\n",
              "<style scoped>\n",
              "    .dataframe tbody tr th:only-of-type {\n",
              "        vertical-align: middle;\n",
              "    }\n",
              "\n",
              "    .dataframe tbody tr th {\n",
              "        vertical-align: top;\n",
              "    }\n",
              "\n",
              "    .dataframe thead th {\n",
              "        text-align: right;\n",
              "    }\n",
              "</style>\n",
              "<table border=\"1\" class=\"dataframe\">\n",
              "  <thead>\n",
              "    <tr style=\"text-align: right;\">\n",
              "      <th></th>\n",
              "      <th>category_id</th>\n",
              "      <th>views</th>\n",
              "      <th>likes</th>\n",
              "      <th>dislikes</th>\n",
              "      <th>comment_count</th>\n",
              "    </tr>\n",
              "  </thead>\n",
              "  <tbody>\n",
              "    <tr>\n",
              "      <th>count</th>\n",
              "      <td>40949.000000</td>\n",
              "      <td>4.094900e+04</td>\n",
              "      <td>4.094900e+04</td>\n",
              "      <td>4.094900e+04</td>\n",
              "      <td>4.094900e+04</td>\n",
              "    </tr>\n",
              "    <tr>\n",
              "      <th>mean</th>\n",
              "      <td>19.972429</td>\n",
              "      <td>2.360785e+06</td>\n",
              "      <td>7.426670e+04</td>\n",
              "      <td>3.711401e+03</td>\n",
              "      <td>8.446804e+03</td>\n",
              "    </tr>\n",
              "    <tr>\n",
              "      <th>std</th>\n",
              "      <td>7.568327</td>\n",
              "      <td>7.394114e+06</td>\n",
              "      <td>2.288853e+05</td>\n",
              "      <td>2.902971e+04</td>\n",
              "      <td>3.743049e+04</td>\n",
              "    </tr>\n",
              "    <tr>\n",
              "      <th>min</th>\n",
              "      <td>1.000000</td>\n",
              "      <td>5.490000e+02</td>\n",
              "      <td>0.000000e+00</td>\n",
              "      <td>0.000000e+00</td>\n",
              "      <td>0.000000e+00</td>\n",
              "    </tr>\n",
              "    <tr>\n",
              "      <th>25%</th>\n",
              "      <td>17.000000</td>\n",
              "      <td>2.423290e+05</td>\n",
              "      <td>5.424000e+03</td>\n",
              "      <td>2.020000e+02</td>\n",
              "      <td>6.140000e+02</td>\n",
              "    </tr>\n",
              "    <tr>\n",
              "      <th>50%</th>\n",
              "      <td>24.000000</td>\n",
              "      <td>6.818610e+05</td>\n",
              "      <td>1.809100e+04</td>\n",
              "      <td>6.310000e+02</td>\n",
              "      <td>1.856000e+03</td>\n",
              "    </tr>\n",
              "    <tr>\n",
              "      <th>75%</th>\n",
              "      <td>25.000000</td>\n",
              "      <td>1.823157e+06</td>\n",
              "      <td>5.541700e+04</td>\n",
              "      <td>1.938000e+03</td>\n",
              "      <td>5.755000e+03</td>\n",
              "    </tr>\n",
              "    <tr>\n",
              "      <th>max</th>\n",
              "      <td>43.000000</td>\n",
              "      <td>2.252119e+08</td>\n",
              "      <td>5.613827e+06</td>\n",
              "      <td>1.674420e+06</td>\n",
              "      <td>1.361580e+06</td>\n",
              "    </tr>\n",
              "  </tbody>\n",
              "</table>\n",
              "</div>"
            ],
            "text/plain": [
              "        category_id         views         likes      dislikes  comment_count\n",
              "count  40949.000000  4.094900e+04  4.094900e+04  4.094900e+04   4.094900e+04\n",
              "mean      19.972429  2.360785e+06  7.426670e+04  3.711401e+03   8.446804e+03\n",
              "std        7.568327  7.394114e+06  2.288853e+05  2.902971e+04   3.743049e+04\n",
              "min        1.000000  5.490000e+02  0.000000e+00  0.000000e+00   0.000000e+00\n",
              "25%       17.000000  2.423290e+05  5.424000e+03  2.020000e+02   6.140000e+02\n",
              "50%       24.000000  6.818610e+05  1.809100e+04  6.310000e+02   1.856000e+03\n",
              "75%       25.000000  1.823157e+06  5.541700e+04  1.938000e+03   5.755000e+03\n",
              "max       43.000000  2.252119e+08  5.613827e+06  1.674420e+06   1.361580e+06"
            ]
          },
          "metadata": {
            "tags": []
          },
          "execution_count": 7
        }
      ]
    },
    {
      "cell_type": "code",
      "metadata": {
        "id": "1mat3L2Hw7Np",
        "colab_type": "code",
        "colab": {}
      },
      "source": [
        "def count_unique(x):\n",
        "  for col in x.columns:\n",
        "    print(f'{col}: {x[col].nunique()}')"
      ],
      "execution_count": 0,
      "outputs": []
    },
    {
      "cell_type": "code",
      "metadata": {
        "id": "xYjtdM43w7MN",
        "colab_type": "code",
        "outputId": "92d4129f-100a-4922-8ccc-8dc8c06bc4d0",
        "colab": {
          "base_uri": "https://localhost:8080/",
          "height": 289
        }
      },
      "source": [
        "count_unique(df)"
      ],
      "execution_count": 9,
      "outputs": [
        {
          "output_type": "stream",
          "text": [
            "video_id: 6351\n",
            "trending_date: 205\n",
            "title: 6455\n",
            "channel_title: 2207\n",
            "category_id: 16\n",
            "publish_time: 6269\n",
            "tags: 6055\n",
            "views: 40478\n",
            "likes: 29850\n",
            "dislikes: 8516\n",
            "comment_count: 13773\n",
            "thumbnail_link: 6352\n",
            "comments_disabled: 2\n",
            "ratings_disabled: 2\n",
            "video_error_or_removed: 2\n",
            "description: 6901\n"
          ],
          "name": "stdout"
        }
      ]
    },
    {
      "cell_type": "code",
      "metadata": {
        "id": "teqfwKNHBXEm",
        "colab_type": "code",
        "outputId": "2d967d0e-b104-4a03-f535-8c58ebbff59a",
        "colab": {
          "base_uri": "https://localhost:8080/",
          "height": 102
        }
      },
      "source": [
        "# Drop columns with no important information in our analysis:\n",
        "#thumbnail_link: link to small image which identify the video in the search results\n",
        "\n",
        "df.drop(columns='thumbnail_link', inplace=True)\n",
        "print(df.columns)"
      ],
      "execution_count": 10,
      "outputs": [
        {
          "output_type": "stream",
          "text": [
            "Index(['video_id', 'trending_date', 'title', 'channel_title', 'category_id',\n",
            "       'publish_time', 'tags', 'views', 'likes', 'dislikes', 'comment_count',\n",
            "       'comments_disabled', 'ratings_disabled', 'video_error_or_removed',\n",
            "       'description'],\n",
            "      dtype='object')\n"
          ],
          "name": "stdout"
        }
      ]
    },
    {
      "cell_type": "code",
      "metadata": {
        "id": "vj6VM_WLEFjy",
        "colab_type": "code",
        "colab": {}
      },
      "source": [
        "# Read json with category_id names and assign the names in new dataframe column \n",
        "\n",
        "import json\n",
        "\n",
        "# open json file with category names\n",
        "with open('US_category_id.json', 'r') as f:\n",
        "  categ_us = json.load(f)\n",
        "\n",
        "categ_dic = {}\n",
        "\n",
        "for k in categ_us['items']:\n",
        "  categ_dic[k['id']]= k['snippet']['title']\n",
        "\n",
        "#print(categ_dic)\n",
        "\n",
        "# Creating new column with category names\n",
        "temp = df.category_id.copy()\n",
        "temp = temp.astype('str')\n",
        "df['category_name'] = temp.map(categ_dic)\n",
        "\n",
        "#print(df.loc[:10, ['category_id', 'category_name']])\n",
        "\n"
      ],
      "execution_count": 0,
      "outputs": []
    },
    {
      "cell_type": "code",
      "metadata": {
        "id": "VM0gVYORPzQx",
        "colab_type": "code",
        "colab": {
          "base_uri": "https://localhost:8080/",
          "height": 312
        },
        "outputId": "fdd51669-6585-472c-e0cf-824d2c00b930"
      },
      "source": [
        "df2 = df.copy()\n",
        "df2.drop_duplicates('video_id', inplace=True)\n",
        "sns.countplot(y='category_name', data=df2, order=df2.category_name.value_counts().index )\n",
        "plt.title('Category popularity among top 200')\n",
        "plt.ylabel('Category')"
      ],
      "execution_count": 16,
      "outputs": [
        {
          "output_type": "execute_result",
          "data": {
            "text/plain": [
              "Text(0, 0.5, 'Category')"
            ]
          },
          "metadata": {
            "tags": []
          },
          "execution_count": 16
        },
        {
          "output_type": "display_data",
          "data": {
            "image/png": "[encoded data removed]",
            "text/plain": [
              "<Figure size 432x288 with 1 Axes>"
            ]
          },
          "metadata": {
            "tags": []
          }
        }
      ]
    },
    {
      "cell_type": "markdown",
      "metadata": {
        "id": "IRQXz9crL12A",
        "colab_type": "text"
      },
      "source": [
        "### Temporal distributions"
      ]
    },
    {
      "cell_type": "code",
      "metadata": {
        "id": "Iy1BrQ0Ly2_H",
        "colab_type": "code",
        "outputId": "c9421454-5af2-4d31-f806-a790ca1b6d8b",
        "colab": {
          "base_uri": "https://localhost:8080/",
          "height": 380
        }
      },
      "source": [
        "# Processing the time feature\n",
        "\n",
        "df.trending_date = pd.to_datetime(df.trending_date, format='%y.%d.%m')\n",
        "\n",
        "year_counts = df.trending_date.dt.year.value_counts()\n",
        "print('Total samples per year:\\n', year_counts) \n",
        "\n",
        "df['year'] = df.trending_date.dt.year\n",
        "df['month'] = df.trending_date.dt.month\n",
        "\n",
        "# Plot distribution of records per time \n",
        "sns.countplot(data=df, x = 'month', hue='year')\n",
        "plt.title('Distribution of records per month in each year')\n",
        "plt.legend(['2017', '2018'])\n"
      ],
      "execution_count": 18,
      "outputs": [
        {
          "output_type": "stream",
          "text": [
            "Total samples per year:\n",
            " 2018    31349\n",
            "2017     9600\n",
            "Name: trending_date, dtype: int64\n"
          ],
          "name": "stdout"
        },
        {
          "output_type": "execute_result",
          "data": {
            "text/plain": [
              "<matplotlib.legend.Legend at 0x7f85e1d64438>"
            ]
          },
          "metadata": {
            "tags": []
          },
          "execution_count": 18
        },
        {
          "output_type": "display_data",
          "data": {
            "image/png": "[encoded data removed]",
            "text/plain": [
              "<Figure size 432x288 with 1 Axes>"
            ]
          },
          "metadata": {
            "tags": []
          }
        }
      ]
    },
    {
      "cell_type": "markdown",
      "metadata": {
        "id": "gY76Nf6THQgh",
        "colab_type": "text"
      },
      "source": [
        "## Popularity"
      ]
    },
    {
      "cell_type": "code",
      "metadata": {
        "id": "Qr_uo9uoH17-",
        "colab_type": "code",
        "colab": {
          "base_uri": "https://localhost:8080/",
          "height": 655
        },
        "outputId": "4e3b48d3-bec4-4979-e2a4-e1dbb0c404d5"
      },
      "source": [
        "# Per views\n",
        "df2 = df.copy()\n",
        "\n",
        "df2.sort_values('views', ascending=False, inplace=True)\n",
        "df2.drop_duplicates('video_id', inplace=True)\n",
        "\n",
        "sns.barplot(y='title', x='views', data=df2.iloc[:15])\n",
        "plt.title('Most viewed videos')\n",
        "\n",
        "#TODO: warnings caused by presence of not roman font!"
      ],
      "execution_count": 58,
      "outputs": [
        {
          "output_type": "execute_result",
          "data": {
            "text/plain": [
              "Text(0.5, 1.0, 'Most viewed videos')"
            ]
          },
          "metadata": {
            "tags": []
          },
          "execution_count": 58
        },
        {
          "output_type": "stream",
          "text": [
            "/usr/local/lib/python3.6/dist-packages/matplotlib/backends/backend_agg.py:211: RuntimeWarning: Glyph 48169 missing from current font.\n",
            "  font.set_text(s, 0.0, flags=flags)\n",
            "/usr/local/lib/python3.6/dist-packages/matplotlib/backends/backend_agg.py:211: RuntimeWarning: Glyph 53444 missing from current font.\n",
            "  font.set_text(s, 0.0, flags=flags)\n",
            "/usr/local/lib/python3.6/dist-packages/matplotlib/backends/backend_agg.py:211: RuntimeWarning: Glyph 49548 missing from current font.\n",
            "  font.set_text(s, 0.0, flags=flags)\n",
            "/usr/local/lib/python3.6/dist-packages/matplotlib/backends/backend_agg.py:211: RuntimeWarning: Glyph 45380 missing from current font.\n",
            "  font.set_text(s, 0.0, flags=flags)\n",
            "/usr/local/lib/python3.6/dist-packages/matplotlib/backends/backend_agg.py:211: RuntimeWarning: Glyph 45800 missing from current font.\n",
            "  font.set_text(s, 0.0, flags=flags)\n",
            "/usr/local/lib/python3.6/dist-packages/matplotlib/backends/backend_agg.py:180: RuntimeWarning: Glyph 48169 missing from current font.\n",
            "  font.set_text(s, 0, flags=flags)\n",
            "/usr/local/lib/python3.6/dist-packages/matplotlib/backends/backend_agg.py:180: RuntimeWarning: Glyph 53444 missing from current font.\n",
            "  font.set_text(s, 0, flags=flags)\n",
            "/usr/local/lib/python3.6/dist-packages/matplotlib/backends/backend_agg.py:180: RuntimeWarning: Glyph 49548 missing from current font.\n",
            "  font.set_text(s, 0, flags=flags)\n",
            "/usr/local/lib/python3.6/dist-packages/matplotlib/backends/backend_agg.py:180: RuntimeWarning: Glyph 45380 missing from current font.\n",
            "  font.set_text(s, 0, flags=flags)\n",
            "/usr/local/lib/python3.6/dist-packages/matplotlib/backends/backend_agg.py:180: RuntimeWarning: Glyph 45800 missing from current font.\n",
            "  font.set_text(s, 0, flags=flags)\n"
          ],
          "name": "stderr"
        },
        {
          "output_type": "display_data",
          "data": {
            "image/png": "[encoded data removed]",
            "text/plain": [
              "<Figure size 432x288 with 1 Axes>"
            ]
          },
          "metadata": {
            "tags": []
          }
        }
      ]
    },
    {
      "cell_type": "code",
      "metadata": {
        "id": "NaVwZLuzTWaR",
        "colab_type": "code",
        "colab": {
          "base_uri": "https://localhost:8080/",
          "height": 974
        },
        "outputId": "77c9ebca-bc19-4e12-fa0d-84b635be4b97"
      },
      "source": [
        "df2.head(10)"
      ],
      "execution_count": 22,
      "outputs": [
        {
          "output_type": "execute_result",
          "data": {
            "text/html": [
              "<div>\n",
              "<style scoped>\n",
              "    .dataframe tbody tr th:only-of-type {\n",
              "        vertical-align: middle;\n",
              "    }\n",
              "\n",
              "    .dataframe tbody tr th {\n",
              "        vertical-align: top;\n",
              "    }\n",
              "\n",
              "    .dataframe thead th {\n",
              "        text-align: right;\n",
              "    }\n",
              "</style>\n",
              "<table border=\"1\" class=\"dataframe\">\n",
              "  <thead>\n",
              "    <tr style=\"text-align: right;\">\n",
              "      <th></th>\n",
              "      <th>video_id</th>\n",
              "      <th>trending_date</th>\n",
              "      <th>title</th>\n",
              "      <th>channel_title</th>\n",
              "      <th>category_id</th>\n",
              "      <th>publish_time</th>\n",
              "      <th>tags</th>\n",
              "      <th>views</th>\n",
              "      <th>likes</th>\n",
              "      <th>dislikes</th>\n",
              "      <th>comment_count</th>\n",
              "      <th>comments_disabled</th>\n",
              "      <th>ratings_disabled</th>\n",
              "      <th>video_error_or_removed</th>\n",
              "      <th>description</th>\n",
              "      <th>category_name</th>\n",
              "      <th>year</th>\n",
              "      <th>month</th>\n",
              "    </tr>\n",
              "  </thead>\n",
              "  <tbody>\n",
              "    <tr>\n",
              "      <th>38547</th>\n",
              "      <td>VYOjWnS4cMY</td>\n",
              "      <td>2018-06-02</td>\n",
              "      <td>Childish Gambino - This Is America (Official V...</td>\n",
              "      <td>ChildishGambinoVEVO</td>\n",
              "      <td>10</td>\n",
              "      <td>2018-05-06T04:00:07.000Z</td>\n",
              "      <td>Childish Gambino|\"Rap\"|\"This Is America\"|\"mcDJ...</td>\n",
              "      <td>225211923</td>\n",
              "      <td>5023450</td>\n",
              "      <td>343541</td>\n",
              "      <td>517232</td>\n",
              "      <td>False</td>\n",
              "      <td>False</td>\n",
              "      <td>False</td>\n",
              "      <td>“This is America” by Childish Gambino http://s...</td>\n",
              "      <td>Music</td>\n",
              "      <td>2018</td>\n",
              "      <td>6</td>\n",
              "    </tr>\n",
              "    <tr>\n",
              "      <th>6181</th>\n",
              "      <td>FlsCjmMhFmw</td>\n",
              "      <td>2017-12-14</td>\n",
              "      <td>YouTube Rewind: The Shape of 2017 | #YouTubeRe...</td>\n",
              "      <td>YouTube Spotlight</td>\n",
              "      <td>24</td>\n",
              "      <td>2017-12-06T17:58:51.000Z</td>\n",
              "      <td>Rewind|\"Rewind 2017\"|\"youtube rewind 2017\"|\"#Y...</td>\n",
              "      <td>149376127</td>\n",
              "      <td>3093544</td>\n",
              "      <td>1643059</td>\n",
              "      <td>810698</td>\n",
              "      <td>False</td>\n",
              "      <td>False</td>\n",
              "      <td>False</td>\n",
              "      <td>YouTube Rewind 2017. Celebrating the videos, p...</td>\n",
              "      <td>Entertainment</td>\n",
              "      <td>2017</td>\n",
              "      <td>12</td>\n",
              "    </tr>\n",
              "    <tr>\n",
              "      <th>34708</th>\n",
              "      <td>ffxKSjUwKdU</td>\n",
              "      <td>2018-05-14</td>\n",
              "      <td>Ariana Grande - No Tears Left To Cry</td>\n",
              "      <td>ArianaGrandeVevo</td>\n",
              "      <td>10</td>\n",
              "      <td>2018-04-20T04:00:03.000Z</td>\n",
              "      <td>Ariana|\"Grande\"|\"No\"|\"Tears\"|\"Left\"|\"To\"|\"Cry\"...</td>\n",
              "      <td>148689896</td>\n",
              "      <td>3094021</td>\n",
              "      <td>129502</td>\n",
              "      <td>242039</td>\n",
              "      <td>False</td>\n",
              "      <td>False</td>\n",
              "      <td>False</td>\n",
              "      <td>No Tears Left To Cry (Official Video)Song Avai...</td>\n",
              "      <td>Music</td>\n",
              "      <td>2018</td>\n",
              "      <td>5</td>\n",
              "    </tr>\n",
              "    <tr>\n",
              "      <th>34888</th>\n",
              "      <td>zEf423kYfqk</td>\n",
              "      <td>2018-05-15</td>\n",
              "      <td>Becky G, Natti Natasha - Sin Pijama (Official ...</td>\n",
              "      <td>BeckyGVEVO</td>\n",
              "      <td>10</td>\n",
              "      <td>2018-04-20T10:40:51.000Z</td>\n",
              "      <td>Becky G|\"Natti Natasha\"|\"Natti Natasha Music\"|...</td>\n",
              "      <td>139334502</td>\n",
              "      <td>1425496</td>\n",
              "      <td>119798</td>\n",
              "      <td>83941</td>\n",
              "      <td>False</td>\n",
              "      <td>False</td>\n",
              "      <td>False</td>\n",
              "      <td>Becky G &amp; Natti Natasha – “Sin Pijama”NUEVO SE...</td>\n",
              "      <td>Music</td>\n",
              "      <td>2018</td>\n",
              "      <td>5</td>\n",
              "    </tr>\n",
              "    <tr>\n",
              "      <th>38273</th>\n",
              "      <td>7C2z4GqqS5E</td>\n",
              "      <td>2018-06-01</td>\n",
              "      <td>BTS (방탄소년단) 'FAKE LOVE' Official MV</td>\n",
              "      <td>ibighit</td>\n",
              "      <td>10</td>\n",
              "      <td>2018-05-18T09:00:02.000Z</td>\n",
              "      <td>BIGHIT|\"빅히트\"|\"방탄소년단\"|\"BTS\"|\"BANGTAN\"|\"방탄\"|\"FAK...</td>\n",
              "      <td>123010920</td>\n",
              "      <td>5613827</td>\n",
              "      <td>206892</td>\n",
              "      <td>1228655</td>\n",
              "      <td>False</td>\n",
              "      <td>False</td>\n",
              "      <td>False</td>\n",
              "      <td>BTS (방탄소년단) 'FAKE LOVE' Official MVDirector : ...</td>\n",
              "      <td>Music</td>\n",
              "      <td>2018</td>\n",
              "      <td>6</td>\n",
              "    </tr>\n",
              "    <tr>\n",
              "      <th>34747</th>\n",
              "      <td>M4ZoCHID9GI</td>\n",
              "      <td>2018-05-14</td>\n",
              "      <td>The Weeknd - Call Out My Name (Official Video)</td>\n",
              "      <td>TheWeekndVEVO</td>\n",
              "      <td>10</td>\n",
              "      <td>2018-04-12T16:00:04.000Z</td>\n",
              "      <td>The|\"Weeknd\"|\"Call\"|\"Out\"|\"My\"|\"Name\"</td>\n",
              "      <td>122544931</td>\n",
              "      <td>1427436</td>\n",
              "      <td>40837</td>\n",
              "      <td>55320</td>\n",
              "      <td>False</td>\n",
              "      <td>False</td>\n",
              "      <td>False</td>\n",
              "      <td>Call Out My Name (Official Video)Taken from th...</td>\n",
              "      <td>Music</td>\n",
              "      <td>2018</td>\n",
              "      <td>5</td>\n",
              "    </tr>\n",
              "    <tr>\n",
              "      <th>2587</th>\n",
              "      <td>TyHvyGVs42U</td>\n",
              "      <td>2017-11-26</td>\n",
              "      <td>Luis Fonsi, Demi Lovato - Échame La Culpa</td>\n",
              "      <td>LuisFonsiVEVO</td>\n",
              "      <td>10</td>\n",
              "      <td>2017-11-17T05:00:01.000Z</td>\n",
              "      <td>Luis|\"Fonsi\"|\"Demi\"|\"Lovato\"|\"Échame\"|\"La\"|\"Cu...</td>\n",
              "      <td>102012605</td>\n",
              "      <td>2376636</td>\n",
              "      <td>117196</td>\n",
              "      <td>134224</td>\n",
              "      <td>False</td>\n",
              "      <td>False</td>\n",
              "      <td>False</td>\n",
              "      <td>“Échame La Culpa” disponible ya en todas las p...</td>\n",
              "      <td>Music</td>\n",
              "      <td>2017</td>\n",
              "      <td>11</td>\n",
              "    </tr>\n",
              "    <tr>\n",
              "      <th>40869</th>\n",
              "      <td>xTlNMmZKwpA</td>\n",
              "      <td>2018-06-14</td>\n",
              "      <td>Cardi B, Bad Bunny &amp; J Balvin - I Like It [Off...</td>\n",
              "      <td>Cardi B</td>\n",
              "      <td>10</td>\n",
              "      <td>2018-05-29T14:05:10.000Z</td>\n",
              "      <td>Cardi B|\"I Like It\"|\"Invasion of Privacy\"|\"Bad...</td>\n",
              "      <td>94254507</td>\n",
              "      <td>1816753</td>\n",
              "      <td>102474</td>\n",
              "      <td>101077</td>\n",
              "      <td>False</td>\n",
              "      <td>False</td>\n",
              "      <td>False</td>\n",
              "      <td>Cardi B, Bad Bunny &amp; J Balvin - I Like It from...</td>\n",
              "      <td>Music</td>\n",
              "      <td>2018</td>\n",
              "      <td>6</td>\n",
              "    </tr>\n",
              "    <tr>\n",
              "      <th>4997</th>\n",
              "      <td>6ZfuNTqbHE8</td>\n",
              "      <td>2017-12-08</td>\n",
              "      <td>Marvel Studios' Avengers: Infinity War Officia...</td>\n",
              "      <td>Marvel Entertainment</td>\n",
              "      <td>24</td>\n",
              "      <td>2017-11-29T13:26:24.000Z</td>\n",
              "      <td>marvel|\"comics\"|\"comic books\"|\"nerdy\"|\"geeky\"|...</td>\n",
              "      <td>91933007</td>\n",
              "      <td>2625661</td>\n",
              "      <td>53709</td>\n",
              "      <td>350458</td>\n",
              "      <td>False</td>\n",
              "      <td>False</td>\n",
              "      <td>False</td>\n",
              "      <td>There was an idea… Avengers: Infinity War. In ...</td>\n",
              "      <td>Entertainment</td>\n",
              "      <td>2017</td>\n",
              "      <td>12</td>\n",
              "    </tr>\n",
              "    <tr>\n",
              "      <th>25947</th>\n",
              "      <td>-BQJo3vK8O8</td>\n",
              "      <td>2018-03-25</td>\n",
              "      <td>Maluma - El Préstamo (Official Video)</td>\n",
              "      <td>MalumaVEVO</td>\n",
              "      <td>10</td>\n",
              "      <td>2018-03-09T11:00:01.000Z</td>\n",
              "      <td>Maluma Music|\"Maluma Official Video\"|\"Maluma V...</td>\n",
              "      <td>87264467</td>\n",
              "      <td>815369</td>\n",
              "      <td>71494</td>\n",
              "      <td>35945</td>\n",
              "      <td>False</td>\n",
              "      <td>False</td>\n",
              "      <td>False</td>\n",
              "      <td>Maluma - El Prestamo (Official Music Video)\\nE...</td>\n",
              "      <td>Music</td>\n",
              "      <td>2018</td>\n",
              "      <td>3</td>\n",
              "    </tr>\n",
              "  </tbody>\n",
              "</table>\n",
              "</div>"
            ],
            "text/plain": [
              "          video_id trending_date  ...  year month\n",
              "38547  VYOjWnS4cMY    2018-06-02  ...  2018     6\n",
              "6181   FlsCjmMhFmw    2017-12-14  ...  2017    12\n",
              "34708  ffxKSjUwKdU    2018-05-14  ...  2018     5\n",
              "34888  zEf423kYfqk    2018-05-15  ...  2018     5\n",
              "38273  7C2z4GqqS5E    2018-06-01  ...  2018     6\n",
              "34747  M4ZoCHID9GI    2018-05-14  ...  2018     5\n",
              "2587   TyHvyGVs42U    2017-11-26  ...  2017    11\n",
              "40869  xTlNMmZKwpA    2018-06-14  ...  2018     6\n",
              "4997   6ZfuNTqbHE8    2017-12-08  ...  2017    12\n",
              "25947  -BQJo3vK8O8    2018-03-25  ...  2018     3\n",
              "\n",
              "[10 rows x 18 columns]"
            ]
          },
          "metadata": {
            "tags": []
          },
          "execution_count": 22
        }
      ]
    },
    {
      "cell_type": "code",
      "metadata": {
        "id": "Ea8xyX81Ytzz",
        "colab_type": "code",
        "colab": {
          "base_uri": "https://localhost:8080/",
          "height": 238
        },
        "outputId": "983630e0-11e2-4157-ea74-0de3dea24e1c"
      },
      "source": [
        "# Per likes\n",
        "df2 = df.copy()\n",
        "\n",
        "df2.sort_values('likes', ascending=False, inplace=True)\n",
        "df2.drop_duplicates('video_id', inplace=True)\n",
        "\n",
        "df2.head()"
      ],
      "execution_count": 42,
      "outputs": [
        {
          "output_type": "stream",
          "text": [
            "          video_id trending_date  ...  year month\n",
            "38273  7C2z4GqqS5E    2018-06-01  ...  2018     6\n",
            "38547  VYOjWnS4cMY    2018-06-02  ...  2018     6\n",
            "34708  ffxKSjUwKdU    2018-05-14  ...  2018     5\n",
            "6181   FlsCjmMhFmw    2017-12-14  ...  2017    12\n",
            "3581   kTlv5_Bs8aw    2017-12-01  ...  2017    12\n",
            "35080  p8npDG2ulKQ    2018-05-16  ...  2018     5\n",
            "22040  OK3GJ0WIQ8s    2018-03-06  ...  2018     3\n",
            "4997   6ZfuNTqbHE8    2017-12-08  ...  2017    12\n",
            "39814  aJOTlE1K90k    2018-06-09  ...  2018     6\n",
            "2587   TyHvyGVs42U    2017-11-26  ...  2017    11\n",
            "\n",
            "[10 rows x 18 columns]\n"
          ],
          "name": "stdout"
        }
      ]
    },
    {
      "cell_type": "code",
      "metadata": {
        "id": "MmsgarCSY8yB",
        "colab_type": "code",
        "colab": {
          "base_uri": "https://localhost:8080/",
          "height": 496
        },
        "outputId": "f57eacdf-556f-4f23-fbff-7bf85b26e10a"
      },
      "source": [
        "# Per dislikes\n",
        "df2 = df.copy()\n",
        "\n",
        "df2.sort_values('dislikes', ascending=False, inplace=True)\n",
        "df2.drop_duplicates('video_id', inplace=True)\n",
        "\n",
        "df2.head()"
      ],
      "execution_count": 44,
      "outputs": [
        {
          "output_type": "execute_result",
          "data": {
            "text/html": [
              "<div>\n",
              "<style scoped>\n",
              "    .dataframe tbody tr th:only-of-type {\n",
              "        vertical-align: middle;\n",
              "    }\n",
              "\n",
              "    .dataframe tbody tr th {\n",
              "        vertical-align: top;\n",
              "    }\n",
              "\n",
              "    .dataframe thead th {\n",
              "        text-align: right;\n",
              "    }\n",
              "</style>\n",
              "<table border=\"1\" class=\"dataframe\">\n",
              "  <thead>\n",
              "    <tr style=\"text-align: right;\">\n",
              "      <th></th>\n",
              "      <th>video_id</th>\n",
              "      <th>trending_date</th>\n",
              "      <th>title</th>\n",
              "      <th>channel_title</th>\n",
              "      <th>category_id</th>\n",
              "      <th>publish_time</th>\n",
              "      <th>tags</th>\n",
              "      <th>views</th>\n",
              "      <th>likes</th>\n",
              "      <th>dislikes</th>\n",
              "      <th>comment_count</th>\n",
              "      <th>comments_disabled</th>\n",
              "      <th>ratings_disabled</th>\n",
              "      <th>video_error_or_removed</th>\n",
              "      <th>description</th>\n",
              "      <th>category_name</th>\n",
              "      <th>year</th>\n",
              "      <th>month</th>\n",
              "    </tr>\n",
              "  </thead>\n",
              "  <tbody>\n",
              "    <tr>\n",
              "      <th>11323</th>\n",
              "      <td>QwZT7T-TXT0</td>\n",
              "      <td>2018-01-09</td>\n",
              "      <td>So Sorry.</td>\n",
              "      <td>Logan Paul Vlogs</td>\n",
              "      <td>24</td>\n",
              "      <td>2018-01-02T16:42:21.000Z</td>\n",
              "      <td>logan paul vlog|\"logan paul\"|\"logan\"|\"paul\"|\"o...</td>\n",
              "      <td>37539570</td>\n",
              "      <td>1402578</td>\n",
              "      <td>1674420</td>\n",
              "      <td>1361580</td>\n",
              "      <td>False</td>\n",
              "      <td>False</td>\n",
              "      <td>False</td>\n",
              "      <td>NaN</td>\n",
              "      <td>Entertainment</td>\n",
              "      <td>2018</td>\n",
              "      <td>1</td>\n",
              "    </tr>\n",
              "    <tr>\n",
              "      <th>6181</th>\n",
              "      <td>FlsCjmMhFmw</td>\n",
              "      <td>2017-12-14</td>\n",
              "      <td>YouTube Rewind: The Shape of 2017 | #YouTubeRe...</td>\n",
              "      <td>YouTube Spotlight</td>\n",
              "      <td>24</td>\n",
              "      <td>2017-12-06T17:58:51.000Z</td>\n",
              "      <td>Rewind|\"Rewind 2017\"|\"youtube rewind 2017\"|\"#Y...</td>\n",
              "      <td>149376127</td>\n",
              "      <td>3093544</td>\n",
              "      <td>1643059</td>\n",
              "      <td>810698</td>\n",
              "      <td>False</td>\n",
              "      <td>False</td>\n",
              "      <td>False</td>\n",
              "      <td>YouTube Rewind 2017. Celebrating the videos, p...</td>\n",
              "      <td>Entertainment</td>\n",
              "      <td>2017</td>\n",
              "      <td>12</td>\n",
              "    </tr>\n",
              "    <tr>\n",
              "      <th>15571</th>\n",
              "      <td>oWjxSkJpxFU</td>\n",
              "      <td>2018-02-01</td>\n",
              "      <td>Suicide: Be Here Tomorrow.</td>\n",
              "      <td>Logan Paul Vlogs</td>\n",
              "      <td>29</td>\n",
              "      <td>2018-01-24T18:30:01.000Z</td>\n",
              "      <td>logan paul vlog|\"logan paul\"|\"logan\"|\"paul\"|\"l...</td>\n",
              "      <td>24286474</td>\n",
              "      <td>1988746</td>\n",
              "      <td>497847</td>\n",
              "      <td>658130</td>\n",
              "      <td>False</td>\n",
              "      <td>False</td>\n",
              "      <td>False</td>\n",
              "      <td>National Suicide Prevention Lifeline\\nCall 1-8...</td>\n",
              "      <td>Nonprofits &amp; Activism</td>\n",
              "      <td>2018</td>\n",
              "      <td>2</td>\n",
              "    </tr>\n",
              "    <tr>\n",
              "      <th>38547</th>\n",
              "      <td>VYOjWnS4cMY</td>\n",
              "      <td>2018-06-02</td>\n",
              "      <td>Childish Gambino - This Is America (Official V...</td>\n",
              "      <td>ChildishGambinoVEVO</td>\n",
              "      <td>10</td>\n",
              "      <td>2018-05-06T04:00:07.000Z</td>\n",
              "      <td>Childish Gambino|\"Rap\"|\"This Is America\"|\"mcDJ...</td>\n",
              "      <td>225211923</td>\n",
              "      <td>5023450</td>\n",
              "      <td>343541</td>\n",
              "      <td>517232</td>\n",
              "      <td>False</td>\n",
              "      <td>False</td>\n",
              "      <td>False</td>\n",
              "      <td>“This is America” by Childish Gambino http://s...</td>\n",
              "      <td>Music</td>\n",
              "      <td>2018</td>\n",
              "      <td>6</td>\n",
              "    </tr>\n",
              "    <tr>\n",
              "      <th>17063</th>\n",
              "      <td>_5d-sQ7Fh5M</td>\n",
              "      <td>2018-02-09</td>\n",
              "      <td>LOGAN PAUL IS BACK!</td>\n",
              "      <td>Logan Paul Vlogs</td>\n",
              "      <td>24</td>\n",
              "      <td>2018-02-04T22:02:27.000Z</td>\n",
              "      <td>logan paul vlog|\"logan paul\"|\"logan\"|\"paul\"|\"o...</td>\n",
              "      <td>14161833</td>\n",
              "      <td>1216340</td>\n",
              "      <td>291900</td>\n",
              "      <td>436698</td>\n",
              "      <td>False</td>\n",
              "      <td>False</td>\n",
              "      <td>False</td>\n",
              "      <td>Do It Different. Be a Maverick ► https://ShopL...</td>\n",
              "      <td>Entertainment</td>\n",
              "      <td>2018</td>\n",
              "      <td>2</td>\n",
              "    </tr>\n",
              "  </tbody>\n",
              "</table>\n",
              "</div>"
            ],
            "text/plain": [
              "          video_id trending_date  ...  year month\n",
              "11323  QwZT7T-TXT0    2018-01-09  ...  2018     1\n",
              "6181   FlsCjmMhFmw    2017-12-14  ...  2017    12\n",
              "15571  oWjxSkJpxFU    2018-02-01  ...  2018     2\n",
              "38547  VYOjWnS4cMY    2018-06-02  ...  2018     6\n",
              "17063  _5d-sQ7Fh5M    2018-02-09  ...  2018     2\n",
              "\n",
              "[5 rows x 18 columns]"
            ]
          },
          "metadata": {
            "tags": []
          },
          "execution_count": 44
        }
      ]
    },
    {
      "cell_type": "code",
      "metadata": {
        "id": "1WARpHuaZQk5",
        "colab_type": "code",
        "colab": {
          "base_uri": "https://localhost:8080/",
          "height": 547
        },
        "outputId": "c315f282-c987-4d55-f558-d021e348c086"
      },
      "source": [
        "# Per comments\n",
        "df2 = df.copy()\n",
        "\n",
        "df2.sort_values('comment_count', ascending=False, inplace=True)\n",
        "df2.drop_duplicates('video_id', inplace=True)\n",
        "\n",
        "df2.head()"
      ],
      "execution_count": 46,
      "outputs": [
        {
          "output_type": "execute_result",
          "data": {
            "text/html": [
              "<div>\n",
              "<style scoped>\n",
              "    .dataframe tbody tr th:only-of-type {\n",
              "        vertical-align: middle;\n",
              "    }\n",
              "\n",
              "    .dataframe tbody tr th {\n",
              "        vertical-align: top;\n",
              "    }\n",
              "\n",
              "    .dataframe thead th {\n",
              "        text-align: right;\n",
              "    }\n",
              "</style>\n",
              "<table border=\"1\" class=\"dataframe\">\n",
              "  <thead>\n",
              "    <tr style=\"text-align: right;\">\n",
              "      <th></th>\n",
              "      <th>video_id</th>\n",
              "      <th>trending_date</th>\n",
              "      <th>title</th>\n",
              "      <th>channel_title</th>\n",
              "      <th>category_id</th>\n",
              "      <th>publish_time</th>\n",
              "      <th>tags</th>\n",
              "      <th>views</th>\n",
              "      <th>likes</th>\n",
              "      <th>dislikes</th>\n",
              "      <th>comment_count</th>\n",
              "      <th>comments_disabled</th>\n",
              "      <th>ratings_disabled</th>\n",
              "      <th>video_error_or_removed</th>\n",
              "      <th>description</th>\n",
              "      <th>category_name</th>\n",
              "      <th>year</th>\n",
              "      <th>month</th>\n",
              "    </tr>\n",
              "  </thead>\n",
              "  <tbody>\n",
              "    <tr>\n",
              "      <th>11323</th>\n",
              "      <td>QwZT7T-TXT0</td>\n",
              "      <td>2018-01-09</td>\n",
              "      <td>So Sorry.</td>\n",
              "      <td>Logan Paul Vlogs</td>\n",
              "      <td>24</td>\n",
              "      <td>2018-01-02T16:42:21.000Z</td>\n",
              "      <td>logan paul vlog|\"logan paul\"|\"logan\"|\"paul\"|\"o...</td>\n",
              "      <td>37539570</td>\n",
              "      <td>1402578</td>\n",
              "      <td>1674420</td>\n",
              "      <td>1361580</td>\n",
              "      <td>False</td>\n",
              "      <td>False</td>\n",
              "      <td>False</td>\n",
              "      <td>NaN</td>\n",
              "      <td>Entertainment</td>\n",
              "      <td>2018</td>\n",
              "      <td>1</td>\n",
              "    </tr>\n",
              "    <tr>\n",
              "      <th>38273</th>\n",
              "      <td>7C2z4GqqS5E</td>\n",
              "      <td>2018-06-01</td>\n",
              "      <td>BTS (방탄소년단) 'FAKE LOVE' Official MV</td>\n",
              "      <td>ibighit</td>\n",
              "      <td>10</td>\n",
              "      <td>2018-05-18T09:00:02.000Z</td>\n",
              "      <td>BIGHIT|\"빅히트\"|\"방탄소년단\"|\"BTS\"|\"BANGTAN\"|\"방탄\"|\"FAK...</td>\n",
              "      <td>123010920</td>\n",
              "      <td>5613827</td>\n",
              "      <td>206892</td>\n",
              "      <td>1228655</td>\n",
              "      <td>False</td>\n",
              "      <td>False</td>\n",
              "      <td>False</td>\n",
              "      <td>BTS (방탄소년단) 'FAKE LOVE' Official MVDirector : ...</td>\n",
              "      <td>Music</td>\n",
              "      <td>2018</td>\n",
              "      <td>6</td>\n",
              "    </tr>\n",
              "    <tr>\n",
              "      <th>5020</th>\n",
              "      <td>FlsCjmMhFmw</td>\n",
              "      <td>2017-12-09</td>\n",
              "      <td>YouTube Rewind: The Shape of 2017 | #YouTubeRe...</td>\n",
              "      <td>YouTube Spotlight</td>\n",
              "      <td>24</td>\n",
              "      <td>2017-12-06T17:58:51.000Z</td>\n",
              "      <td>Rewind|\"Rewind 2017\"|\"youtube rewind 2017\"|\"#Y...</td>\n",
              "      <td>75969469</td>\n",
              "      <td>2251797</td>\n",
              "      <td>1127798</td>\n",
              "      <td>827755</td>\n",
              "      <td>False</td>\n",
              "      <td>False</td>\n",
              "      <td>False</td>\n",
              "      <td>YouTube Rewind 2017. Celebrating the videos, p...</td>\n",
              "      <td>Entertainment</td>\n",
              "      <td>2017</td>\n",
              "      <td>12</td>\n",
              "    </tr>\n",
              "    <tr>\n",
              "      <th>15571</th>\n",
              "      <td>oWjxSkJpxFU</td>\n",
              "      <td>2018-02-01</td>\n",
              "      <td>Suicide: Be Here Tomorrow.</td>\n",
              "      <td>Logan Paul Vlogs</td>\n",
              "      <td>29</td>\n",
              "      <td>2018-01-24T18:30:01.000Z</td>\n",
              "      <td>logan paul vlog|\"logan paul\"|\"logan\"|\"paul\"|\"l...</td>\n",
              "      <td>24286474</td>\n",
              "      <td>1988746</td>\n",
              "      <td>497847</td>\n",
              "      <td>658130</td>\n",
              "      <td>False</td>\n",
              "      <td>False</td>\n",
              "      <td>False</td>\n",
              "      <td>National Suicide Prevention Lifeline\\nCall 1-8...</td>\n",
              "      <td>Nonprofits &amp; Activism</td>\n",
              "      <td>2018</td>\n",
              "      <td>2</td>\n",
              "    </tr>\n",
              "    <tr>\n",
              "      <th>3581</th>\n",
              "      <td>kTlv5_Bs8aw</td>\n",
              "      <td>2017-12-01</td>\n",
              "      <td>BTS (방탄소년단) 'MIC Drop (Steve Aoki Remix)' Offi...</td>\n",
              "      <td>ibighit</td>\n",
              "      <td>10</td>\n",
              "      <td>2017-11-24T09:00:02.000Z</td>\n",
              "      <td>BIGHIT|\"빅히트\"|\"방탄소년단\"|\"BTS\"|\"BANGTAN\"|\"방탄\"</td>\n",
              "      <td>36857298</td>\n",
              "      <td>2729292</td>\n",
              "      <td>47896</td>\n",
              "      <td>546100</td>\n",
              "      <td>False</td>\n",
              "      <td>False</td>\n",
              "      <td>False</td>\n",
              "      <td>BTS (방탄소년단) 'MIC Drop (Steve Aoki Remix)' Offi...</td>\n",
              "      <td>Music</td>\n",
              "      <td>2017</td>\n",
              "      <td>12</td>\n",
              "    </tr>\n",
              "  </tbody>\n",
              "</table>\n",
              "</div>"
            ],
            "text/plain": [
              "          video_id trending_date  ...  year month\n",
              "11323  QwZT7T-TXT0    2018-01-09  ...  2018     1\n",
              "38273  7C2z4GqqS5E    2018-06-01  ...  2018     6\n",
              "5020   FlsCjmMhFmw    2017-12-09  ...  2017    12\n",
              "15571  oWjxSkJpxFU    2018-02-01  ...  2018     2\n",
              "3581   kTlv5_Bs8aw    2017-12-01  ...  2017    12\n",
              "\n",
              "[5 rows x 18 columns]"
            ]
          },
          "metadata": {
            "tags": []
          },
          "execution_count": 46
        }
      ]
    },
    {
      "cell_type": "code",
      "metadata": {
        "id": "mUiikuwuMMsh",
        "colab_type": "code",
        "colab": {
          "base_uri": "https://localhost:8080/",
          "height": 312
        },
        "outputId": "2fb30be7-ce91-4dea-d474-1198be2c2747"
      },
      "source": [
        "# Per channel\n",
        "df2 = df.copy()\n",
        "\n",
        "df2.drop_duplicates('video_id', inplace=True)\n",
        "\n",
        "sns.countplot(y='channel_title', data=df2, order=df2.channel_title.value_counts().iloc[:20].index)\n",
        "plt.title('Channel popularity among top 200')\n"
      ],
      "execution_count": 40,
      "outputs": [
        {
          "output_type": "execute_result",
          "data": {
            "text/plain": [
              "Text(0.5, 1.0, 'Channel popularity among top 200')"
            ]
          },
          "metadata": {
            "tags": []
          },
          "execution_count": 40
        },
        {
          "output_type": "display_data",
          "data": {
            "image/png": "[encoded data removed]",
            "text/plain": [
              "<Figure size 432x288 with 1 Axes>"
            ]
          },
          "metadata": {
            "tags": []
          }
        }
      ]
    },
    {
      "cell_type": "code",
      "metadata": {
        "id": "_EuIldy2V5u_",
        "colab_type": "code",
        "colab": {}
      },
      "source": [
        "# Divide per year \n",
        "df_2017 = df[df.trending_date.dt.year == 2017]\n",
        "df_2018 = df[df.trending_date.dt.year == 2018]\n"
      ],
      "execution_count": 0,
      "outputs": []
    },
    {
      "cell_type": "markdown",
      "metadata": {
        "id": "qvVTHVVXhxGC",
        "colab_type": "text"
      },
      "source": [
        "Video popularity rank varies a lot between the months"
      ]
    },
    {
      "cell_type": "code",
      "metadata": {
        "id": "sGAkTWeKfxLl",
        "colab_type": "code",
        "colab": {}
      },
      "source": [
        "# 2017\n",
        "var = 'likes'\n",
        "mon = 12 #11-12"
      ],
      "execution_count": 0,
      "outputs": []
    },
    {
      "cell_type": "code",
      "metadata": {
        "id": "q6G2ai5zdK-o",
        "colab_type": "code",
        "colab": {}
      },
      "source": [
        "df_2017.loc[df.trending_date.dt.month == mon, ['video_id', 'title', var]].groupby(['video_id', 'title']).sum().sort_values(var, ascending = False).head(10)"
      ],
      "execution_count": 0,
      "outputs": []
    },
    {
      "cell_type": "code",
      "metadata": {
        "id": "LYF2U5_ygfYB",
        "colab_type": "code",
        "colab": {}
      },
      "source": [
        "# 2018\n",
        "var = 'likes'\n",
        "mon = 1 # 1-6"
      ],
      "execution_count": 0,
      "outputs": []
    },
    {
      "cell_type": "code",
      "metadata": {
        "id": "JrxRtXWieQ1w",
        "colab_type": "code",
        "colab": {}
      },
      "source": [
        "df_2018.loc[df.trending_date.dt.month == mon, ['video_id', 'title', var]].groupby(['video_id', 'title']).sum().sort_values(var, ascending = False)[:10]"
      ],
      "execution_count": 0,
      "outputs": []
    }
  ]
}