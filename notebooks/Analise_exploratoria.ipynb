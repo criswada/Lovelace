{
  "nbformat": 4,
  "nbformat_minor": 0,
  "metadata": {
    "colab": {
      "name": "Analise_exploratoria.ipynb",
      "provenance": [],
      "collapsed_sections": [],
      "toc_visible": true
    },
    "kernelspec": {
      "name": "python3",
      "display_name": "Python 3"
    }
  },
  "cells": [
    {
      "cell_type": "code",
      "metadata": {
        "id": "ucw1qhvdOpuB",
        "colab_type": "code",
        "colab": {}
      },
      "source": [
        "import pandas as pd\n",
        "import numpy as np\n",
        "import matplotlib.pyplot as plt\n",
        "import seaborn as sns\n",
        "import json\n"
      ],
      "execution_count": 0,
      "outputs": []
    },
    {
      "cell_type": "markdown",
      "metadata": {
        "id": "ypKuVP4rd_99",
        "colab_type": "text"
      },
      "source": [
        "## Pre-processamento"
      ]
    },
    {
      "cell_type": "code",
      "metadata": {
        "id": "VNGPkX3tQL-U",
        "colab_type": "code",
        "colab": {}
      },
      "source": [
        "df = pd.read_csv('USvideos.csv')"
      ],
      "execution_count": 0,
      "outputs": []
    },
    {
      "cell_type": "code",
      "metadata": {
        "id": "oyJcQ7EoQL8W",
        "colab_type": "code",
        "outputId": "e889bc73-9b75-4774-da38-abc439d2d8a1",
        "colab": {
          "base_uri": "https://localhost:8080/",
          "height": 102
        }
      },
      "source": [
        "df.columns"
      ],
      "execution_count": 36,
      "outputs": [
        {
          "output_type": "execute_result",
          "data": {
            "text/plain": [
              "Index(['video_id', 'trending_date', 'title', 'channel_title', 'category_id',\n",
              "       'publish_time', 'tags', 'views', 'likes', 'dislikes', 'comment_count',\n",
              "       'thumbnail_link', 'comments_disabled', 'ratings_disabled',\n",
              "       'video_error_or_removed', 'description'],\n",
              "      dtype='object')"
            ]
          },
          "metadata": {
            "tags": []
          },
          "execution_count": 36
        }
      ]
    },
    {
      "cell_type": "code",
      "metadata": {
        "id": "ap-LfoN3QL6E",
        "colab_type": "code",
        "outputId": "ba6e77d1-cc1f-4afe-8390-e55b1abdb311",
        "colab": {
          "base_uri": "https://localhost:8080/",
          "height": 374
        }
      },
      "source": [
        "df.info()"
      ],
      "execution_count": 37,
      "outputs": [
        {
          "output_type": "stream",
          "text": [
            "<class 'pandas.core.frame.DataFrame'>\n",
            "RangeIndex: 40949 entries, 0 to 40948\n",
            "Data columns (total 16 columns):\n",
            "video_id                  40949 non-null object\n",
            "trending_date             40949 non-null object\n",
            "title                     40949 non-null object\n",
            "channel_title             40949 non-null object\n",
            "category_id               40949 non-null int64\n",
            "publish_time              40949 non-null object\n",
            "tags                      40949 non-null object\n",
            "views                     40949 non-null int64\n",
            "likes                     40949 non-null int64\n",
            "dislikes                  40949 non-null int64\n",
            "comment_count             40949 non-null int64\n",
            "thumbnail_link            40949 non-null object\n",
            "comments_disabled         40949 non-null bool\n",
            "ratings_disabled          40949 non-null bool\n",
            "video_error_or_removed    40949 non-null bool\n",
            "description               40379 non-null object\n",
            "dtypes: bool(3), int64(5), object(8)\n",
            "memory usage: 4.2+ MB\n"
          ],
          "name": "stdout"
        }
      ]
    },
    {
      "cell_type": "code",
      "metadata": {
        "id": "l9LllmFYQL1-",
        "colab_type": "code",
        "outputId": "f4baf3fc-eda7-40b9-fc8a-bcef82b0135e",
        "colab": {
          "base_uri": "https://localhost:8080/",
          "height": 297
        }
      },
      "source": [
        "df.describe()"
      ],
      "execution_count": 38,
      "outputs": [
        {
          "output_type": "execute_result",
          "data": {
            "text/html": [
              "<div>\n",
              "<style scoped>\n",
              "    .dataframe tbody tr th:only-of-type {\n",
              "        vertical-align: middle;\n",
              "    }\n",
              "\n",
              "    .dataframe tbody tr th {\n",
              "        vertical-align: top;\n",
              "    }\n",
              "\n",
              "    .dataframe thead th {\n",
              "        text-align: right;\n",
              "    }\n",
              "</style>\n",
              "<table border=\"1\" class=\"dataframe\">\n",
              "  <thead>\n",
              "    <tr style=\"text-align: right;\">\n",
              "      <th></th>\n",
              "      <th>category_id</th>\n",
              "      <th>views</th>\n",
              "      <th>likes</th>\n",
              "      <th>dislikes</th>\n",
              "      <th>comment_count</th>\n",
              "    </tr>\n",
              "  </thead>\n",
              "  <tbody>\n",
              "    <tr>\n",
              "      <th>count</th>\n",
              "      <td>40949.000000</td>\n",
              "      <td>4.094900e+04</td>\n",
              "      <td>4.094900e+04</td>\n",
              "      <td>4.094900e+04</td>\n",
              "      <td>4.094900e+04</td>\n",
              "    </tr>\n",
              "    <tr>\n",
              "      <th>mean</th>\n",
              "      <td>19.972429</td>\n",
              "      <td>2.360785e+06</td>\n",
              "      <td>7.426670e+04</td>\n",
              "      <td>3.711401e+03</td>\n",
              "      <td>8.446804e+03</td>\n",
              "    </tr>\n",
              "    <tr>\n",
              "      <th>std</th>\n",
              "      <td>7.568327</td>\n",
              "      <td>7.394114e+06</td>\n",
              "      <td>2.288853e+05</td>\n",
              "      <td>2.902971e+04</td>\n",
              "      <td>3.743049e+04</td>\n",
              "    </tr>\n",
              "    <tr>\n",
              "      <th>min</th>\n",
              "      <td>1.000000</td>\n",
              "      <td>5.490000e+02</td>\n",
              "      <td>0.000000e+00</td>\n",
              "      <td>0.000000e+00</td>\n",
              "      <td>0.000000e+00</td>\n",
              "    </tr>\n",
              "    <tr>\n",
              "      <th>25%</th>\n",
              "      <td>17.000000</td>\n",
              "      <td>2.423290e+05</td>\n",
              "      <td>5.424000e+03</td>\n",
              "      <td>2.020000e+02</td>\n",
              "      <td>6.140000e+02</td>\n",
              "    </tr>\n",
              "    <tr>\n",
              "      <th>50%</th>\n",
              "      <td>24.000000</td>\n",
              "      <td>6.818610e+05</td>\n",
              "      <td>1.809100e+04</td>\n",
              "      <td>6.310000e+02</td>\n",
              "      <td>1.856000e+03</td>\n",
              "    </tr>\n",
              "    <tr>\n",
              "      <th>75%</th>\n",
              "      <td>25.000000</td>\n",
              "      <td>1.823157e+06</td>\n",
              "      <td>5.541700e+04</td>\n",
              "      <td>1.938000e+03</td>\n",
              "      <td>5.755000e+03</td>\n",
              "    </tr>\n",
              "    <tr>\n",
              "      <th>max</th>\n",
              "      <td>43.000000</td>\n",
              "      <td>2.252119e+08</td>\n",
              "      <td>5.613827e+06</td>\n",
              "      <td>1.674420e+06</td>\n",
              "      <td>1.361580e+06</td>\n",
              "    </tr>\n",
              "  </tbody>\n",
              "</table>\n",
              "</div>"
            ],
            "text/plain": [
              "        category_id         views         likes      dislikes  comment_count\n",
              "count  40949.000000  4.094900e+04  4.094900e+04  4.094900e+04   4.094900e+04\n",
              "mean      19.972429  2.360785e+06  7.426670e+04  3.711401e+03   8.446804e+03\n",
              "std        7.568327  7.394114e+06  2.288853e+05  2.902971e+04   3.743049e+04\n",
              "min        1.000000  5.490000e+02  0.000000e+00  0.000000e+00   0.000000e+00\n",
              "25%       17.000000  2.423290e+05  5.424000e+03  2.020000e+02   6.140000e+02\n",
              "50%       24.000000  6.818610e+05  1.809100e+04  6.310000e+02   1.856000e+03\n",
              "75%       25.000000  1.823157e+06  5.541700e+04  1.938000e+03   5.755000e+03\n",
              "max       43.000000  2.252119e+08  5.613827e+06  1.674420e+06   1.361580e+06"
            ]
          },
          "metadata": {
            "tags": []
          },
          "execution_count": 38
        }
      ]
    },
    {
      "cell_type": "code",
      "metadata": {
        "id": "1mat3L2Hw7Np",
        "colab_type": "code",
        "colab": {}
      },
      "source": [
        "def count_unique(x):\n",
        "  for col in x.columns:\n",
        "    print(f'{col}: {x[col].nunique()}')"
      ],
      "execution_count": 0,
      "outputs": []
    },
    {
      "cell_type": "code",
      "metadata": {
        "id": "xYjtdM43w7MN",
        "colab_type": "code",
        "outputId": "7f14ac81-e114-4380-85c3-6bf595d69f19",
        "colab": {
          "base_uri": "https://localhost:8080/",
          "height": 289
        }
      },
      "source": [
        "count_unique(df)"
      ],
      "execution_count": 40,
      "outputs": [
        {
          "output_type": "stream",
          "text": [
            "video_id: 6351\n",
            "trending_date: 205\n",
            "title: 6455\n",
            "channel_title: 2207\n",
            "category_id: 16\n",
            "publish_time: 6269\n",
            "tags: 6055\n",
            "views: 40478\n",
            "likes: 29850\n",
            "dislikes: 8516\n",
            "comment_count: 13773\n",
            "thumbnail_link: 6352\n",
            "comments_disabled: 2\n",
            "ratings_disabled: 2\n",
            "video_error_or_removed: 2\n",
            "description: 6901\n"
          ],
          "name": "stdout"
        }
      ]
    },
    {
      "cell_type": "code",
      "metadata": {
        "id": "teqfwKNHBXEm",
        "colab_type": "code",
        "outputId": "c907f549-d664-401c-ba31-232fb306a561",
        "colab": {
          "base_uri": "https://localhost:8080/",
          "height": 102
        }
      },
      "source": [
        "# Drop columns with no important information in our analysis:\n",
        "#thumbnail_link: link to small image which identify the video in the search results\n",
        "\n",
        "df.drop(columns='thumbnail_link', inplace=True)\n",
        "print(df.columns)"
      ],
      "execution_count": 41,
      "outputs": [
        {
          "output_type": "stream",
          "text": [
            "Index(['video_id', 'trending_date', 'title', 'channel_title', 'category_id',\n",
            "       'publish_time', 'tags', 'views', 'likes', 'dislikes', 'comment_count',\n",
            "       'comments_disabled', 'ratings_disabled', 'video_error_or_removed',\n",
            "       'description'],\n",
            "      dtype='object')\n"
          ],
          "name": "stdout"
        }
      ]
    },
    {
      "cell_type": "code",
      "metadata": {
        "id": "vj6VM_WLEFjy",
        "colab_type": "code",
        "outputId": "1c50632d-b0a2-4f43-8b7d-dc7ead68e957",
        "colab": {
          "base_uri": "https://localhost:8080/",
          "height": 258
        }
      },
      "source": [
        "# Read json with category_id names and assign the names in new dataframe column \n",
        "\n",
        "import json\n",
        "\n",
        "# open json file with category names\n",
        "with open('US_category_id.json', 'r') as f:\n",
        "  categ_us = json.load(f)\n",
        "\n",
        "categ_dic = {}\n",
        "\n",
        "for k in categ_us['items']:\n",
        "  categ_dic[k['id']]= k['snippet']['title']\n",
        "\n",
        "#print(categ_dic)\n",
        "\n",
        "# Creating new column with category names\n",
        "temp = df.category_id.copy()\n",
        "temp = temp.astype('str')\n",
        "df['category_name'] = temp.map(categ_dic)\n",
        "\n",
        "#print(df.loc[:10, ['category_id', 'category_name']])\n"
      ],
      "execution_count": 63,
      "outputs": [
        {
          "output_type": "stream",
          "text": [
            "{'1': 'Film & Animation', '2': 'Autos & Vehicles', '10': 'Music', '15': 'Pets & Animals', '17': 'Sports', '18': 'Short Movies', '19': 'Travel & Events', '20': 'Gaming', '21': 'Videoblogging', '22': 'People & Blogs', '23': 'Comedy', '24': 'Entertainment', '25': 'News & Politics', '26': 'Howto & Style', '27': 'Education', '28': 'Science & Technology', '29': 'Nonprofits & Activism', '30': 'Movies', '31': 'Anime/Animation', '32': 'Action/Adventure', '33': 'Classics', '34': 'Comedy', '35': 'Documentary', '36': 'Drama', '37': 'Family', '38': 'Foreign', '39': 'Horror', '40': 'Sci-Fi/Fantasy', '41': 'Thriller', '42': 'Shorts', '43': 'Shows', '44': 'Trailers'}\n",
            "    category_id         category_name\n",
            "0            22        People & Blogs\n",
            "1            24         Entertainment\n",
            "2            23                Comedy\n",
            "3            24         Entertainment\n",
            "4            24         Entertainment\n",
            "5            28  Science & Technology\n",
            "6            24         Entertainment\n",
            "7            28  Science & Technology\n",
            "8             1      Film & Animation\n",
            "9            25       News & Politics\n",
            "10           17                Sports\n"
          ],
          "name": "stdout"
        }
      ]
    },
    {
      "cell_type": "code",
      "metadata": {
        "id": "Iy1BrQ0Ly2_H",
        "colab_type": "code",
        "colab": {}
      },
      "source": [
        "# Processing the time feature\n",
        "\n",
        "df.trending_date = pd.to_datetime(df.trending_date, format='%y.%d.%m')\n",
        "\n"
      ],
      "execution_count": 0,
      "outputs": []
    },
    {
      "cell_type": "code",
      "metadata": {
        "id": "0pwJTXwFzMev",
        "colab_type": "code",
        "colab": {
          "base_uri": "https://localhost:8080/",
          "height": 34
        },
        "outputId": "202c5ea7-1e28-4aeb-ad89-90cb68d4f728"
      },
      "source": [
        "temp = df.groupby(df.trending_date.dt.year)\n",
        "\n",
        "\n",
        "print(temp)"
      ],
      "execution_count": 75,
      "outputs": [
        {
          "output_type": "stream",
          "text": [
            "<pandas.core.groupby.generic.DataFrameGroupBy object at 0x7f508fd35710>\n"
          ],
          "name": "stdout"
        }
      ]
    },
    {
      "cell_type": "code",
      "metadata": {
        "id": "Bw6v4Azqzr6v",
        "colab_type": "code",
        "colab": {
          "base_uri": "https://localhost:8080/",
          "height": 34
        },
        "outputId": "97b03b49-39d0-4a09-dbab-a2f42a669538"
      },
      "source": [
        "type(df.trending_date[0])"
      ],
      "execution_count": 67,
      "outputs": [
        {
          "output_type": "execute_result",
          "data": {
            "text/plain": [
              "str"
            ]
          },
          "metadata": {
            "tags": []
          },
          "execution_count": 67
        }
      ]
    },
    {
      "cell_type": "code",
      "metadata": {
        "id": "mFcRpcoDxy5R",
        "colab_type": "code",
        "colab": {
          "base_uri": "https://localhost:8080/",
          "height": 374
        },
        "outputId": "648ba374-49fe-4bf5-f21e-cdb10956ebc8"
      },
      "source": [
        "df.trending_date.value_counts()[:20]"
      ],
      "execution_count": 64,
      "outputs": [
        {
          "output_type": "execute_result",
          "data": {
            "text/plain": [
              "18.25.05    200\n",
              "18.23.04    200\n",
              "18.21.04    200\n",
              "18.24.04    200\n",
              "18.08.05    200\n",
              "17.24.11    200\n",
              "18.21.01    200\n",
              "18.12.01    200\n",
              "18.02.04    200\n",
              "18.20.02    200\n",
              "18.24.01    200\n",
              "17.31.12    200\n",
              "18.02.05    200\n",
              "18.01.05    200\n",
              "18.19.05    200\n",
              "17.08.12    200\n",
              "18.19.02    200\n",
              "18.10.03    200\n",
              "18.14.04    200\n",
              "17.20.12    200\n",
              "Name: trending_date, dtype: int64"
            ]
          },
          "metadata": {
            "tags": []
          },
          "execution_count": 64
        }
      ]
    },
    {
      "cell_type": "code",
      "metadata": {
        "id": "CbaZ-6M3w7KT",
        "colab_type": "code",
        "outputId": "e1833fa1-0881-4519-946f-eb9746b47be6",
        "colab": {
          "base_uri": "https://localhost:8080/",
          "height": 68
        }
      },
      "source": [
        "df.video_id.unique()[:10]"
      ],
      "execution_count": 0,
      "outputs": [
        {
          "output_type": "execute_result",
          "data": {
            "text/plain": [
              "array(['2kyS6SvSYSE', '1ZAPwfrtAFY', '5qpjK5DgCt4', 'puqaWrEC7tY',\n",
              "       'd380meD0W0M', 'gHZ1Qz0KiKM', '39idVpFF7NQ', 'nc99ccSXST0',\n",
              "       'jr9QtXwC9vc', 'TUmyygCMMGA'], dtype=object)"
            ]
          },
          "metadata": {
            "tags": []
          },
          "execution_count": 42
        }
      ]
    },
    {
      "cell_type": "code",
      "metadata": {
        "id": "J-Ddbzy3w7Ex",
        "colab_type": "code",
        "outputId": "4f7d522c-dcee-4a5a-94ca-2121fff0a86c",
        "colab": {
          "base_uri": "https://localhost:8080/",
          "height": 306
        }
      },
      "source": [
        "df.iloc[0,:]"
      ],
      "execution_count": 0,
      "outputs": [
        {
          "output_type": "execute_result",
          "data": {
            "text/plain": [
              "video_id                                                        2kyS6SvSYSE\n",
              "trending_date                                                      17.14.11\n",
              "title                                    WE WANT TO TALK ABOUT OUR MARRIAGE\n",
              "channel_title                                                  CaseyNeistat\n",
              "category_id                                                              22\n",
              "publish_time                                       2017-11-13T17:13:01.000Z\n",
              "tags                                                        SHANtell martin\n",
              "views                                                                748374\n",
              "likes                                                                 57527\n",
              "dislikes                                                               2966\n",
              "comment_count                                                         15954\n",
              "thumbnail_link               https://i.ytimg.com/vi/2kyS6SvSYSE/default.jpg\n",
              "comments_disabled                                                     False\n",
              "ratings_disabled                                                      False\n",
              "video_error_or_removed                                                False\n",
              "description               SHANTELL'S CHANNEL - https://www.youtube.com/s...\n",
              "Name: 0, dtype: object"
            ]
          },
          "metadata": {
            "tags": []
          },
          "execution_count": 43
        }
      ]
    },
    {
      "cell_type": "code",
      "metadata": {
        "id": "4bbYdNIx70CU",
        "colab_type": "code",
        "outputId": "ecc5638c-a12f-48d9-c5d0-60cbee2feb11",
        "colab": {
          "base_uri": "https://localhost:8080/",
          "height": 306
        }
      },
      "source": [
        "df.iloc[1, :]"
      ],
      "execution_count": 0,
      "outputs": [
        {
          "output_type": "execute_result",
          "data": {
            "text/plain": [
              "video_id                                                        1ZAPwfrtAFY\n",
              "trending_date                                                      17.14.11\n",
              "title                     The Trump Presidency: Last Week Tonight with J...\n",
              "channel_title                                               LastWeekTonight\n",
              "category_id                                                              24\n",
              "publish_time                                       2017-11-13T07:30:00.000Z\n",
              "tags                      last week tonight trump presidency|\"last week ...\n",
              "views                                                               2418783\n",
              "likes                                                                 97185\n",
              "dislikes                                                               6146\n",
              "comment_count                                                         12703\n",
              "thumbnail_link               https://i.ytimg.com/vi/1ZAPwfrtAFY/default.jpg\n",
              "comments_disabled                                                     False\n",
              "ratings_disabled                                                      False\n",
              "video_error_or_removed                                                False\n",
              "description               One year after the presidential election, John...\n",
              "Name: 1, dtype: object"
            ]
          },
          "metadata": {
            "tags": []
          },
          "execution_count": 44
        }
      ]
    },
    {
      "cell_type": "code",
      "metadata": {
        "id": "G6LQsvYz_jap",
        "colab_type": "code",
        "outputId": "a0b56d7b-d3f5-403b-9efd-c6823db6f53e",
        "colab": {
          "base_uri": "https://localhost:8080/",
          "height": 306
        }
      },
      "source": [
        "df.iloc[2, :]"
      ],
      "execution_count": 0,
      "outputs": [
        {
          "output_type": "execute_result",
          "data": {
            "text/plain": [
              "video_id                                                        5qpjK5DgCt4\n",
              "trending_date                                                      17.14.11\n",
              "title                     Racist Superman | Rudy Mancuso, King Bach & Le...\n",
              "channel_title                                                  Rudy Mancuso\n",
              "category_id                                                              23\n",
              "publish_time                                       2017-11-12T19:05:24.000Z\n",
              "tags                      racist superman|\"rudy\"|\"mancuso\"|\"king\"|\"bach\"...\n",
              "views                                                               3191434\n",
              "likes                                                                146033\n",
              "dislikes                                                               5339\n",
              "comment_count                                                          8181\n",
              "thumbnail_link               https://i.ytimg.com/vi/5qpjK5DgCt4/default.jpg\n",
              "comments_disabled                                                     False\n",
              "ratings_disabled                                                      False\n",
              "video_error_or_removed                                                False\n",
              "description               WATCH MY PREVIOUS VIDEO ▶ \\n\\nSUBSCRIBE ► http...\n",
              "Name: 2, dtype: object"
            ]
          },
          "metadata": {
            "tags": []
          },
          "execution_count": 45
        }
      ]
    }
  ]
}