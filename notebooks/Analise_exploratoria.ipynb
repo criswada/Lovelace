{
  "nbformat": 4,
  "nbformat_minor": 0,
  "metadata": {
    "colab": {
      "name": "Analise_exploratoria.ipynb",
      "provenance": [],
      "collapsed_sections": [],
      "toc_visible": true
    },
    "kernelspec": {
      "name": "python3",
      "display_name": "Python 3"
    }
  },
  "cells": [
    {
      "cell_type": "code",
      "metadata": {
        "id": "ucw1qhvdOpuB",
        "colab_type": "code",
        "colab": {}
      },
      "source": [
        "import pandas as pd\n",
        "import numpy as np\n",
        "import matplotlib.pyplot as plt\n",
        "import seaborn as sns\n",
        "import json\n"
      ],
      "execution_count": 0,
      "outputs": []
    },
    {
      "cell_type": "markdown",
      "metadata": {
        "id": "ypKuVP4rd_99",
        "colab_type": "text"
      },
      "source": [
        "## Pre-processamento"
      ]
    },
    {
      "cell_type": "code",
      "metadata": {
        "id": "VNGPkX3tQL-U",
        "colab_type": "code",
        "colab": {}
      },
      "source": [
        "df = pd.read_csv('USvideos.csv')"
      ],
      "execution_count": 0,
      "outputs": []
    },
    {
      "cell_type": "code",
      "metadata": {
        "id": "oyJcQ7EoQL8W",
        "colab_type": "code",
        "outputId": "4d00d6b9-7487-4eff-f520-937a08630ccc",
        "colab": {
          "base_uri": "https://localhost:8080/",
          "height": 102
        }
      },
      "source": [
        "df.columns"
      ],
      "execution_count": 36,
      "outputs": [
        {
          "output_type": "execute_result",
          "data": {
            "text/plain": [
              "Index(['video_id', 'trending_date', 'title', 'channel_title', 'category_id',\n",
              "       'publish_time', 'tags', 'views', 'likes', 'dislikes', 'comment_count',\n",
              "       'thumbnail_link', 'comments_disabled', 'ratings_disabled',\n",
              "       'video_error_or_removed', 'description'],\n",
              "      dtype='object')"
            ]
          },
          "metadata": {
            "tags": []
          },
          "execution_count": 36
        }
      ]
    },
    {
      "cell_type": "code",
      "metadata": {
        "id": "ap-LfoN3QL6E",
        "colab_type": "code",
        "outputId": "a2489e22-7666-45a0-b40a-c086de05f23e",
        "colab": {
          "base_uri": "https://localhost:8080/",
          "height": 374
        }
      },
      "source": [
        "df.info()"
      ],
      "execution_count": 37,
      "outputs": [
        {
          "output_type": "stream",
          "text": [
            "<class 'pandas.core.frame.DataFrame'>\n",
            "RangeIndex: 40949 entries, 0 to 40948\n",
            "Data columns (total 16 columns):\n",
            "video_id                  40949 non-null object\n",
            "trending_date             40949 non-null object\n",
            "title                     40949 non-null object\n",
            "channel_title             40949 non-null object\n",
            "category_id               40949 non-null int64\n",
            "publish_time              40949 non-null object\n",
            "tags                      40949 non-null object\n",
            "views                     40949 non-null int64\n",
            "likes                     40949 non-null int64\n",
            "dislikes                  40949 non-null int64\n",
            "comment_count             40949 non-null int64\n",
            "thumbnail_link            40949 non-null object\n",
            "comments_disabled         40949 non-null bool\n",
            "ratings_disabled          40949 non-null bool\n",
            "video_error_or_removed    40949 non-null bool\n",
            "description               40379 non-null object\n",
            "dtypes: bool(3), int64(5), object(8)\n",
            "memory usage: 4.2+ MB\n"
          ],
          "name": "stdout"
        }
      ]
    },
    {
      "cell_type": "code",
      "metadata": {
        "id": "l9LllmFYQL1-",
        "colab_type": "code",
        "colab": {
          "base_uri": "https://localhost:8080/",
          "height": 297
        },
        "outputId": "f65a3df2-17fb-491e-9a93-4654f39a826d"
      },
      "source": [
        "df.describe()"
      ],
      "execution_count": 38,
      "outputs": [
        {
          "output_type": "execute_result",
          "data": {
            "text/html": [
              "<div>\n",
              "<style scoped>\n",
              "    .dataframe tbody tr th:only-of-type {\n",
              "        vertical-align: middle;\n",
              "    }\n",
              "\n",
              "    .dataframe tbody tr th {\n",
              "        vertical-align: top;\n",
              "    }\n",
              "\n",
              "    .dataframe thead th {\n",
              "        text-align: right;\n",
              "    }\n",
              "</style>\n",
              "<table border=\"1\" class=\"dataframe\">\n",
              "  <thead>\n",
              "    <tr style=\"text-align: right;\">\n",
              "      <th></th>\n",
              "      <th>category_id</th>\n",
              "      <th>views</th>\n",
              "      <th>likes</th>\n",
              "      <th>dislikes</th>\n",
              "      <th>comment_count</th>\n",
              "    </tr>\n",
              "  </thead>\n",
              "  <tbody>\n",
              "    <tr>\n",
              "      <th>count</th>\n",
              "      <td>40949.000000</td>\n",
              "      <td>4.094900e+04</td>\n",
              "      <td>4.094900e+04</td>\n",
              "      <td>4.094900e+04</td>\n",
              "      <td>4.094900e+04</td>\n",
              "    </tr>\n",
              "    <tr>\n",
              "      <th>mean</th>\n",
              "      <td>19.972429</td>\n",
              "      <td>2.360785e+06</td>\n",
              "      <td>7.426670e+04</td>\n",
              "      <td>3.711401e+03</td>\n",
              "      <td>8.446804e+03</td>\n",
              "    </tr>\n",
              "    <tr>\n",
              "      <th>std</th>\n",
              "      <td>7.568327</td>\n",
              "      <td>7.394114e+06</td>\n",
              "      <td>2.288853e+05</td>\n",
              "      <td>2.902971e+04</td>\n",
              "      <td>3.743049e+04</td>\n",
              "    </tr>\n",
              "    <tr>\n",
              "      <th>min</th>\n",
              "      <td>1.000000</td>\n",
              "      <td>5.490000e+02</td>\n",
              "      <td>0.000000e+00</td>\n",
              "      <td>0.000000e+00</td>\n",
              "      <td>0.000000e+00</td>\n",
              "    </tr>\n",
              "    <tr>\n",
              "      <th>25%</th>\n",
              "      <td>17.000000</td>\n",
              "      <td>2.423290e+05</td>\n",
              "      <td>5.424000e+03</td>\n",
              "      <td>2.020000e+02</td>\n",
              "      <td>6.140000e+02</td>\n",
              "    </tr>\n",
              "    <tr>\n",
              "      <th>50%</th>\n",
              "      <td>24.000000</td>\n",
              "      <td>6.818610e+05</td>\n",
              "      <td>1.809100e+04</td>\n",
              "      <td>6.310000e+02</td>\n",
              "      <td>1.856000e+03</td>\n",
              "    </tr>\n",
              "    <tr>\n",
              "      <th>75%</th>\n",
              "      <td>25.000000</td>\n",
              "      <td>1.823157e+06</td>\n",
              "      <td>5.541700e+04</td>\n",
              "      <td>1.938000e+03</td>\n",
              "      <td>5.755000e+03</td>\n",
              "    </tr>\n",
              "    <tr>\n",
              "      <th>max</th>\n",
              "      <td>43.000000</td>\n",
              "      <td>2.252119e+08</td>\n",
              "      <td>5.613827e+06</td>\n",
              "      <td>1.674420e+06</td>\n",
              "      <td>1.361580e+06</td>\n",
              "    </tr>\n",
              "  </tbody>\n",
              "</table>\n",
              "</div>"
            ],
            "text/plain": [
              "        category_id         views         likes      dislikes  comment_count\n",
              "count  40949.000000  4.094900e+04  4.094900e+04  4.094900e+04   4.094900e+04\n",
              "mean      19.972429  2.360785e+06  7.426670e+04  3.711401e+03   8.446804e+03\n",
              "std        7.568327  7.394114e+06  2.288853e+05  2.902971e+04   3.743049e+04\n",
              "min        1.000000  5.490000e+02  0.000000e+00  0.000000e+00   0.000000e+00\n",
              "25%       17.000000  2.423290e+05  5.424000e+03  2.020000e+02   6.140000e+02\n",
              "50%       24.000000  6.818610e+05  1.809100e+04  6.310000e+02   1.856000e+03\n",
              "75%       25.000000  1.823157e+06  5.541700e+04  1.938000e+03   5.755000e+03\n",
              "max       43.000000  2.252119e+08  5.613827e+06  1.674420e+06   1.361580e+06"
            ]
          },
          "metadata": {
            "tags": []
          },
          "execution_count": 38
        }
      ]
    },
    {
      "cell_type": "code",
      "metadata": {
        "id": "1mat3L2Hw7Np",
        "colab_type": "code",
        "colab": {}
      },
      "source": [
        "def count_unique(x):\n",
        "  for col in x.columns:\n",
        "    print(f'{col}: {x[col].nunique()}')"
      ],
      "execution_count": 0,
      "outputs": []
    },
    {
      "cell_type": "code",
      "metadata": {
        "id": "xYjtdM43w7MN",
        "colab_type": "code",
        "colab": {
          "base_uri": "https://localhost:8080/",
          "height": 289
        },
        "outputId": "cb7cb430-fa96-4648-d30c-9b83a596c113"
      },
      "source": [
        "count_unique(df)"
      ],
      "execution_count": 40,
      "outputs": [
        {
          "output_type": "stream",
          "text": [
            "video_id: 6351\n",
            "trending_date: 205\n",
            "title: 6455\n",
            "channel_title: 2207\n",
            "category_id: 16\n",
            "publish_time: 6269\n",
            "tags: 6055\n",
            "views: 40478\n",
            "likes: 29850\n",
            "dislikes: 8516\n",
            "comment_count: 13773\n",
            "thumbnail_link: 6352\n",
            "comments_disabled: 2\n",
            "ratings_disabled: 2\n",
            "video_error_or_removed: 2\n",
            "description: 6901\n"
          ],
          "name": "stdout"
        }
      ]
    },
    {
      "cell_type": "code",
      "metadata": {
        "id": "teqfwKNHBXEm",
        "colab_type": "code",
        "colab": {
          "base_uri": "https://localhost:8080/",
          "height": 102
        },
        "outputId": "79463d12-fcb4-40b5-e75f-db4d9345f1f1"
      },
      "source": [
        "# Drop columns with no important information in our analysis:\n",
        "#thumbnail_link: link to small image which identify the video in the search results\n",
        "\n",
        "df.drop(columns='thumbnail_link', inplace=True)\n",
        "print(df.columns)"
      ],
      "execution_count": 46,
      "outputs": [
        {
          "output_type": "stream",
          "text": [
            "Index(['video_id', 'trending_date', 'title', 'channel_title', 'category_id',\n",
            "       'publish_time', 'tags', 'views', 'likes', 'dislikes', 'comment_count',\n",
            "       'comments_disabled', 'ratings_disabled', 'video_error_or_removed',\n",
            "       'description'],\n",
            "      dtype='object')\n"
          ],
          "name": "stdout"
        }
      ]
    },
    {
      "cell_type": "code",
      "metadata": {
        "id": "vj6VM_WLEFjy",
        "colab_type": "code",
        "colab": {
          "base_uri": "https://localhost:8080/",
          "height": 561
        },
        "outputId": "34018f30-09ab-4cac-ce08-b90a451fbcf3"
      },
      "source": [
        "# Read json with category_id names and assign them in new dataframe column\n",
        "\n",
        "import json\n",
        "\n",
        "with open('US_category_id.json', 'r') as f:\n",
        "  categ_us = json.load(f)\n",
        "\n",
        "for k in categ_us['items']:\n",
        "  print(k['id'], k['snippet']['title'])\n",
        "\n"
      ],
      "execution_count": 82,
      "outputs": [
        {
          "output_type": "stream",
          "text": [
            "1 Film & Animation\n",
            "2 Autos & Vehicles\n",
            "10 Music\n",
            "15 Pets & Animals\n",
            "17 Sports\n",
            "18 Short Movies\n",
            "19 Travel & Events\n",
            "20 Gaming\n",
            "21 Videoblogging\n",
            "22 People & Blogs\n",
            "23 Comedy\n",
            "24 Entertainment\n",
            "25 News & Politics\n",
            "26 Howto & Style\n",
            "27 Education\n",
            "28 Science & Technology\n",
            "29 Nonprofits & Activism\n",
            "30 Movies\n",
            "31 Anime/Animation\n",
            "32 Action/Adventure\n",
            "33 Classics\n",
            "34 Comedy\n",
            "35 Documentary\n",
            "36 Drama\n",
            "37 Family\n",
            "38 Foreign\n",
            "39 Horror\n",
            "40 Sci-Fi/Fantasy\n",
            "41 Thriller\n",
            "42 Shorts\n",
            "43 Shows\n",
            "44 Trailers\n"
          ],
          "name": "stdout"
        }
      ]
    },
    {
      "cell_type": "code",
      "metadata": {
        "id": "CbaZ-6M3w7KT",
        "colab_type": "code",
        "colab": {
          "base_uri": "https://localhost:8080/",
          "height": 68
        },
        "outputId": "e1833fa1-0881-4519-946f-eb9746b47be6"
      },
      "source": [
        "df.video_id.unique()[:10]"
      ],
      "execution_count": 42,
      "outputs": [
        {
          "output_type": "execute_result",
          "data": {
            "text/plain": [
              "array(['2kyS6SvSYSE', '1ZAPwfrtAFY', '5qpjK5DgCt4', 'puqaWrEC7tY',\n",
              "       'd380meD0W0M', 'gHZ1Qz0KiKM', '39idVpFF7NQ', 'nc99ccSXST0',\n",
              "       'jr9QtXwC9vc', 'TUmyygCMMGA'], dtype=object)"
            ]
          },
          "metadata": {
            "tags": []
          },
          "execution_count": 42
        }
      ]
    },
    {
      "cell_type": "code",
      "metadata": {
        "id": "J-Ddbzy3w7Ex",
        "colab_type": "code",
        "colab": {
          "base_uri": "https://localhost:8080/",
          "height": 306
        },
        "outputId": "4f7d522c-dcee-4a5a-94ca-2121fff0a86c"
      },
      "source": [
        "df.iloc[0,:]"
      ],
      "execution_count": 43,
      "outputs": [
        {
          "output_type": "execute_result",
          "data": {
            "text/plain": [
              "video_id                                                        2kyS6SvSYSE\n",
              "trending_date                                                      17.14.11\n",
              "title                                    WE WANT TO TALK ABOUT OUR MARRIAGE\n",
              "channel_title                                                  CaseyNeistat\n",
              "category_id                                                              22\n",
              "publish_time                                       2017-11-13T17:13:01.000Z\n",
              "tags                                                        SHANtell martin\n",
              "views                                                                748374\n",
              "likes                                                                 57527\n",
              "dislikes                                                               2966\n",
              "comment_count                                                         15954\n",
              "thumbnail_link               https://i.ytimg.com/vi/2kyS6SvSYSE/default.jpg\n",
              "comments_disabled                                                     False\n",
              "ratings_disabled                                                      False\n",
              "video_error_or_removed                                                False\n",
              "description               SHANTELL'S CHANNEL - https://www.youtube.com/s...\n",
              "Name: 0, dtype: object"
            ]
          },
          "metadata": {
            "tags": []
          },
          "execution_count": 43
        }
      ]
    },
    {
      "cell_type": "code",
      "metadata": {
        "id": "4bbYdNIx70CU",
        "colab_type": "code",
        "colab": {
          "base_uri": "https://localhost:8080/",
          "height": 306
        },
        "outputId": "ecc5638c-a12f-48d9-c5d0-60cbee2feb11"
      },
      "source": [
        "df.iloc[1, :]"
      ],
      "execution_count": 44,
      "outputs": [
        {
          "output_type": "execute_result",
          "data": {
            "text/plain": [
              "video_id                                                        1ZAPwfrtAFY\n",
              "trending_date                                                      17.14.11\n",
              "title                     The Trump Presidency: Last Week Tonight with J...\n",
              "channel_title                                               LastWeekTonight\n",
              "category_id                                                              24\n",
              "publish_time                                       2017-11-13T07:30:00.000Z\n",
              "tags                      last week tonight trump presidency|\"last week ...\n",
              "views                                                               2418783\n",
              "likes                                                                 97185\n",
              "dislikes                                                               6146\n",
              "comment_count                                                         12703\n",
              "thumbnail_link               https://i.ytimg.com/vi/1ZAPwfrtAFY/default.jpg\n",
              "comments_disabled                                                     False\n",
              "ratings_disabled                                                      False\n",
              "video_error_or_removed                                                False\n",
              "description               One year after the presidential election, John...\n",
              "Name: 1, dtype: object"
            ]
          },
          "metadata": {
            "tags": []
          },
          "execution_count": 44
        }
      ]
    },
    {
      "cell_type": "code",
      "metadata": {
        "id": "G6LQsvYz_jap",
        "colab_type": "code",
        "colab": {
          "base_uri": "https://localhost:8080/",
          "height": 306
        },
        "outputId": "a0b56d7b-d3f5-403b-9efd-c6823db6f53e"
      },
      "source": [
        "df.iloc[2, :]"
      ],
      "execution_count": 45,
      "outputs": [
        {
          "output_type": "execute_result",
          "data": {
            "text/plain": [
              "video_id                                                        5qpjK5DgCt4\n",
              "trending_date                                                      17.14.11\n",
              "title                     Racist Superman | Rudy Mancuso, King Bach & Le...\n",
              "channel_title                                                  Rudy Mancuso\n",
              "category_id                                                              23\n",
              "publish_time                                       2017-11-12T19:05:24.000Z\n",
              "tags                      racist superman|\"rudy\"|\"mancuso\"|\"king\"|\"bach\"...\n",
              "views                                                               3191434\n",
              "likes                                                                146033\n",
              "dislikes                                                               5339\n",
              "comment_count                                                          8181\n",
              "thumbnail_link               https://i.ytimg.com/vi/5qpjK5DgCt4/default.jpg\n",
              "comments_disabled                                                     False\n",
              "ratings_disabled                                                      False\n",
              "video_error_or_removed                                                False\n",
              "description               WATCH MY PREVIOUS VIDEO ▶ \\n\\nSUBSCRIBE ► http...\n",
              "Name: 2, dtype: object"
            ]
          },
          "metadata": {
            "tags": []
          },
          "execution_count": 45
        }
      ]
    }
  ]
}