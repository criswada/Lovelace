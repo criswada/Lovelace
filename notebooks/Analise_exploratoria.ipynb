{
  "nbformat": 4,
  "nbformat_minor": 0,
  "metadata": {
    "colab": {
      "name": "Analise_exploratoria.ipynb",
      "provenance": [],
      "collapsed_sections": []
    },
    "kernelspec": {
      "name": "python3",
      "display_name": "Python 3"
    }
  },
  "cells": [
    {
      "cell_type": "code",
      "metadata": {
        "id": "ucw1qhvdOpuB",
        "colab_type": "code",
        "colab": {}
      },
      "source": [
        "import pandas as pd\n",
        "import numpy as np\n",
        "import matplotlib.pyplot as plt\n",
        "import seaborn as sns\n",
        "import json\n"
      ],
      "execution_count": 0,
      "outputs": []
    },
    {
      "cell_type": "markdown",
      "metadata": {
        "id": "ypKuVP4rd_99",
        "colab_type": "text"
      },
      "source": [
        "## Pre-processamento"
      ]
    },
    {
      "cell_type": "code",
      "metadata": {
        "id": "VNGPkX3tQL-U",
        "colab_type": "code",
        "colab": {}
      },
      "source": [
        "df = pd.read_csv('USvideos.csv')"
      ],
      "execution_count": 0,
      "outputs": []
    },
    {
      "cell_type": "code",
      "metadata": {
        "id": "oyJcQ7EoQL8W",
        "colab_type": "code",
        "outputId": "e3837b98-47ba-49df-afc0-7a0918903ec8",
        "colab": {
          "base_uri": "https://localhost:8080/",
          "height": 102
        }
      },
      "source": [
        "df.columns"
      ],
      "execution_count": 97,
      "outputs": [
        {
          "output_type": "execute_result",
          "data": {
            "text/plain": [
              "Index(['video_id', 'trending_date', 'title', 'channel_title', 'category_id',\n",
              "       'publish_time', 'tags', 'views', 'likes', 'dislikes', 'comment_count',\n",
              "       'thumbnail_link', 'comments_disabled', 'ratings_disabled',\n",
              "       'video_error_or_removed', 'description'],\n",
              "      dtype='object')"
            ]
          },
          "metadata": {
            "tags": []
          },
          "execution_count": 97
        }
      ]
    },
    {
      "cell_type": "code",
      "metadata": {
        "id": "ap-LfoN3QL6E",
        "colab_type": "code",
        "outputId": "07da002b-8daf-4f5b-f566-5bf606dc0cf2",
        "colab": {
          "base_uri": "https://localhost:8080/",
          "height": 374
        }
      },
      "source": [
        "df.info()"
      ],
      "execution_count": 98,
      "outputs": [
        {
          "output_type": "stream",
          "text": [
            "<class 'pandas.core.frame.DataFrame'>\n",
            "RangeIndex: 40949 entries, 0 to 40948\n",
            "Data columns (total 16 columns):\n",
            "video_id                  40949 non-null object\n",
            "trending_date             40949 non-null object\n",
            "title                     40949 non-null object\n",
            "channel_title             40949 non-null object\n",
            "category_id               40949 non-null int64\n",
            "publish_time              40949 non-null object\n",
            "tags                      40949 non-null object\n",
            "views                     40949 non-null int64\n",
            "likes                     40949 non-null int64\n",
            "dislikes                  40949 non-null int64\n",
            "comment_count             40949 non-null int64\n",
            "thumbnail_link            40949 non-null object\n",
            "comments_disabled         40949 non-null bool\n",
            "ratings_disabled          40949 non-null bool\n",
            "video_error_or_removed    40949 non-null bool\n",
            "description               40379 non-null object\n",
            "dtypes: bool(3), int64(5), object(8)\n",
            "memory usage: 4.2+ MB\n"
          ],
          "name": "stdout"
        }
      ]
    },
    {
      "cell_type": "code",
      "metadata": {
        "id": "l9LllmFYQL1-",
        "colab_type": "code",
        "outputId": "1a328da6-a3eb-417d-c9f6-0a50a8808597",
        "colab": {
          "base_uri": "https://localhost:8080/",
          "height": 297
        }
      },
      "source": [
        "df.describe()"
      ],
      "execution_count": 99,
      "outputs": [
        {
          "output_type": "execute_result",
          "data": {
            "text/html": [
              "<div>\n",
              "<style scoped>\n",
              "    .dataframe tbody tr th:only-of-type {\n",
              "        vertical-align: middle;\n",
              "    }\n",
              "\n",
              "    .dataframe tbody tr th {\n",
              "        vertical-align: top;\n",
              "    }\n",
              "\n",
              "    .dataframe thead th {\n",
              "        text-align: right;\n",
              "    }\n",
              "</style>\n",
              "<table border=\"1\" class=\"dataframe\">\n",
              "  <thead>\n",
              "    <tr style=\"text-align: right;\">\n",
              "      <th></th>\n",
              "      <th>category_id</th>\n",
              "      <th>views</th>\n",
              "      <th>likes</th>\n",
              "      <th>dislikes</th>\n",
              "      <th>comment_count</th>\n",
              "    </tr>\n",
              "  </thead>\n",
              "  <tbody>\n",
              "    <tr>\n",
              "      <th>count</th>\n",
              "      <td>40949.000000</td>\n",
              "      <td>4.094900e+04</td>\n",
              "      <td>4.094900e+04</td>\n",
              "      <td>4.094900e+04</td>\n",
              "      <td>4.094900e+04</td>\n",
              "    </tr>\n",
              "    <tr>\n",
              "      <th>mean</th>\n",
              "      <td>19.972429</td>\n",
              "      <td>2.360785e+06</td>\n",
              "      <td>7.426670e+04</td>\n",
              "      <td>3.711401e+03</td>\n",
              "      <td>8.446804e+03</td>\n",
              "    </tr>\n",
              "    <tr>\n",
              "      <th>std</th>\n",
              "      <td>7.568327</td>\n",
              "      <td>7.394114e+06</td>\n",
              "      <td>2.288853e+05</td>\n",
              "      <td>2.902971e+04</td>\n",
              "      <td>3.743049e+04</td>\n",
              "    </tr>\n",
              "    <tr>\n",
              "      <th>min</th>\n",
              "      <td>1.000000</td>\n",
              "      <td>5.490000e+02</td>\n",
              "      <td>0.000000e+00</td>\n",
              "      <td>0.000000e+00</td>\n",
              "      <td>0.000000e+00</td>\n",
              "    </tr>\n",
              "    <tr>\n",
              "      <th>25%</th>\n",
              "      <td>17.000000</td>\n",
              "      <td>2.423290e+05</td>\n",
              "      <td>5.424000e+03</td>\n",
              "      <td>2.020000e+02</td>\n",
              "      <td>6.140000e+02</td>\n",
              "    </tr>\n",
              "    <tr>\n",
              "      <th>50%</th>\n",
              "      <td>24.000000</td>\n",
              "      <td>6.818610e+05</td>\n",
              "      <td>1.809100e+04</td>\n",
              "      <td>6.310000e+02</td>\n",
              "      <td>1.856000e+03</td>\n",
              "    </tr>\n",
              "    <tr>\n",
              "      <th>75%</th>\n",
              "      <td>25.000000</td>\n",
              "      <td>1.823157e+06</td>\n",
              "      <td>5.541700e+04</td>\n",
              "      <td>1.938000e+03</td>\n",
              "      <td>5.755000e+03</td>\n",
              "    </tr>\n",
              "    <tr>\n",
              "      <th>max</th>\n",
              "      <td>43.000000</td>\n",
              "      <td>2.252119e+08</td>\n",
              "      <td>5.613827e+06</td>\n",
              "      <td>1.674420e+06</td>\n",
              "      <td>1.361580e+06</td>\n",
              "    </tr>\n",
              "  </tbody>\n",
              "</table>\n",
              "</div>"
            ],
            "text/plain": [
              "        category_id         views         likes      dislikes  comment_count\n",
              "count  40949.000000  4.094900e+04  4.094900e+04  4.094900e+04   4.094900e+04\n",
              "mean      19.972429  2.360785e+06  7.426670e+04  3.711401e+03   8.446804e+03\n",
              "std        7.568327  7.394114e+06  2.288853e+05  2.902971e+04   3.743049e+04\n",
              "min        1.000000  5.490000e+02  0.000000e+00  0.000000e+00   0.000000e+00\n",
              "25%       17.000000  2.423290e+05  5.424000e+03  2.020000e+02   6.140000e+02\n",
              "50%       24.000000  6.818610e+05  1.809100e+04  6.310000e+02   1.856000e+03\n",
              "75%       25.000000  1.823157e+06  5.541700e+04  1.938000e+03   5.755000e+03\n",
              "max       43.000000  2.252119e+08  5.613827e+06  1.674420e+06   1.361580e+06"
            ]
          },
          "metadata": {
            "tags": []
          },
          "execution_count": 99
        }
      ]
    },
    {
      "cell_type": "code",
      "metadata": {
        "id": "1mat3L2Hw7Np",
        "colab_type": "code",
        "colab": {}
      },
      "source": [
        "def count_unique(x):\n",
        "  for col in x.columns:\n",
        "    print(f'{col}: {x[col].nunique()}')"
      ],
      "execution_count": 0,
      "outputs": []
    },
    {
      "cell_type": "code",
      "metadata": {
        "id": "xYjtdM43w7MN",
        "colab_type": "code",
        "outputId": "a9a98c67-deab-43a2-9b23-b4153ee033e2",
        "colab": {
          "base_uri": "https://localhost:8080/",
          "height": 289
        }
      },
      "source": [
        "count_unique(df)"
      ],
      "execution_count": 101,
      "outputs": [
        {
          "output_type": "stream",
          "text": [
            "video_id: 6351\n",
            "trending_date: 205\n",
            "title: 6455\n",
            "channel_title: 2207\n",
            "category_id: 16\n",
            "publish_time: 6269\n",
            "tags: 6055\n",
            "views: 40478\n",
            "likes: 29850\n",
            "dislikes: 8516\n",
            "comment_count: 13773\n",
            "thumbnail_link: 6352\n",
            "comments_disabled: 2\n",
            "ratings_disabled: 2\n",
            "video_error_or_removed: 2\n",
            "description: 6901\n"
          ],
          "name": "stdout"
        }
      ]
    },
    {
      "cell_type": "code",
      "metadata": {
        "id": "teqfwKNHBXEm",
        "colab_type": "code",
        "outputId": "920f9b17-0ba2-44e8-ba93-3344b8b9fc23",
        "colab": {
          "base_uri": "https://localhost:8080/",
          "height": 102
        }
      },
      "source": [
        "# Drop columns with no important information in our analysis:\n",
        "#thumbnail_link: link to small image which identify the video in the search results\n",
        "\n",
        "df.drop(columns='thumbnail_link', inplace=True)\n",
        "print(df.columns)"
      ],
      "execution_count": 102,
      "outputs": [
        {
          "output_type": "stream",
          "text": [
            "Index(['video_id', 'trending_date', 'title', 'channel_title', 'category_id',\n",
            "       'publish_time', 'tags', 'views', 'likes', 'dislikes', 'comment_count',\n",
            "       'comments_disabled', 'ratings_disabled', 'video_error_or_removed',\n",
            "       'description'],\n",
            "      dtype='object')\n"
          ],
          "name": "stdout"
        }
      ]
    },
    {
      "cell_type": "code",
      "metadata": {
        "id": "vj6VM_WLEFjy",
        "colab_type": "code",
        "colab": {}
      },
      "source": [
        "# Read json with category_id names and assign the names in new dataframe column \n",
        "\n",
        "import json\n",
        "\n",
        "# open json file with category names\n",
        "with open('US_category_id.json', 'r') as f:\n",
        "  categ_us = json.load(f)\n",
        "\n",
        "categ_dic = {}\n",
        "\n",
        "for k in categ_us['items']:\n",
        "  categ_dic[k['id']]= k['snippet']['title']\n",
        "\n",
        "#print(categ_dic)\n",
        "\n",
        "# Creating new column with category names\n",
        "temp = df.category_id.copy()\n",
        "temp = temp.astype('str')\n",
        "df['category_name'] = temp.map(categ_dic)\n",
        "\n",
        "#print(df.loc[:10, ['category_id', 'category_name']])\n"
      ],
      "execution_count": 0,
      "outputs": []
    },
    {
      "cell_type": "markdown",
      "metadata": {
        "id": "IRQXz9crL12A",
        "colab_type": "text"
      },
      "source": [
        "### Temporal distributions"
      ]
    },
    {
      "cell_type": "code",
      "metadata": {
        "id": "Iy1BrQ0Ly2_H",
        "colab_type": "code",
        "colab": {
          "base_uri": "https://localhost:8080/",
          "height": 380
        },
        "outputId": "3d9bc1aa-2263-4076-c456-31b598ab2b33"
      },
      "source": [
        "# Processing the time feature\n",
        "\n",
        "df.trending_date = pd.to_datetime(df.trending_date, format='%y.%d.%m')\n",
        "\n",
        "year_counts = df.trending_date.dt.year.value_counts()\n",
        "print('Total samples per year:\\n', year_counts) \n",
        "\n",
        "df['year'] = df.trending_date.dt.year\n",
        "df['month'] = df.trending_date.dt.month\n",
        "\n",
        "# Plot distribution of samples per time \n",
        "sns.countplot(data=df, x = 'month', hue='year')\n",
        "plt.title('Distribution of samples per month in each year')\n",
        "plt.legend(['2017', '2018'])\n"
      ],
      "execution_count": 104,
      "outputs": [
        {
          "output_type": "stream",
          "text": [
            "Total samples per year:\n",
            " 2018    31349\n",
            "2017     9600\n",
            "Name: trending_date, dtype: int64\n"
          ],
          "name": "stdout"
        },
        {
          "output_type": "execute_result",
          "data": {
            "text/plain": [
              "<matplotlib.legend.Legend at 0x7f45b3c2efd0>"
            ]
          },
          "metadata": {
            "tags": []
          },
          "execution_count": 104
        },
        {
          "output_type": "display_data",
          "data": {
            "image/png": "[encoded data removed]",
            "text/plain": [
              "<Figure size 432x288 with 1 Axes>"
            ]
          },
          "metadata": {
            "tags": []
          }
        }
      ]
    },
    {
      "cell_type": "code",
      "metadata": {
        "id": "_EuIldy2V5u_",
        "colab_type": "code",
        "colab": {}
      },
      "source": [
        "# Divide per year \n",
        "df_2017 = df[df.trending_date.dt.year == 2017]\n",
        "df_2018 = df[df.trending_date.dt.year == 2018]\n"
      ],
      "execution_count": 0,
      "outputs": []
    },
    {
      "cell_type": "markdown",
      "metadata": {
        "id": "qvVTHVVXhxGC",
        "colab_type": "text"
      },
      "source": [
        "Video popularity rank varies a lot between the months"
      ]
    },
    {
      "cell_type": "code",
      "metadata": {
        "id": "sGAkTWeKfxLl",
        "colab_type": "code",
        "colab": {}
      },
      "source": [
        "# 2017\n",
        "var = 'likes'\n",
        "mon = 12 #11-12"
      ],
      "execution_count": 0,
      "outputs": []
    },
    {
      "cell_type": "code",
      "metadata": {
        "id": "q6G2ai5zdK-o",
        "colab_type": "code",
        "colab": {
          "base_uri": "https://localhost:8080/",
          "height": 390
        },
        "outputId": "321a7695-cdcc-440f-b2c7-74473d872071"
      },
      "source": [
        "df_2017.loc[df.trending_date.dt.month == mon, ['video_id', 'title', var]].groupby(['video_id', 'title']).sum().sort_values(var, ascending = False).head(10)"
      ],
      "execution_count": 107,
      "outputs": [
        {
          "output_type": "execute_result",
          "data": {
            "text/html": [
              "<div>\n",
              "<style scoped>\n",
              "    .dataframe tbody tr th:only-of-type {\n",
              "        vertical-align: middle;\n",
              "    }\n",
              "\n",
              "    .dataframe tbody tr th {\n",
              "        vertical-align: top;\n",
              "    }\n",
              "\n",
              "    .dataframe thead th {\n",
              "        text-align: right;\n",
              "    }\n",
              "</style>\n",
              "<table border=\"1\" class=\"dataframe\">\n",
              "  <thead>\n",
              "    <tr style=\"text-align: right;\">\n",
              "      <th></th>\n",
              "      <th></th>\n",
              "      <th>likes</th>\n",
              "    </tr>\n",
              "    <tr>\n",
              "      <th>video_id</th>\n",
              "      <th>title</th>\n",
              "      <th></th>\n",
              "    </tr>\n",
              "  </thead>\n",
              "  <tbody>\n",
              "    <tr>\n",
              "      <th>6ZfuNTqbHE8</th>\n",
              "      <th>Marvel Studios' Avengers: Infinity War Official Trailer</th>\n",
              "      <td>19819535</td>\n",
              "    </tr>\n",
              "    <tr>\n",
              "      <th>FlsCjmMhFmw</th>\n",
              "      <th>YouTube Rewind: The Shape of 2017 | #YouTubeRewind</th>\n",
              "      <td>19781372</td>\n",
              "    </tr>\n",
              "    <tr>\n",
              "      <th>SM1w9PEQOE8</th>\n",
              "      <th>Demi Lovato - Tell Me You Love Me</th>\n",
              "      <td>8379638</td>\n",
              "    </tr>\n",
              "    <tr>\n",
              "      <th>WS7f5xpGYn8</th>\n",
              "      <th>Katy Perry - Hey Hey Hey (Official)</th>\n",
              "      <td>6776063</td>\n",
              "    </tr>\n",
              "    <tr>\n",
              "      <th>khPLWaBioOs</th>\n",
              "      <th>Logan Paul - SANTA DISS TRACK (Official Music Video)</th>\n",
              "      <td>6354734</td>\n",
              "    </tr>\n",
              "    <tr>\n",
              "      <th>817P8W8-mGE</th>\n",
              "      <th>Ed Sheeran - Perfect Duet (with Beyoncé) [Official Audio]</th>\n",
              "      <td>6047721</td>\n",
              "    </tr>\n",
              "    <tr>\n",
              "      <th>JcdLF6XQ0iw</th>\n",
              "      <th>PANCAKE ART CHALLENGE 4!!! Learn How To Make Mario Odyssey Star Wars Jedi Nintendo Food DIY Pancake</th>\n",
              "      <td>5996526</td>\n",
              "    </tr>\n",
              "    <tr>\n",
              "      <th>eiDiKwbGfIY</th>\n",
              "      <th>Ed Sheeran - Perfect Symphony (with Andrea Bocelli)</th>\n",
              "      <td>5923033</td>\n",
              "    </tr>\n",
              "    <tr>\n",
              "      <th>l_lblj8Cq0o</th>\n",
              "      <th>G-Eazy - No Limit REMIX ft. A$AP Rocky, Cardi B, French Montana, Juicy J, Belly</th>\n",
              "      <td>5520912</td>\n",
              "    </tr>\n",
              "    <tr>\n",
              "      <th>rRzxEiBLQCA</th>\n",
              "      <th>TWICE Heart Shaker M/V</th>\n",
              "      <td>5202033</td>\n",
              "    </tr>\n",
              "  </tbody>\n",
              "</table>\n",
              "</div>"
            ],
            "text/plain": [
              "                                                                   likes\n",
              "video_id    title                                                       \n",
              "6ZfuNTqbHE8 Marvel Studios' Avengers: Infinity War Official...  19819535\n",
              "FlsCjmMhFmw YouTube Rewind: The Shape of 2017 | #YouTubeRewind  19781372\n",
              "SM1w9PEQOE8 Demi Lovato - Tell Me You Love Me                    8379638\n",
              "WS7f5xpGYn8 Katy Perry - Hey Hey Hey (Official)                  6776063\n",
              "khPLWaBioOs Logan Paul - SANTA DISS TRACK (Official Music V...   6354734\n",
              "817P8W8-mGE Ed Sheeran - Perfect Duet (with Beyoncé) [Offic...   6047721\n",
              "JcdLF6XQ0iw PANCAKE ART CHALLENGE 4!!! Learn How To Make Ma...   5996526\n",
              "eiDiKwbGfIY Ed Sheeran - Perfect Symphony (with Andrea Boce...   5923033\n",
              "l_lblj8Cq0o G-Eazy - No Limit REMIX ft. A$AP Rocky, Cardi B...   5520912\n",
              "rRzxEiBLQCA TWICE Heart Shaker M/V                               5202033"
            ]
          },
          "metadata": {
            "tags": []
          },
          "execution_count": 107
        }
      ]
    },
    {
      "cell_type": "code",
      "metadata": {
        "id": "LYF2U5_ygfYB",
        "colab_type": "code",
        "colab": {}
      },
      "source": [
        "# 2018\n",
        "var = 'likes'\n",
        "mon = 1 # 1-6"
      ],
      "execution_count": 0,
      "outputs": []
    },
    {
      "cell_type": "code",
      "metadata": {
        "id": "JrxRtXWieQ1w",
        "colab_type": "code",
        "colab": {}
      },
      "source": [
        "temp = df_2018.loc[df.trending_date.dt.month == mon, ['video_id', 'title', var]].groupby(['video_id', 'title']).sum().sort_values(var, ascending = False)[:10]"
      ],
      "execution_count": 0,
      "outputs": []
    },
    {
      "cell_type": "code",
      "metadata": {
        "id": "CQcdF2KbtnHU",
        "colab_type": "code",
        "colab": {
          "base_uri": "https://localhost:8080/",
          "height": 359
        },
        "outputId": "e045f18e-5beb-455e-8384-ac8b21d921e4"
      },
      "source": [
        "temp.reset_index(inplace=True)\n",
        "temp"
      ],
      "execution_count": 129,
      "outputs": [
        {
          "output_type": "execute_result",
          "data": {
            "text/html": [
              "<div>\n",
              "<style scoped>\n",
              "    .dataframe tbody tr th:only-of-type {\n",
              "        vertical-align: middle;\n",
              "    }\n",
              "\n",
              "    .dataframe tbody tr th {\n",
              "        vertical-align: top;\n",
              "    }\n",
              "\n",
              "    .dataframe thead th {\n",
              "        text-align: right;\n",
              "    }\n",
              "</style>\n",
              "<table border=\"1\" class=\"dataframe\">\n",
              "  <thead>\n",
              "    <tr style=\"text-align: right;\">\n",
              "      <th></th>\n",
              "      <th>video_id</th>\n",
              "      <th>title</th>\n",
              "      <th>likes</th>\n",
              "    </tr>\n",
              "  </thead>\n",
              "  <tbody>\n",
              "    <tr>\n",
              "      <th>0</th>\n",
              "      <td>oWjxSkJpxFU</td>\n",
              "      <td>Suicide: Be Here Tomorrow.</td>\n",
              "      <td>12282280</td>\n",
              "    </tr>\n",
              "    <tr>\n",
              "      <th>1</th>\n",
              "      <td>dfnCAmr569k</td>\n",
              "      <td>Taylor Swift - End Game ft. Ed Sheeran, Future</td>\n",
              "      <td>11127424</td>\n",
              "    </tr>\n",
              "    <tr>\n",
              "      <th>2</th>\n",
              "      <td>LsoLEjrDogU</td>\n",
              "      <td>Bruno Mars - Finesse (Remix) [Feat. Cardi B] [...</td>\n",
              "      <td>9188754</td>\n",
              "    </tr>\n",
              "    <tr>\n",
              "      <th>3</th>\n",
              "      <td>QwZT7T-TXT0</td>\n",
              "      <td>So Sorry.</td>\n",
              "      <td>8495733</td>\n",
              "    </tr>\n",
              "    <tr>\n",
              "      <th>4</th>\n",
              "      <td>Mgfe5tIwOj0</td>\n",
              "      <td>Dua Lipa - IDGAF (Official Music Video)</td>\n",
              "      <td>6866042</td>\n",
              "    </tr>\n",
              "    <tr>\n",
              "      <th>5</th>\n",
              "      <td>VRJmcxCrAOA</td>\n",
              "      <td>Real Life Trick Shots 2 | Dude Perfect</td>\n",
              "      <td>6206553</td>\n",
              "    </tr>\n",
              "    <tr>\n",
              "      <th>6</th>\n",
              "      <td>J41qe-TM1DY</td>\n",
              "      <td>JONGHYUN 종현 '빛이 나 (Shinin’)' MV</td>\n",
              "      <td>5722350</td>\n",
              "    </tr>\n",
              "    <tr>\n",
              "      <th>7</th>\n",
              "      <td>eACohWVwTOc</td>\n",
              "      <td>The Chainsmokers - Sick Boy</td>\n",
              "      <td>3030806</td>\n",
              "    </tr>\n",
              "    <tr>\n",
              "      <th>8</th>\n",
              "      <td>k5TqNsr6YuQ</td>\n",
              "      <td>Troye Sivan - My My My!</td>\n",
              "      <td>2965742</td>\n",
              "    </tr>\n",
              "    <tr>\n",
              "      <th>9</th>\n",
              "      <td>ryr75N0nki0</td>\n",
              "      <td>Eminem - Walk On Water (Official Video) ft. Be...</td>\n",
              "      <td>2646590</td>\n",
              "    </tr>\n",
              "  </tbody>\n",
              "</table>\n",
              "</div>"
            ],
            "text/plain": [
              "      video_id                                              title     likes\n",
              "0  oWjxSkJpxFU                         Suicide: Be Here Tomorrow.  12282280\n",
              "1  dfnCAmr569k     Taylor Swift - End Game ft. Ed Sheeran, Future  11127424\n",
              "2  LsoLEjrDogU  Bruno Mars - Finesse (Remix) [Feat. Cardi B] [...   9188754\n",
              "3  QwZT7T-TXT0                                          So Sorry.   8495733\n",
              "4  Mgfe5tIwOj0            Dua Lipa - IDGAF (Official Music Video)   6866042\n",
              "5  VRJmcxCrAOA             Real Life Trick Shots 2 | Dude Perfect   6206553\n",
              "6  J41qe-TM1DY                    JONGHYUN 종현 '빛이 나 (Shinin’)' MV   5722350\n",
              "7  eACohWVwTOc                        The Chainsmokers - Sick Boy   3030806\n",
              "8  k5TqNsr6YuQ                            Troye Sivan - My My My!   2965742\n",
              "9  ryr75N0nki0  Eminem - Walk On Water (Official Video) ft. Be...   2646590"
            ]
          },
          "metadata": {
            "tags": []
          },
          "execution_count": 129
        }
      ]
    },
    {
      "cell_type": "code",
      "metadata": {
        "id": "YUAGbn47tb3S",
        "colab_type": "code",
        "colab": {
          "base_uri": "https://localhost:8080/",
          "height": 244
        },
        "outputId": "00b4d200-dbfd-4e11-d6a0-e68607189c34"
      },
      "source": [
        "\n",
        "import matplotlib.patches as mpatches\n",
        "\n",
        "labels = temp.title\n",
        "\n",
        "\n",
        "fig, ax = plt.subplots()\n",
        "ax = sns.barplot(data=temp,x='title',y='likes',ax=ax)\n",
        "ax.set_xticklabels('')\n",
        "\n",
        "leg_handles = []\n",
        "for label,artist in zip(labels,ax.artists):\n",
        "    handle = mpatches.Patch(facecolor=artist.get_facecolor(),label=label)\n",
        "    leg_handles.append(handle)\n",
        "\n",
        "ax.legend(handles=leg_handles,bbox_to_anchor=(0., 1.02, 1., .102), loc=3, ncol=1, mode=\"expand\", borderaxespad=0.)\n",
        "fig.subplots_adjust(top=0.75)"
      ],
      "execution_count": 133,
      "outputs": [
        {
          "output_type": "display_data",
          "data": {
            "image/png": "[encoded data removed]",
            "text/plain": [
              "<Figure size 432x288 with 1 Axes>"
            ]
          },
          "metadata": {
            "tags": []
          }
        }
      ]
    },
    {
      "cell_type": "code",
      "metadata": {
        "id": "jYn12AuOueye",
        "colab_type": "code",
        "colab": {
          "base_uri": "https://localhost:8080/",
          "height": 669
        },
        "outputId": "6852b9a6-ba0e-4709-9624-a751e9594dba"
      },
      "source": [
        "temp.melt(id_vars='title')"
      ],
      "execution_count": 132,
      "outputs": [
        {
          "output_type": "execute_result",
          "data": {
            "text/html": [
              "<div>\n",
              "<style scoped>\n",
              "    .dataframe tbody tr th:only-of-type {\n",
              "        vertical-align: middle;\n",
              "    }\n",
              "\n",
              "    .dataframe tbody tr th {\n",
              "        vertical-align: top;\n",
              "    }\n",
              "\n",
              "    .dataframe thead th {\n",
              "        text-align: right;\n",
              "    }\n",
              "</style>\n",
              "<table border=\"1\" class=\"dataframe\">\n",
              "  <thead>\n",
              "    <tr style=\"text-align: right;\">\n",
              "      <th></th>\n",
              "      <th>title</th>\n",
              "      <th>variable</th>\n",
              "      <th>value</th>\n",
              "    </tr>\n",
              "  </thead>\n",
              "  <tbody>\n",
              "    <tr>\n",
              "      <th>0</th>\n",
              "      <td>Suicide: Be Here Tomorrow.</td>\n",
              "      <td>video_id</td>\n",
              "      <td>oWjxSkJpxFU</td>\n",
              "    </tr>\n",
              "    <tr>\n",
              "      <th>1</th>\n",
              "      <td>Taylor Swift - End Game ft. Ed Sheeran, Future</td>\n",
              "      <td>video_id</td>\n",
              "      <td>dfnCAmr569k</td>\n",
              "    </tr>\n",
              "    <tr>\n",
              "      <th>2</th>\n",
              "      <td>Bruno Mars - Finesse (Remix) [Feat. Cardi B] [...</td>\n",
              "      <td>video_id</td>\n",
              "      <td>LsoLEjrDogU</td>\n",
              "    </tr>\n",
              "    <tr>\n",
              "      <th>3</th>\n",
              "      <td>So Sorry.</td>\n",
              "      <td>video_id</td>\n",
              "      <td>QwZT7T-TXT0</td>\n",
              "    </tr>\n",
              "    <tr>\n",
              "      <th>4</th>\n",
              "      <td>Dua Lipa - IDGAF (Official Music Video)</td>\n",
              "      <td>video_id</td>\n",
              "      <td>Mgfe5tIwOj0</td>\n",
              "    </tr>\n",
              "    <tr>\n",
              "      <th>5</th>\n",
              "      <td>Real Life Trick Shots 2 | Dude Perfect</td>\n",
              "      <td>video_id</td>\n",
              "      <td>VRJmcxCrAOA</td>\n",
              "    </tr>\n",
              "    <tr>\n",
              "      <th>6</th>\n",
              "      <td>JONGHYUN 종현 '빛이 나 (Shinin’)' MV</td>\n",
              "      <td>video_id</td>\n",
              "      <td>J41qe-TM1DY</td>\n",
              "    </tr>\n",
              "    <tr>\n",
              "      <th>7</th>\n",
              "      <td>The Chainsmokers - Sick Boy</td>\n",
              "      <td>video_id</td>\n",
              "      <td>eACohWVwTOc</td>\n",
              "    </tr>\n",
              "    <tr>\n",
              "      <th>8</th>\n",
              "      <td>Troye Sivan - My My My!</td>\n",
              "      <td>video_id</td>\n",
              "      <td>k5TqNsr6YuQ</td>\n",
              "    </tr>\n",
              "    <tr>\n",
              "      <th>9</th>\n",
              "      <td>Eminem - Walk On Water (Official Video) ft. Be...</td>\n",
              "      <td>video_id</td>\n",
              "      <td>ryr75N0nki0</td>\n",
              "    </tr>\n",
              "    <tr>\n",
              "      <th>10</th>\n",
              "      <td>Suicide: Be Here Tomorrow.</td>\n",
              "      <td>likes</td>\n",
              "      <td>12282280</td>\n",
              "    </tr>\n",
              "    <tr>\n",
              "      <th>11</th>\n",
              "      <td>Taylor Swift - End Game ft. Ed Sheeran, Future</td>\n",
              "      <td>likes</td>\n",
              "      <td>11127424</td>\n",
              "    </tr>\n",
              "    <tr>\n",
              "      <th>12</th>\n",
              "      <td>Bruno Mars - Finesse (Remix) [Feat. Cardi B] [...</td>\n",
              "      <td>likes</td>\n",
              "      <td>9188754</td>\n",
              "    </tr>\n",
              "    <tr>\n",
              "      <th>13</th>\n",
              "      <td>So Sorry.</td>\n",
              "      <td>likes</td>\n",
              "      <td>8495733</td>\n",
              "    </tr>\n",
              "    <tr>\n",
              "      <th>14</th>\n",
              "      <td>Dua Lipa - IDGAF (Official Music Video)</td>\n",
              "      <td>likes</td>\n",
              "      <td>6866042</td>\n",
              "    </tr>\n",
              "    <tr>\n",
              "      <th>15</th>\n",
              "      <td>Real Life Trick Shots 2 | Dude Perfect</td>\n",
              "      <td>likes</td>\n",
              "      <td>6206553</td>\n",
              "    </tr>\n",
              "    <tr>\n",
              "      <th>16</th>\n",
              "      <td>JONGHYUN 종현 '빛이 나 (Shinin’)' MV</td>\n",
              "      <td>likes</td>\n",
              "      <td>5722350</td>\n",
              "    </tr>\n",
              "    <tr>\n",
              "      <th>17</th>\n",
              "      <td>The Chainsmokers - Sick Boy</td>\n",
              "      <td>likes</td>\n",
              "      <td>3030806</td>\n",
              "    </tr>\n",
              "    <tr>\n",
              "      <th>18</th>\n",
              "      <td>Troye Sivan - My My My!</td>\n",
              "      <td>likes</td>\n",
              "      <td>2965742</td>\n",
              "    </tr>\n",
              "    <tr>\n",
              "      <th>19</th>\n",
              "      <td>Eminem - Walk On Water (Official Video) ft. Be...</td>\n",
              "      <td>likes</td>\n",
              "      <td>2646590</td>\n",
              "    </tr>\n",
              "  </tbody>\n",
              "</table>\n",
              "</div>"
            ],
            "text/plain": [
              "                                                title  variable        value\n",
              "0                          Suicide: Be Here Tomorrow.  video_id  oWjxSkJpxFU\n",
              "1      Taylor Swift - End Game ft. Ed Sheeran, Future  video_id  dfnCAmr569k\n",
              "2   Bruno Mars - Finesse (Remix) [Feat. Cardi B] [...  video_id  LsoLEjrDogU\n",
              "3                                           So Sorry.  video_id  QwZT7T-TXT0\n",
              "4             Dua Lipa - IDGAF (Official Music Video)  video_id  Mgfe5tIwOj0\n",
              "5              Real Life Trick Shots 2 | Dude Perfect  video_id  VRJmcxCrAOA\n",
              "6                     JONGHYUN 종현 '빛이 나 (Shinin’)' MV  video_id  J41qe-TM1DY\n",
              "7                         The Chainsmokers - Sick Boy  video_id  eACohWVwTOc\n",
              "8                             Troye Sivan - My My My!  video_id  k5TqNsr6YuQ\n",
              "9   Eminem - Walk On Water (Official Video) ft. Be...  video_id  ryr75N0nki0\n",
              "10                         Suicide: Be Here Tomorrow.     likes     12282280\n",
              "11     Taylor Swift - End Game ft. Ed Sheeran, Future     likes     11127424\n",
              "12  Bruno Mars - Finesse (Remix) [Feat. Cardi B] [...     likes      9188754\n",
              "13                                          So Sorry.     likes      8495733\n",
              "14            Dua Lipa - IDGAF (Official Music Video)     likes      6866042\n",
              "15             Real Life Trick Shots 2 | Dude Perfect     likes      6206553\n",
              "16                    JONGHYUN 종현 '빛이 나 (Shinin’)' MV     likes      5722350\n",
              "17                        The Chainsmokers - Sick Boy     likes      3030806\n",
              "18                            Troye Sivan - My My My!     likes      2965742\n",
              "19  Eminem - Walk On Water (Official Video) ft. Be...     likes      2646590"
            ]
          },
          "metadata": {
            "tags": []
          },
          "execution_count": 132
        }
      ]
    },
    {
      "cell_type": "code",
      "metadata": {
        "id": "8eLtEAsUouX-",
        "colab_type": "code",
        "colab": {
          "base_uri": "https://localhost:8080/",
          "height": 651
        },
        "outputId": "46839045-30b2-4991-caca-3b6a3a5a7890"
      },
      "source": [
        "temp.reset_index(inplace=True)\n",
        "sns.barplot(x='title', y = var, data=temp)\n",
        "plt.legend(temp.title)"
      ],
      "execution_count": 125,
      "outputs": [
        {
          "output_type": "execute_result",
          "data": {
            "text/plain": [
              "<matplotlib.legend.Legend at 0x7f45ac583048>"
            ]
          },
          "metadata": {
            "tags": []
          },
          "execution_count": 125
        },
        {
          "output_type": "stream",
          "text": [
            "/usr/local/lib/python3.6/dist-packages/matplotlib/backends/backend_agg.py:211: RuntimeWarning: Glyph 51333 missing from current font.\n",
            "  font.set_text(s, 0.0, flags=flags)\n",
            "/usr/local/lib/python3.6/dist-packages/matplotlib/backends/backend_agg.py:211: RuntimeWarning: Glyph 54788 missing from current font.\n",
            "  font.set_text(s, 0.0, flags=flags)\n",
            "/usr/local/lib/python3.6/dist-packages/matplotlib/backends/backend_agg.py:211: RuntimeWarning: Glyph 48731 missing from current font.\n",
            "  font.set_text(s, 0.0, flags=flags)\n",
            "/usr/local/lib/python3.6/dist-packages/matplotlib/backends/backend_agg.py:211: RuntimeWarning: Glyph 51060 missing from current font.\n",
            "  font.set_text(s, 0.0, flags=flags)\n",
            "/usr/local/lib/python3.6/dist-packages/matplotlib/backends/backend_agg.py:211: RuntimeWarning: Glyph 45208 missing from current font.\n",
            "  font.set_text(s, 0.0, flags=flags)\n",
            "/usr/local/lib/python3.6/dist-packages/matplotlib/backends/backend_agg.py:180: RuntimeWarning: Glyph 51333 missing from current font.\n",
            "  font.set_text(s, 0, flags=flags)\n",
            "/usr/local/lib/python3.6/dist-packages/matplotlib/backends/backend_agg.py:180: RuntimeWarning: Glyph 54788 missing from current font.\n",
            "  font.set_text(s, 0, flags=flags)\n",
            "/usr/local/lib/python3.6/dist-packages/matplotlib/backends/backend_agg.py:180: RuntimeWarning: Glyph 48731 missing from current font.\n",
            "  font.set_text(s, 0, flags=flags)\n",
            "/usr/local/lib/python3.6/dist-packages/matplotlib/backends/backend_agg.py:180: RuntimeWarning: Glyph 51060 missing from current font.\n",
            "  font.set_text(s, 0, flags=flags)\n",
            "/usr/local/lib/python3.6/dist-packages/matplotlib/backends/backend_agg.py:180: RuntimeWarning: Glyph 45208 missing from current font.\n",
            "  font.set_text(s, 0, flags=flags)\n"
          ],
          "name": "stderr"
        },
        {
          "output_type": "display_data",
          "data": {
            "image/png": "[encoded data removed]",
            "text/plain": [
              "<Figure size 432x288 with 1 Axes>"
            ]
          },
          "metadata": {
            "tags": []
          }
        }
      ]
    }
  ]
}