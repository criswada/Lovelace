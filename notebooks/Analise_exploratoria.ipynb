{
  "nbformat": 4,
  "nbformat_minor": 0,
  "metadata": {
    "colab": {
      "name": "Analise_exploratoria.ipynb",
      "provenance": [],
      "collapsed_sections": []
    },
    "kernelspec": {
      "name": "python3",
      "display_name": "Python 3"
    }
  },
  "cells": [
    {
      "cell_type": "code",
      "metadata": {
        "id": "ucw1qhvdOpuB",
        "colab_type": "code",
        "colab": {}
      },
      "source": [
        "import pandas as pd\n",
        "import numpy as np\n",
        "import matplotlib.pyplot as plt\n",
        "import seaborn as sns\n",
        "import json\n"
      ],
      "execution_count": 0,
      "outputs": []
    },
    {
      "cell_type": "markdown",
      "metadata": {
        "id": "ypKuVP4rd_99",
        "colab_type": "text"
      },
      "source": [
        "## Pre-processamento"
      ]
    },
    {
      "cell_type": "code",
      "metadata": {
        "id": "VNGPkX3tQL-U",
        "colab_type": "code",
        "colab": {}
      },
      "source": [
        "df = pd.read_csv('USvideos.csv')"
      ],
      "execution_count": 0,
      "outputs": []
    },
    {
      "cell_type": "code",
      "metadata": {
        "id": "oyJcQ7EoQL8W",
        "colab_type": "code",
        "outputId": "36e5fc21-b5c7-4eeb-b6f6-39e97790c8b1",
        "colab": {
          "base_uri": "https://localhost:8080/",
          "height": 102
        }
      },
      "source": [
        "df.columns"
      ],
      "execution_count": 7,
      "outputs": [
        {
          "output_type": "execute_result",
          "data": {
            "text/plain": [
              "Index(['video_id', 'trending_date', 'title', 'channel_title', 'category_id',\n",
              "       'publish_time', 'tags', 'views', 'likes', 'dislikes', 'comment_count',\n",
              "       'thumbnail_link', 'comments_disabled', 'ratings_disabled',\n",
              "       'video_error_or_removed', 'description'],\n",
              "      dtype='object')"
            ]
          },
          "metadata": {
            "tags": []
          },
          "execution_count": 7
        }
      ]
    },
    {
      "cell_type": "code",
      "metadata": {
        "id": "ap-LfoN3QL6E",
        "colab_type": "code",
        "outputId": "5a55adfd-782b-4198-bb89-e2b11fb45b78",
        "colab": {
          "base_uri": "https://localhost:8080/",
          "height": 374
        }
      },
      "source": [
        "df.info()"
      ],
      "execution_count": 8,
      "outputs": [
        {
          "output_type": "stream",
          "text": [
            "<class 'pandas.core.frame.DataFrame'>\n",
            "RangeIndex: 40949 entries, 0 to 40948\n",
            "Data columns (total 16 columns):\n",
            "video_id                  40949 non-null object\n",
            "trending_date             40949 non-null object\n",
            "title                     40949 non-null object\n",
            "channel_title             40949 non-null object\n",
            "category_id               40949 non-null int64\n",
            "publish_time              40949 non-null object\n",
            "tags                      40949 non-null object\n",
            "views                     40949 non-null int64\n",
            "likes                     40949 non-null int64\n",
            "dislikes                  40949 non-null int64\n",
            "comment_count             40949 non-null int64\n",
            "thumbnail_link            40949 non-null object\n",
            "comments_disabled         40949 non-null bool\n",
            "ratings_disabled          40949 non-null bool\n",
            "video_error_or_removed    40949 non-null bool\n",
            "description               40379 non-null object\n",
            "dtypes: bool(3), int64(5), object(8)\n",
            "memory usage: 4.2+ MB\n"
          ],
          "name": "stdout"
        }
      ]
    },
    {
      "cell_type": "code",
      "metadata": {
        "id": "l9LllmFYQL1-",
        "colab_type": "code",
        "outputId": "13b39ae5-0f12-4045-9451-6a87b453ec7f",
        "colab": {
          "base_uri": "https://localhost:8080/",
          "height": 297
        }
      },
      "source": [
        "df.describe()"
      ],
      "execution_count": 9,
      "outputs": [
        {
          "output_type": "execute_result",
          "data": {
            "text/html": [
              "<div>\n",
              "<style scoped>\n",
              "    .dataframe tbody tr th:only-of-type {\n",
              "        vertical-align: middle;\n",
              "    }\n",
              "\n",
              "    .dataframe tbody tr th {\n",
              "        vertical-align: top;\n",
              "    }\n",
              "\n",
              "    .dataframe thead th {\n",
              "        text-align: right;\n",
              "    }\n",
              "</style>\n",
              "<table border=\"1\" class=\"dataframe\">\n",
              "  <thead>\n",
              "    <tr style=\"text-align: right;\">\n",
              "      <th></th>\n",
              "      <th>category_id</th>\n",
              "      <th>views</th>\n",
              "      <th>likes</th>\n",
              "      <th>dislikes</th>\n",
              "      <th>comment_count</th>\n",
              "    </tr>\n",
              "  </thead>\n",
              "  <tbody>\n",
              "    <tr>\n",
              "      <th>count</th>\n",
              "      <td>40949.000000</td>\n",
              "      <td>4.094900e+04</td>\n",
              "      <td>4.094900e+04</td>\n",
              "      <td>4.094900e+04</td>\n",
              "      <td>4.094900e+04</td>\n",
              "    </tr>\n",
              "    <tr>\n",
              "      <th>mean</th>\n",
              "      <td>19.972429</td>\n",
              "      <td>2.360785e+06</td>\n",
              "      <td>7.426670e+04</td>\n",
              "      <td>3.711401e+03</td>\n",
              "      <td>8.446804e+03</td>\n",
              "    </tr>\n",
              "    <tr>\n",
              "      <th>std</th>\n",
              "      <td>7.568327</td>\n",
              "      <td>7.394114e+06</td>\n",
              "      <td>2.288853e+05</td>\n",
              "      <td>2.902971e+04</td>\n",
              "      <td>3.743049e+04</td>\n",
              "    </tr>\n",
              "    <tr>\n",
              "      <th>min</th>\n",
              "      <td>1.000000</td>\n",
              "      <td>5.490000e+02</td>\n",
              "      <td>0.000000e+00</td>\n",
              "      <td>0.000000e+00</td>\n",
              "      <td>0.000000e+00</td>\n",
              "    </tr>\n",
              "    <tr>\n",
              "      <th>25%</th>\n",
              "      <td>17.000000</td>\n",
              "      <td>2.423290e+05</td>\n",
              "      <td>5.424000e+03</td>\n",
              "      <td>2.020000e+02</td>\n",
              "      <td>6.140000e+02</td>\n",
              "    </tr>\n",
              "    <tr>\n",
              "      <th>50%</th>\n",
              "      <td>24.000000</td>\n",
              "      <td>6.818610e+05</td>\n",
              "      <td>1.809100e+04</td>\n",
              "      <td>6.310000e+02</td>\n",
              "      <td>1.856000e+03</td>\n",
              "    </tr>\n",
              "    <tr>\n",
              "      <th>75%</th>\n",
              "      <td>25.000000</td>\n",
              "      <td>1.823157e+06</td>\n",
              "      <td>5.541700e+04</td>\n",
              "      <td>1.938000e+03</td>\n",
              "      <td>5.755000e+03</td>\n",
              "    </tr>\n",
              "    <tr>\n",
              "      <th>max</th>\n",
              "      <td>43.000000</td>\n",
              "      <td>2.252119e+08</td>\n",
              "      <td>5.613827e+06</td>\n",
              "      <td>1.674420e+06</td>\n",
              "      <td>1.361580e+06</td>\n",
              "    </tr>\n",
              "  </tbody>\n",
              "</table>\n",
              "</div>"
            ],
            "text/plain": [
              "        category_id         views         likes      dislikes  comment_count\n",
              "count  40949.000000  4.094900e+04  4.094900e+04  4.094900e+04   4.094900e+04\n",
              "mean      19.972429  2.360785e+06  7.426670e+04  3.711401e+03   8.446804e+03\n",
              "std        7.568327  7.394114e+06  2.288853e+05  2.902971e+04   3.743049e+04\n",
              "min        1.000000  5.490000e+02  0.000000e+00  0.000000e+00   0.000000e+00\n",
              "25%       17.000000  2.423290e+05  5.424000e+03  2.020000e+02   6.140000e+02\n",
              "50%       24.000000  6.818610e+05  1.809100e+04  6.310000e+02   1.856000e+03\n",
              "75%       25.000000  1.823157e+06  5.541700e+04  1.938000e+03   5.755000e+03\n",
              "max       43.000000  2.252119e+08  5.613827e+06  1.674420e+06   1.361580e+06"
            ]
          },
          "metadata": {
            "tags": []
          },
          "execution_count": 9
        }
      ]
    },
    {
      "cell_type": "code",
      "metadata": {
        "id": "1mat3L2Hw7Np",
        "colab_type": "code",
        "colab": {}
      },
      "source": [
        "def count_unique(x):\n",
        "  for col in x.columns:\n",
        "    print(f'{col}: {x[col].nunique()}')"
      ],
      "execution_count": 0,
      "outputs": []
    },
    {
      "cell_type": "code",
      "metadata": {
        "id": "xYjtdM43w7MN",
        "colab_type": "code",
        "outputId": "78074f8d-8e56-4de7-bd57-c03f799f4200",
        "colab": {
          "base_uri": "https://localhost:8080/",
          "height": 289
        }
      },
      "source": [
        "count_unique(df)"
      ],
      "execution_count": 11,
      "outputs": [
        {
          "output_type": "stream",
          "text": [
            "video_id: 6351\n",
            "trending_date: 205\n",
            "title: 6455\n",
            "channel_title: 2207\n",
            "category_id: 16\n",
            "publish_time: 6269\n",
            "tags: 6055\n",
            "views: 40478\n",
            "likes: 29850\n",
            "dislikes: 8516\n",
            "comment_count: 13773\n",
            "thumbnail_link: 6352\n",
            "comments_disabled: 2\n",
            "ratings_disabled: 2\n",
            "video_error_or_removed: 2\n",
            "description: 6901\n"
          ],
          "name": "stdout"
        }
      ]
    },
    {
      "cell_type": "code",
      "metadata": {
        "id": "teqfwKNHBXEm",
        "colab_type": "code",
        "outputId": "72e35c89-3cdd-43d0-f3c8-e96cea48faa8",
        "colab": {
          "base_uri": "https://localhost:8080/",
          "height": 102
        }
      },
      "source": [
        "# Drop columns with no important information in our analysis:\n",
        "#thumbnail_link: link to small image which identify the video in the search results\n",
        "\n",
        "df.drop(columns='thumbnail_link', inplace=True)\n",
        "print(df.columns)"
      ],
      "execution_count": 12,
      "outputs": [
        {
          "output_type": "stream",
          "text": [
            "Index(['video_id', 'trending_date', 'title', 'channel_title', 'category_id',\n",
            "       'publish_time', 'tags', 'views', 'likes', 'dislikes', 'comment_count',\n",
            "       'comments_disabled', 'ratings_disabled', 'video_error_or_removed',\n",
            "       'description'],\n",
            "      dtype='object')\n"
          ],
          "name": "stdout"
        }
      ]
    },
    {
      "cell_type": "code",
      "metadata": {
        "id": "vj6VM_WLEFjy",
        "colab_type": "code",
        "colab": {}
      },
      "source": [
        "# Read json with category_id names and assign the names in new dataframe column \n",
        "\n",
        "import json\n",
        "\n",
        "# open json file with category names\n",
        "with open('US_category_id.json', 'r') as f:\n",
        "  categ_us = json.load(f)\n",
        "\n",
        "categ_dic = {}\n",
        "\n",
        "for k in categ_us['items']:\n",
        "  categ_dic[k['id']]= k['snippet']['title']\n",
        "\n",
        "#print(categ_dic)\n",
        "\n",
        "# Creating new column with category names\n",
        "temp = df.category_id.copy()\n",
        "temp = temp.astype('str')\n",
        "df['category_name'] = temp.map(categ_dic)\n",
        "\n",
        "#print(df.loc[:10, ['category_id', 'category_name']])\n"
      ],
      "execution_count": 0,
      "outputs": []
    },
    {
      "cell_type": "markdown",
      "metadata": {
        "id": "IRQXz9crL12A",
        "colab_type": "text"
      },
      "source": [
        "### Temporal distributions"
      ]
    },
    {
      "cell_type": "code",
      "metadata": {
        "id": "Iy1BrQ0Ly2_H",
        "colab_type": "code",
        "colab": {
          "base_uri": "https://localhost:8080/",
          "height": 380
        },
        "outputId": "ce22895b-4c05-45a2-e571-0f1a45637d9c"
      },
      "source": [
        "# Processing the time feature\n",
        "\n",
        "df.trending_date = pd.to_datetime(df.trending_date, format='%y.%d.%m')\n",
        "\n",
        "year_counts = df.trending_date.dt.year.value_counts()\n",
        "print('Total samples per year:\\n', year_counts) \n",
        "\n",
        "df['year'] = df.trending_date.dt.year\n",
        "df['month'] = df.trending_date.dt.month\n",
        "\n",
        "# Plot distribution of samples per time \n",
        "sns.countplot(data=df, x = 'month', hue='year')\n",
        "plt.title('Distribution of samples per month in each year')\n",
        "plt.legend(['2017', '2018'])\n"
      ],
      "execution_count": 36,
      "outputs": [
        {
          "output_type": "stream",
          "text": [
            "Total samples per year:\n",
            " 2018    31349\n",
            "2017     9600\n",
            "Name: trending_date, dtype: int64\n"
          ],
          "name": "stdout"
        },
        {
          "output_type": "execute_result",
          "data": {
            "text/plain": [
              "<matplotlib.legend.Legend at 0x7f45b31a1160>"
            ]
          },
          "metadata": {
            "tags": []
          },
          "execution_count": 36
        },
        {
          "output_type": "display_data",
          "data": {
            "image/png": "[encoded data removed]",
            "text/plain": [
              "<Figure size 432x288 with 1 Axes>"
            ]
          },
          "metadata": {
            "tags": []
          }
        }
      ]
    },
    {
      "cell_type": "code",
      "metadata": {
        "id": "_EuIldy2V5u_",
        "colab_type": "code",
        "colab": {}
      },
      "source": [
        "# Divide per year \n",
        "df_2017 = df[df.trending_date.dt.year == 2017]\n",
        "df_2018 = df[df.trending_date.dt.year == 2018]\n"
      ],
      "execution_count": 0,
      "outputs": []
    },
    {
      "cell_type": "markdown",
      "metadata": {
        "id": "qvVTHVVXhxGC",
        "colab_type": "text"
      },
      "source": [
        "Video popularity rank varies a lot between the months"
      ]
    },
    {
      "cell_type": "code",
      "metadata": {
        "id": "sGAkTWeKfxLl",
        "colab_type": "code",
        "colab": {}
      },
      "source": [
        "# 2017\n",
        "var = 'likes'\n",
        "mon = 12 #11-12"
      ],
      "execution_count": 0,
      "outputs": []
    },
    {
      "cell_type": "code",
      "metadata": {
        "id": "q6G2ai5zdK-o",
        "colab_type": "code",
        "colab": {
          "base_uri": "https://localhost:8080/",
          "height": 390
        },
        "outputId": "ee12b0c7-3321-4cef-bc1a-6ec35b361e5e"
      },
      "source": [
        "df_2017.loc[df.trending_date.dt.month == mon, ['video_id', 'title', var]].groupby(['video_id', 'title']).sum().sort_values(var, ascending = False).head(10)"
      ],
      "execution_count": 78,
      "outputs": [
        {
          "output_type": "execute_result",
          "data": {
            "text/html": [
              "<div>\n",
              "<style scoped>\n",
              "    .dataframe tbody tr th:only-of-type {\n",
              "        vertical-align: middle;\n",
              "    }\n",
              "\n",
              "    .dataframe tbody tr th {\n",
              "        vertical-align: top;\n",
              "    }\n",
              "\n",
              "    .dataframe thead th {\n",
              "        text-align: right;\n",
              "    }\n",
              "</style>\n",
              "<table border=\"1\" class=\"dataframe\">\n",
              "  <thead>\n",
              "    <tr style=\"text-align: right;\">\n",
              "      <th></th>\n",
              "      <th></th>\n",
              "      <th>likes</th>\n",
              "    </tr>\n",
              "    <tr>\n",
              "      <th>video_id</th>\n",
              "      <th>title</th>\n",
              "      <th></th>\n",
              "    </tr>\n",
              "  </thead>\n",
              "  <tbody>\n",
              "    <tr>\n",
              "      <th>6ZfuNTqbHE8</th>\n",
              "      <th>Marvel Studios' Avengers: Infinity War Official Trailer</th>\n",
              "      <td>19819535</td>\n",
              "    </tr>\n",
              "    <tr>\n",
              "      <th>FlsCjmMhFmw</th>\n",
              "      <th>YouTube Rewind: The Shape of 2017 | #YouTubeRewind</th>\n",
              "      <td>19781372</td>\n",
              "    </tr>\n",
              "    <tr>\n",
              "      <th>SM1w9PEQOE8</th>\n",
              "      <th>Demi Lovato - Tell Me You Love Me</th>\n",
              "      <td>8379638</td>\n",
              "    </tr>\n",
              "    <tr>\n",
              "      <th>WS7f5xpGYn8</th>\n",
              "      <th>Katy Perry - Hey Hey Hey (Official)</th>\n",
              "      <td>6776063</td>\n",
              "    </tr>\n",
              "    <tr>\n",
              "      <th>khPLWaBioOs</th>\n",
              "      <th>Logan Paul - SANTA DISS TRACK (Official Music Video)</th>\n",
              "      <td>6354734</td>\n",
              "    </tr>\n",
              "    <tr>\n",
              "      <th>817P8W8-mGE</th>\n",
              "      <th>Ed Sheeran - Perfect Duet (with Beyoncé) [Official Audio]</th>\n",
              "      <td>6047721</td>\n",
              "    </tr>\n",
              "    <tr>\n",
              "      <th>JcdLF6XQ0iw</th>\n",
              "      <th>PANCAKE ART CHALLENGE 4!!! Learn How To Make Mario Odyssey Star Wars Jedi Nintendo Food DIY Pancake</th>\n",
              "      <td>5996526</td>\n",
              "    </tr>\n",
              "    <tr>\n",
              "      <th>eiDiKwbGfIY</th>\n",
              "      <th>Ed Sheeran - Perfect Symphony (with Andrea Bocelli)</th>\n",
              "      <td>5923033</td>\n",
              "    </tr>\n",
              "    <tr>\n",
              "      <th>l_lblj8Cq0o</th>\n",
              "      <th>G-Eazy - No Limit REMIX ft. A$AP Rocky, Cardi B, French Montana, Juicy J, Belly</th>\n",
              "      <td>5520912</td>\n",
              "    </tr>\n",
              "    <tr>\n",
              "      <th>rRzxEiBLQCA</th>\n",
              "      <th>TWICE Heart Shaker M/V</th>\n",
              "      <td>5202033</td>\n",
              "    </tr>\n",
              "  </tbody>\n",
              "</table>\n",
              "</div>"
            ],
            "text/plain": [
              "                                                                   likes\n",
              "video_id    title                                                       \n",
              "6ZfuNTqbHE8 Marvel Studios' Avengers: Infinity War Official...  19819535\n",
              "FlsCjmMhFmw YouTube Rewind: The Shape of 2017 | #YouTubeRewind  19781372\n",
              "SM1w9PEQOE8 Demi Lovato - Tell Me You Love Me                    8379638\n",
              "WS7f5xpGYn8 Katy Perry - Hey Hey Hey (Official)                  6776063\n",
              "khPLWaBioOs Logan Paul - SANTA DISS TRACK (Official Music V...   6354734\n",
              "817P8W8-mGE Ed Sheeran - Perfect Duet (with Beyoncé) [Offic...   6047721\n",
              "JcdLF6XQ0iw PANCAKE ART CHALLENGE 4!!! Learn How To Make Ma...   5996526\n",
              "eiDiKwbGfIY Ed Sheeran - Perfect Symphony (with Andrea Boce...   5923033\n",
              "l_lblj8Cq0o G-Eazy - No Limit REMIX ft. A$AP Rocky, Cardi B...   5520912\n",
              "rRzxEiBLQCA TWICE Heart Shaker M/V                               5202033"
            ]
          },
          "metadata": {
            "tags": []
          },
          "execution_count": 78
        }
      ]
    },
    {
      "cell_type": "code",
      "metadata": {
        "id": "LYF2U5_ygfYB",
        "colab_type": "code",
        "colab": {}
      },
      "source": [
        "# 2018\n",
        "var = 'likes'\n",
        "mon = 1 # 1-6"
      ],
      "execution_count": 0,
      "outputs": []
    },
    {
      "cell_type": "code",
      "metadata": {
        "id": "JrxRtXWieQ1w",
        "colab_type": "code",
        "colab": {
          "base_uri": "https://localhost:8080/",
          "height": 390
        },
        "outputId": "877211ef-6e08-4657-c24d-34d71baac38b"
      },
      "source": [
        "df_2018.loc[df.trending_date.dt.month == mon, ['video_id', 'title', var]].groupby(['video_id', 'title']).sum().sort_values(var, ascending = False).head(10)"
      ],
      "execution_count": 75,
      "outputs": [
        {
          "output_type": "execute_result",
          "data": {
            "text/html": [
              "<div>\n",
              "<style scoped>\n",
              "    .dataframe tbody tr th:only-of-type {\n",
              "        vertical-align: middle;\n",
              "    }\n",
              "\n",
              "    .dataframe tbody tr th {\n",
              "        vertical-align: top;\n",
              "    }\n",
              "\n",
              "    .dataframe thead th {\n",
              "        text-align: right;\n",
              "    }\n",
              "</style>\n",
              "<table border=\"1\" class=\"dataframe\">\n",
              "  <thead>\n",
              "    <tr style=\"text-align: right;\">\n",
              "      <th></th>\n",
              "      <th></th>\n",
              "      <th>likes</th>\n",
              "    </tr>\n",
              "    <tr>\n",
              "      <th>video_id</th>\n",
              "      <th>title</th>\n",
              "      <th></th>\n",
              "    </tr>\n",
              "  </thead>\n",
              "  <tbody>\n",
              "    <tr>\n",
              "      <th>oWjxSkJpxFU</th>\n",
              "      <th>Suicide: Be Here Tomorrow.</th>\n",
              "      <td>12282280</td>\n",
              "    </tr>\n",
              "    <tr>\n",
              "      <th>dfnCAmr569k</th>\n",
              "      <th>Taylor Swift - End Game ft. Ed Sheeran, Future</th>\n",
              "      <td>11127424</td>\n",
              "    </tr>\n",
              "    <tr>\n",
              "      <th>LsoLEjrDogU</th>\n",
              "      <th>Bruno Mars - Finesse (Remix) [Feat. Cardi B] [Official Video]</th>\n",
              "      <td>9188754</td>\n",
              "    </tr>\n",
              "    <tr>\n",
              "      <th>QwZT7T-TXT0</th>\n",
              "      <th>So Sorry.</th>\n",
              "      <td>8495733</td>\n",
              "    </tr>\n",
              "    <tr>\n",
              "      <th>Mgfe5tIwOj0</th>\n",
              "      <th>Dua Lipa - IDGAF (Official Music Video)</th>\n",
              "      <td>6866042</td>\n",
              "    </tr>\n",
              "    <tr>\n",
              "      <th>VRJmcxCrAOA</th>\n",
              "      <th>Real Life Trick Shots 2 | Dude Perfect</th>\n",
              "      <td>6206553</td>\n",
              "    </tr>\n",
              "    <tr>\n",
              "      <th>J41qe-TM1DY</th>\n",
              "      <th>JONGHYUN 종현 '빛이 나 (Shinin’)' MV</th>\n",
              "      <td>5722350</td>\n",
              "    </tr>\n",
              "    <tr>\n",
              "      <th>eACohWVwTOc</th>\n",
              "      <th>The Chainsmokers - Sick Boy</th>\n",
              "      <td>3030806</td>\n",
              "    </tr>\n",
              "    <tr>\n",
              "      <th>k5TqNsr6YuQ</th>\n",
              "      <th>Troye Sivan - My My My!</th>\n",
              "      <td>2965742</td>\n",
              "    </tr>\n",
              "    <tr>\n",
              "      <th>ryr75N0nki0</th>\n",
              "      <th>Eminem - Walk On Water (Official Video) ft. Beyoncé</th>\n",
              "      <td>2646590</td>\n",
              "    </tr>\n",
              "  </tbody>\n",
              "</table>\n",
              "</div>"
            ],
            "text/plain": [
              "                                                                   likes\n",
              "video_id    title                                                       \n",
              "oWjxSkJpxFU Suicide: Be Here Tomorrow.                          12282280\n",
              "dfnCAmr569k Taylor Swift - End Game ft. Ed Sheeran, Future      11127424\n",
              "LsoLEjrDogU Bruno Mars - Finesse (Remix) [Feat. Cardi B] [O...   9188754\n",
              "QwZT7T-TXT0 So Sorry.                                            8495733\n",
              "Mgfe5tIwOj0 Dua Lipa - IDGAF (Official Music Video)              6866042\n",
              "VRJmcxCrAOA Real Life Trick Shots 2 | Dude Perfect               6206553\n",
              "J41qe-TM1DY JONGHYUN 종현 '빛이 나 (Shinin’)' MV                      5722350\n",
              "eACohWVwTOc The Chainsmokers - Sick Boy                          3030806\n",
              "k5TqNsr6YuQ Troye Sivan - My My My!                              2965742\n",
              "ryr75N0nki0 Eminem - Walk On Water (Official Video) ft. Bey...   2646590"
            ]
          },
          "metadata": {
            "tags": []
          },
          "execution_count": 75
        }
      ]
    },
    {
      "cell_type": "code",
      "metadata": {
        "id": "Bw6v4Azqzr6v",
        "colab_type": "code",
        "colab": {}
      },
      "source": [
        ""
      ],
      "execution_count": 0,
      "outputs": []
    }
  ]
}